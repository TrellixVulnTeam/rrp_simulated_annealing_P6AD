{
  "nbformat": 4,
  "nbformat_minor": 0,
  "metadata": {
    "colab": {
      "name": "Untitled11.ipynb",
      "provenance": [],
      "toc_visible": true,
      "authorship_tag": "ABX9TyOf8huuR4QMqd0XAjHFaEuu",
      "include_colab_link": true
    },
    "kernelspec": {
      "name": "python3",
      "display_name": "Python 3"
    }
  },
  "cells": [
    {
      "cell_type": "markdown",
      "metadata": {
        "id": "view-in-github",
        "colab_type": "text"
      },
      "source": [
        "<a href=\"https://colab.research.google.com/github/nicoelbert/vehicleroutingproblem/blob/main/vehicle_routing_solver.ipynb\" target=\"_parent\"><img src=\"https://colab.research.google.com/assets/colab-badge.svg\" alt=\"Open In Colab\"/></a>"
      ]
    },
    {
      "cell_type": "markdown",
      "metadata": {
        "id": "t9T1ofqY8zAE"
      },
      "source": [
        "#Vehicle Routing Problem\r\n",
        "vehicle routing problem on complete information using simmulated annealing"
      ]
    },
    {
      "cell_type": "markdown",
      "metadata": {
        "id": "BvsL24g5FDZT"
      },
      "source": [
        "#Preparation"
      ]
    },
    {
      "cell_type": "code",
      "metadata": {
        "id": "RJvLbXBT15bn",
        "colab": {
          "base_uri": "https://localhost:8080/"
        },
        "outputId": "c1c5b720-b6bc-4edb-dd28-cfa6b7f390c7"
      },
      "source": [
        "!git clone 'https://github.com/nicoelbert/vehicleroutingproblem'"
      ],
      "execution_count": 1,
      "outputs": [
        {
          "output_type": "stream",
          "text": [
            "fatal: destination path 'vehicleroutingproblem' already exists and is not an empty directory.\n"
          ],
          "name": "stdout"
        }
      ]
    },
    {
      "cell_type": "code",
      "metadata": {
        "id": "N0hjaYGWFGBh",
        "colab": {
          "base_uri": "https://localhost:8080/"
        },
        "outputId": "3faacd0c-eb51-455a-a707-cee6b3f5e6b9"
      },
      "source": [
        "#import packages\r\n",
        "import pandas as pd\r\n",
        "\r\n",
        "import sys\r\n",
        "#import classes\r\n",
        "\r\n",
        "\r\n",
        "!git pull\r\n",
        "%cd vehicleroutingproblem\r\n",
        "\r\n",
        "from classes import classes as cl"
      ],
      "execution_count": 2,
      "outputs": [
        {
          "output_type": "stream",
          "text": [
            "fatal: not a git repository (or any of the parent directories): .git\n",
            "/content/vehicleroutingproblem\n"
          ],
          "name": "stdout"
        }
      ]
    },
    {
      "cell_type": "code",
      "metadata": {
        "id": "WX6z7V4vzOcr",
        "colab": {
          "base_uri": "https://localhost:8080/"
        },
        "outputId": "ea2e62d8-2d1b-4e0c-8131-2dd689a9ce51"
      },
      "source": [
        "!git pull\r\n",
        "!ls"
      ],
      "execution_count": 3,
      "outputs": [
        {
          "output_type": "stream",
          "text": [
            "Already up to date.\n",
            "classes        README.md\t      vehicle_routing_solver.ipynb\n",
            "original_data  vehicleroutingproblem\n"
          ],
          "name": "stdout"
        }
      ]
    },
    {
      "cell_type": "markdown",
      "metadata": {
        "id": "lUxo_NKsCbDa"
      },
      "source": [
        "##Data Import"
      ]
    },
    {
      "cell_type": "code",
      "metadata": {
        "id": "a2c2UpP-8FZm",
        "colab": {
          "base_uri": "https://localhost:8080/"
        },
        "outputId": "fe8ebd0e-a785-49d3-c723-a376534aace1"
      },
      "source": [
        "#depot masterdata\r\n",
        "\r\n",
        "#load Masterdata from csv\r\n",
        "url = 'https://raw.githubusercontent.com/nicoelbert/vehicleroutingproblem/main/original_data/Depots.csv'\r\n",
        "df_depots = pd.read_csv(url)\r\n",
        "\r\n",
        "\r\n",
        "#load basetable\r\n",
        "url = 'https://raw.githubusercontent.com/nicoelbert/vehicleroutingproblem/main/original_data/preparedJobs.csv'\r\n",
        "df_jobs_org = pd.read_csv(url)\r\n",
        "\r\n",
        "#create and fill dict_depots\r\n",
        "\r\n",
        "dict_depots = {}\r\n",
        "\r\n",
        "for index, row in df_depots.iterrows():\r\n",
        "  depot = cl.Depot(row['Werk'],row['Werk_lon'],row['Werk_lat'])\r\n",
        "  dict_depots[row['Werk']] = depot\r\n",
        "\r\n",
        "print(\"{} depots created\".format(len(dict_depots)))\r\n",
        "\r\n",
        "\r\n",
        "#create and fill plants from df_jobs_org\r\n",
        "dict_plants = {}\r\n",
        "\r\n",
        "list_plant_names = df_jobs_org['Werk'].unique() \r\n",
        "\r\n",
        "for pn in list_plant_names:\r\n",
        "  row = df_jobs_org[df_jobs_org['Werk'] == pn].iloc[0]\r\n",
        "  plant = cl.Plant(row.Werk,row.Werk_lon,row.Werk_lat)\r\n",
        "  dict_plants[plant.name] = plant\r\n",
        "\r\n",
        "print(\"{} plants created\".format(len(dict_plants)))\r\n",
        "\r\n",
        "\r\n",
        "#create and fill sites from df_jobs_org\r\n",
        "\r\n",
        "dict_sites = {}\r\n",
        "\r\n",
        "df_sites = df_jobs_org[['plz','lon','lat']].copy()\r\n",
        "df_sites.drop_duplicates(inplace=True)\r\n",
        "\r\n",
        "\r\n",
        "for index, row in df_sites.iterrows():\r\n",
        "  site = cl.Site(row.plz,row.lon,row.lat)\r\n",
        "  dict_sites[site.name] = site\r\n",
        "\r\n",
        "\r\n",
        "print(\"{} sites created\".format(len(dict_sites)))\r\n",
        "\r\n",
        "\r\n",
        "#create and fill jobs from df_jobs_org\r\n",
        "\r\n",
        "\r\n",
        "dict_jobs = {}\r\n",
        "\r\n",
        "for index, row in df_jobs_org.iterrows():\r\n",
        "  plant = dict_plants[row.Werk]\r\n",
        "  site_name = str(row.plz) + '/' +str(row.lon) + '/' + str(row.lat)\r\n",
        "  site = dict_sites[site_name]\r\n",
        "  job = cl.Job(row.id, row.key, plant,row.Maschinentechnik,row.Material,row.Start_clean,row.End, row.Werktage, site )\r\n",
        "  dict_jobs[job.id] = job\r\n",
        "\r\n",
        "\r\n",
        "\r\n",
        "print(\"{} jobs created\".format(len(dict_jobs)))\r\n"
      ],
      "execution_count": 12,
      "outputs": [
        {
          "output_type": "stream",
          "text": [
            "15 depots created\n",
            "8 plants created\n",
            "6166 sites created\n",
            "53178 jobs created\n"
          ],
          "name": "stdout"
        }
      ]
    },
    {
      "cell_type": "code",
      "metadata": {
        "id": "dXftNExSj5sw",
        "colab": {
          "base_uri": "https://localhost:8080/"
        },
        "outputId": "6960aa47-c17f-437f-a5d7-bac4dcaa1dcf"
      },
      "source": [
        "#next steps:\r\n",
        "#-> create scatterplot for depots,plants and sights\r\n",
        "#-> evaluate number of jobs for start and end dates\r\n"
      ],
      "execution_count": 6,
      "outputs": [
        {
          "output_type": "stream",
          "text": [
            "15 depots created\n",
            "8 plants created\n",
            "6166 sites created\n",
            "53178 jobs created\n"
          ],
          "name": "stdout"
        }
      ]
    },
    {
      "cell_type": "markdown",
      "metadata": {
        "id": "X3xQ2KP36WXQ"
      },
      "source": [
        "##Backup"
      ]
    },
    {
      "cell_type": "code",
      "metadata": {
        "id": "Ts_m2n76kfK5"
      },
      "source": [
        "#backup\r\n",
        "\"\"\"\r\n",
        "\"Evaluation of Constructionsites\"\r\n",
        "print(len(df_jobs['plz'].unique()))\r\n",
        "print(len(df_jobs['lon'].unique()))\r\n",
        "print(len(df_jobs['lat'].unique()))\r\n",
        "#print(len(df_jobs[['lon','lat']]()))\r\n",
        "\r\n",
        "df_sites = df_jobs[['lon','lat']].copy()\r\n",
        "\r\n",
        "print(df_sites.shape)\r\n",
        "\r\n",
        "df_sites.drop_duplicates(inplace=True)\r\n",
        "\r\n",
        "\r\n",
        "print(df_sites.shape)\r\n",
        "k.key\r\n",
        "\"\"\""
      ],
      "execution_count": null,
      "outputs": []
    }
  ]
}