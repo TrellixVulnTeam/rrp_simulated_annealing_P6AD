{
  "nbformat": 4,
  "nbformat_minor": 0,
  "metadata": {
    "colab": {
      "name": "Untitled11.ipynb",
      "provenance": [],
      "toc_visible": true,
      "authorship_tag": "ABX9TyNjnq0zPKnYp3nIjhqeM/Bs",
      "include_colab_link": true
    },
    "kernelspec": {
      "name": "python3",
      "display_name": "Python 3"
    }
  },
  "cells": [
    {
      "cell_type": "markdown",
      "metadata": {
        "id": "view-in-github",
        "colab_type": "text"
      },
      "source": [
        "<a href=\"https://colab.research.google.com/github/nicoelbert/vehicleroutingproblem/blob/main/vehicle_routing_solver.ipynb\" target=\"_parent\"><img src=\"https://colab.research.google.com/assets/colab-badge.svg\" alt=\"Open In Colab\"/></a>"
      ]
    },
    {
      "cell_type": "markdown",
      "metadata": {
        "id": "t9T1ofqY8zAE"
      },
      "source": [
        "#Vehicle Routing Problem\r\n",
        "vehicle routing problem on complete information using simmulated annealing"
      ]
    },
    {
      "cell_type": "markdown",
      "metadata": {
        "id": "BvsL24g5FDZT"
      },
      "source": [
        "#Preparation"
      ]
    },
    {
      "cell_type": "code",
      "metadata": {
        "id": "RJvLbXBT15bn",
        "outputId": "48172cef-bc49-47b3-c852-0f3b402d5472",
        "colab": {
          "base_uri": "https://localhost:8080/"
        }
      },
      "source": [
        "!git clone 'https://github.com/nicoelbert/vehicleroutingproblem'"
      ],
      "execution_count": 1,
      "outputs": [
        {
          "output_type": "stream",
          "text": [
            "Cloning into 'vehicleroutingproblem'...\n",
            "remote: Enumerating objects: 62, done.\u001b[K\n",
            "remote: Counting objects: 100% (62/62), done.\u001b[K\n",
            "remote: Compressing objects: 100% (46/46), done.\u001b[K\n",
            "remote: Total 62 (delta 28), reused 39 (delta 14), pack-reused 0\u001b[K\n",
            "Unpacking objects: 100% (62/62), done.\n"
          ],
          "name": "stdout"
        }
      ]
    },
    {
      "cell_type": "code",
      "metadata": {
        "id": "N0hjaYGWFGBh",
        "colab": {
          "base_uri": "https://localhost:8080/"
        },
        "outputId": "06654d56-7429-4990-c3c4-308b42fb3252"
      },
      "source": [
        "#import packages\r\n",
        "import pandas as pd\r\n",
        "\r\n",
        "import sys\r\n",
        "#import classes\r\n",
        "\r\n",
        "\r\n",
        "!git pull\r\n",
        "%cd vehicleroutingproblem\r\n",
        "\r\n",
        "from classes import classes as cl"
      ],
      "execution_count": 7,
      "outputs": [
        {
          "output_type": "stream",
          "text": [
            "Already up to date.\n",
            "[Errno 2] No such file or directory: 'vehicleroutingproblem'\n",
            "/content/vehicleroutingproblem\n"
          ],
          "name": "stdout"
        }
      ]
    },
    {
      "cell_type": "code",
      "metadata": {
        "id": "WX6z7V4vzOcr",
        "colab": {
          "base_uri": "https://localhost:8080/"
        },
        "outputId": "37bb2255-1096-48a5-fdf0-caf91a9e403b"
      },
      "source": [
        "!git pull\r\n",
        "!ls"
      ],
      "execution_count": 3,
      "outputs": [
        {
          "output_type": "stream",
          "text": [
            "Already up to date.\n",
            "classes  original_data\tREADME.md  vehicle_routing_solver.ipynb\n"
          ],
          "name": "stdout"
        }
      ]
    },
    {
      "cell_type": "markdown",
      "metadata": {
        "id": "lUxo_NKsCbDa"
      },
      "source": [
        "##Data Import"
      ]
    },
    {
      "cell_type": "code",
      "metadata": {
        "id": "a2c2UpP-8FZm"
      },
      "source": [
        "#depot masterdata\r\n",
        "\r\n",
        "#load Masterdata from csv\r\n",
        "url = 'https://raw.githubusercontent.com/nicoelbert/vehicleroutingproblem/main/original_data/Depots.csv'\r\n",
        "df_depots = pd.read_csv(url)\r\n",
        "\r\n",
        "\r\n",
        "#load basetable\r\n",
        "url = 'https://raw.githubusercontent.com/nicoelbert/vehicleroutingproblem/main/original_data/preparedJobs.csv'\r\n",
        "df_jobs = pd.read_csv(url)\r\n",
        "\r\n",
        "\r\n",
        "#next steps load data into classes\r\n",
        "#create dictionary for each class"
      ],
      "execution_count": 4,
      "outputs": []
    },
    {
      "cell_type": "code",
      "metadata": {
        "id": "dXftNExSj5sw"
      },
      "source": [
        ""
      ],
      "execution_count": null,
      "outputs": []
    },
    {
      "cell_type": "code",
      "metadata": {
        "id": "Ts_m2n76kfK5",
        "outputId": "7cdace77-ae61-49dd-d1a9-5c94a33dd78e",
        "colab": {
          "base_uri": "https://localhost:8080/",
          "height": 120
        }
      },
      "source": [
        "#backup\r\n",
        "\r\n",
        "\"Evaluation of Constructionsites\"\r\n",
        "print(len(df_jobs['plz'].unique()))\r\n",
        "print(len(df_jobs['lon'].unique()))\r\n",
        "print(len(df_jobs['lat'].unique()))\r\n",
        "#print(len(df_jobs[['lon','lat']]()))\r\n",
        "\r\n",
        "df_sites = df_jobs[['lon','lat']].copy()\r\n",
        "\r\n",
        "print(df_sites.shape)\r\n",
        "\r\n",
        "df_sites.drop_duplicates(inplace=True)\r\n",
        "\r\n",
        "\r\n",
        "print(df_sites.shape)\r\n",
        "k.key"
      ],
      "execution_count": 10,
      "outputs": [
        {
          "output_type": "stream",
          "text": [
            "6166\n",
            "6158\n",
            "6158\n",
            "(53178, 2)\n",
            "(6158, 2)\n"
          ],
          "name": "stdout"
        },
        {
          "output_type": "execute_result",
          "data": {
            "application/vnd.google.colaboratory.intrinsic+json": {
              "type": "string"
            },
            "text/plain": [
              "'701010'"
            ]
          },
          "metadata": {
            "tags": []
          },
          "execution_count": 10
        }
      ]
    }
  ]
}