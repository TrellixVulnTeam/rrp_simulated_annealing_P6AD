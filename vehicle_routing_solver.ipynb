{
 "cells": [
  {
   "cell_type": "markdown",
   "metadata": {
    "colab_type": "text",
    "id": "view-in-github"
   },
   "source": [
    "<a href=\"https://colab.research.google.com/github/nicoelbert/vehicleroutingproblem/blob/main/vehicle_routing_solver.ipynb\" target=\"_parent\"><img src=\"https://colab.research.google.com/assets/colab-badge.svg\" alt=\"Open In Colab\"/></a>"
   ]
  },
  {
   "cell_type": "markdown",
   "metadata": {
    "id": "t9T1ofqY8zAE"
   },
   "source": [
    "#Vehicle Routing Problem\n",
    "vehicle routing problem on complete information using simmulated annealing"
   ]
  },
  {
   "cell_type": "markdown",
   "metadata": {
    "id": "BvsL24g5FDZT"
   },
   "source": [
    "#Preparation"
   ]
  },
  {
   "cell_type": "code",
   "execution_count": 11,
   "metadata": {
    "colab": {
     "base_uri": "https://localhost:8080/"
    },
    "id": "RJvLbXBT15bn",
    "outputId": "4883e7d3-c7d0-43ea-b99e-11d16f697ef5"
   },
   "outputs": [
    {
     "name": "stdout",
     "output_type": "stream",
     "text": [
      "Requirement already satisfied: networkx in c:\\users\\nutzer\\anaconda3\\lib\\site-packages (2.5)\n",
      "Requirement already satisfied: decorator>=4.3.0 in c:\\users\\nutzer\\anaconda3\\lib\\site-packages (from networkx) (4.4.2)\n",
      "Requirement already satisfied: pulp in c:\\users\\nutzer\\anaconda3\\lib\\site-packages (2.4)\n",
      "Requirement already satisfied: amply>=0.1.2 in c:\\users\\nutzer\\anaconda3\\lib\\site-packages (from pulp) (0.1.4)\n",
      "Requirement already satisfied: pyparsing in c:\\users\\nutzer\\anaconda3\\lib\\site-packages (from amply>=0.1.2->pulp) (2.4.7)\n",
      "Requirement already satisfied: docutils>=0.3 in c:\\users\\nutzer\\anaconda3\\lib\\site-packages (from amply>=0.1.2->pulp) (0.16)\n",
      "Requirement already satisfied: plotly in c:\\users\\nutzer\\anaconda3\\lib\\site-packages (4.14.1)\n",
      "Requirement already satisfied: six in c:\\users\\nutzer\\anaconda3\\lib\\site-packages (from plotly) (1.15.0)\n",
      "Requirement already satisfied: retrying>=1.3.3 in c:\\users\\nutzer\\anaconda3\\lib\\site-packages (from plotly) (1.3.3)\n",
      "[WinError 2] Das System kann die angegebene Datei nicht finden: 'vehicleroutingproblem'\n",
      "C:\\Users\\Nutzer\\Documents\\GitHub\\rrp_simulated_annealing\n"
     ]
    }
   ],
   "source": [
    "#inital run\n",
    "if True:\n",
    "    !pip install networkx\n",
    "    !pip install pulp\n",
    "    !pip install plotly\n",
    "    #!git clone 'https://github.com/nicoelbert/vehicleroutingproblem'\n",
    "    %cd vehicleroutingproblem\n"
   ]
  },
  {
   "cell_type": "code",
   "execution_count": 12,
   "metadata": {
    "colab": {
     "base_uri": "https://localhost:8080/"
    },
    "id": "N0hjaYGWFGBh",
    "outputId": "cfcbddba-4d0d-49cd-c26e-831a384f5d3d"
   },
   "outputs": [
    {
     "data": {
      "text/plain": "<IPython.core.display.HTML object>",
      "text/html": "<style>.container { width:100% !important; }</style>"
     },
     "metadata": {},
     "output_type": "display_data"
    }
   ],
   "source": [
    "#import packages\n",
    "import pandas as pd\n",
    "import sys\n",
    "import matplotlib.pyplot as plt\n",
    "from datetime import datetime\n",
    "import logging\n",
    "\n",
    "#custom calsses\n",
    "#!git pull\n",
    "from classes import classes as cl\n",
    "from functions import functions as fc\n",
    "from functions import routing as rt\n",
    "\n",
    "from IPython.core.display import display, HTML\n",
    "display(HTML(\"<style>.container { width:100% !important; }</style>\"))\n",
    "#connect drive for exports\n",
    "#!pip install google\n",
    "#from google.colab import drive\n",
    "#drive.mount('/content/drive')\n",
    "string_exp_path = 'output'\n"
   ]
  },
  {
   "cell_type": "code",
   "execution_count": 13,
   "metadata": {
    "id": "eKuQf2PJYsD5"
   },
   "outputs": [],
   "source": [
    "logging.basicConfig(filename=\"inital_routing_log.log\", level=logging.INFO)\n"
   ]
  },
  {
   "cell_type": "code",
   "execution_count": 14,
   "metadata": {
    "colab": {
     "base_uri": "https://localhost:8080/"
    },
    "id": "WX6z7V4vzOcr",
    "outputId": "d4e665f2-c776-46dc-f3f4-782e49075549"
   },
   "outputs": [],
   "source": [
    "#!git pull\n",
    "#ls()"
   ]
  },
  {
   "cell_type": "markdown",
   "metadata": {
    "id": "Cgh5s_hiWG8d"
   },
   "source": []
  },
  {
   "cell_type": "markdown",
   "metadata": {
    "id": "lUxo_NKsCbDa"
   },
   "source": [
    "##Data Import"
   ]
  },
  {
   "cell_type": "code",
   "execution_count": 14,
   "metadata": {
    "id": "Hd9tiPHkE-t9"
   },
   "outputs": [],
   "source": []
  },
  {
   "cell_type": "code",
   "execution_count": 15,
   "metadata": {
    "colab": {
     "base_uri": "https://localhost:8080/"
    },
    "id": "a2c2UpP-8FZm",
    "outputId": "6dcfef62-aee8-468a-d6d6-c7b642d0d6da"
   },
   "outputs": [
    {
     "name": "stdout",
     "output_type": "stream",
     "text": [
      "Starting with Data Import at 21:43:53\n",
      "15 depots created\n",
      "8 plants created\n",
      "6166 sites created\n",
      "53178 jobs created\n",
      "Working with 915 relevant days\n",
      "13710 tours created\n",
      "Done with Data Import at 21:44:07\n"
     ]
    }
   ],
   "source": [
    "#depot masterdata\n",
    "fc.print_log(\"Starting with Data Import at {}\".format(fc.get_time()))\n",
    "\n",
    "\n",
    "\n",
    "#load Masterdata from csv\n",
    "url = 'https://raw.githubusercontent.com/nicoelbert/vehicleroutingproblem/main/original_data/Depots.csv'\n",
    "df_depots = pd.read_csv(url)\n",
    "\n",
    "\n",
    "#load basetable\n",
    "url = 'https://raw.githubusercontent.com/nicoelbert/vehicleroutingproblem/main/original_data/preparedJobs.csv'\n",
    "df_jobs_org = pd.read_csv(url)\n",
    "\n",
    "#create and fill dict_depots\n",
    "\n",
    "dict_depots = {}\n",
    "list_depots = []\n",
    "\n",
    "for index, row in df_depots.iterrows():\n",
    "  depot = cl.Depot(row['Werk'],row['Werk_lon'],row['Werk_lat'])\n",
    "  dict_depots[row['Werk']] = depot\n",
    "  list_depots.append(depot)\n",
    "\n",
    "\n",
    "fc.print_log(\"{} depots created\".format(len(dict_depots)))\n",
    "\n",
    "#create and fill plants from df_jobs_org\n",
    "dict_plants = {}\n",
    "list_plants = []\n",
    "\n",
    "list_plant_names = df_jobs_org['Werk'].unique() \n",
    "\n",
    "for pn in list_plant_names:\n",
    "  row = df_jobs_org[df_jobs_org['Werk'] == pn].iloc[0]\n",
    "  plant = cl.Plant(row.Werk,row.Werk_lon,row.Werk_lat)\n",
    "  dict_plants[plant.name] = plant\n",
    "  list_plants.append(plant)\n",
    "\n",
    "fc.print_log(\"{} plants created\".format(len(dict_plants)))\n",
    "\n",
    "#create and fill sites from df_jobs_org\n",
    "\n",
    "dict_sites = {}\n",
    "list_sites = []\n",
    "\n",
    "df_sites = df_jobs_org[['plz','lon','lat']].copy()\n",
    "df_sites.drop_duplicates(inplace=True)\n",
    "\n",
    "\n",
    "for index, row in df_sites.iterrows():\n",
    "  site = cl.Site(row.plz,row.lon,row.lat)\n",
    "  dict_sites[site.name] = site\n",
    "  list_sites.append(site)\n",
    "\n",
    "\n",
    "fc.print_log(\"{} sites created\".format(len(dict_sites)))\n",
    "\n",
    "#create and fill jobs from df_jobs_org\n",
    "dict_jobs = {}\n",
    "list_jobs = []\n",
    "list_emsen_jobs = []\n",
    "\n",
    "for index, row in df_jobs_org.iterrows():\n",
    "  plant = dict_plants[row.Werk]\n",
    "  site_name = str(row.plz) + '/' +str(row.lon) + '/' + str(row.lat)\n",
    "  site = dict_sites[site_name]\n",
    "  prox_depot = rt.get_proxdepot(site,plant,list_depots)\n",
    "  job = cl.Job(row.id, row.key, plant,row.Maschinentechnik,row.Material,row.Start_clean,(row.Start_clean + row.Werktage), row.Werktage, site, prox_depot )\n",
    "  dict_jobs[job.name] = job\n",
    "  list_jobs.append(job)\n",
    "\n",
    "\n",
    "fc.print_log(\"{} jobs created\".format(len(dict_jobs)))\n",
    "\n",
    "#create list of days\n",
    "# since the timespan is 1208 days and there are only 895 relevant days lets work with these first\n",
    "#create 10 extra days on each bound to avoid key errors\n",
    "\n",
    "list_days = []\n",
    "day_ub = 0\n",
    "day_lb = 999999999\n",
    "\n",
    "for j in list_jobs: \n",
    "  if j.start not in list_days:\n",
    "    list_days.append(j.start)\n",
    "  if j.end not in list_days:\n",
    "    list_days.append(j.end)\n",
    "    \n",
    "for day in list_days:\n",
    "    if day > day_ub:\n",
    "        day_ub = day\n",
    "    if day_lb < day_lb: \n",
    "        day_lb = day\n",
    "\n",
    "for i in range(10):\n",
    "    list_days.append(day_ub+i)\n",
    "    list_days.append(day_lb-i)\n",
    "\n",
    "\n",
    "list_days.sort()\n",
    "fc.print_log(\"Working with {} relevant days\".format(len(list_days)))\n",
    "\n",
    "#create one tour for each day and depot\n",
    "\n",
    "dict_tours = {}\n",
    "total_tours_created = 0\n",
    "\n",
    "for depot in dict_depots:\n",
    "  dict_tours[depot] = {}\n",
    "\n",
    "for depot in list_depots:\n",
    "  for day in list_days:\n",
    "    dict_tours[depot.name][day] = cl.Tour(depot,day)\n",
    "  total_tours_created += len(dict_tours[depot.name])\n",
    "\n",
    "fc.print_log(\"{} tours created\".format(total_tours_created))\n",
    "\n",
    "#define dict of objects for persistation\n",
    "persistation_objects = {}\n",
    "persistation_objects['dict_depots'] = dict_depots\n",
    "persistation_objects['dict_sites'] = dict_sites\n",
    "persistation_objects['dict_plants'] = dict_plants\n",
    "persistation_objects['dict_jobs'] = dict_jobs\n",
    "persistation_objects['dict_tours'] = dict_tours\n",
    "persistation_objects['list_days'] = list_days\n",
    "\n",
    "    \n",
    "fc.print_log(\"Done with Data Import at {}\".format(fc.get_time()))"
   ]
  },
  {
   "cell_type": "markdown",
   "metadata": {
    "id": "6c67MQUaCxsE"
   },
   "source": [
    "Visualize Data\n"
   ]
  },
  {
   "cell_type": "code",
   "execution_count": 16,
   "metadata": {
    "colab": {
     "base_uri": "https://localhost:8080/",
     "height": 664
    },
    "id": "ELOJlf9fG7aH",
    "outputId": "ee45aa70-4ac7-4da3-b033-449854c82793"
   },
   "outputs": [
    {
     "name": "stderr",
     "output_type": "stream",
     "text": [
      "C:\\Users\\Nutzer\\Documents\\GitHub\\rrp_simulated_annealing\\functions\\functions.py:42: MatplotlibDeprecationWarning:\n",
      "\n",
      "Adding an axes using the same arguments as a previous axes currently reuses the earlier instance.  In a future version, a new instance will always be created and returned.  Meanwhile, this warning can be suppressed, and the future behavior ensured, by passing a unique label to each axes instance.\n",
      "\n"
     ]
    },
    {
     "data": {
      "text/plain": "<Figure size 1200x800 with 1 Axes>",
      "image/png": "[encoded data removed]"
     },
     "metadata": {},
     "output_type": "display_data"
    }
   ],
   "source": [
    "fc.get_map(list_depots,list_plants,list_sites)"
   ]
  },
  {
   "cell_type": "markdown",
   "metadata": {
    "id": "_krSgFrHWrIQ"
   },
   "source": [
    "Inital Solution"
   ]
  },
  {
   "cell_type": "code",
   "execution_count": 17,
   "metadata": {
    "colab": {
     "base_uri": "https://localhost:8080/"
    },
    "id": "YFuFG2yI0_A8",
    "outputId": "757ed44a-973b-4fc2-d2c8-63bca9ac83e4"
   },
   "outputs": [
    {
     "name": "stdout",
     "output_type": "stream",
     "text": [
      "Starting with inital solution at 21:44:07\n",
      "Warning at Tour from Neuherberg and day 16883 - 2 plants listed\n",
      "['Lauterhofen', 'Neuherberg']\n",
      "Warning at Tour from Neuherberg and day 16900 - 2 plants listed\n",
      "['Lauterhofen', 'Neuherberg']\n",
      "Warning at Tour from Embsen and day 17032 - 2 plants listed\n",
      "['Embsen', 'Rottleberode']\n",
      "Warning at Tour from Embsen and day 17042 - 2 plants listed\n",
      "['Embsen', 'Rottleberode']\n",
      "Starting reassignmentat 21:44:08\n",
      "Done with reassignment at 21:44:08 - 0 tasks reassigned\n",
      "Starting quicksave at 21:44:08\n",
      "Done with persitation at 21:44:08\n",
      "Starting quicksave at 21:44:32on day 17146 is 5957.0089386084055 - 499/13710  done - 460 filled - total distance: 2566308.25746845 - 1 plant(s) detected - t: 21:44:32\u001B[1K\r\r\r[1K\u001B[1K\u001B[1K\u001B[1KDistance for depot Neuherberg on day 16736 is 4445.789419847686 - 96/13710  done - 59 filled - total distance: 137047.04606775788 - 1 plant(s) detected - t: 21:44:09\u001B[1KDistance for depot Neuherberg on day 16741 is 4941.164613907655 - 101/13710  done - 64 filled - total distance: 165360.99873491345 - 1 plant(s) detected - t: 21:44:09\u001B[1KDistance for depot Neuherberg on day 16744 is 8396.637399975953 - 104/13710  done - 67 filled - total distance: 183597.82839887802 - 1 plant(s) detected - t: 21:44:09\u001B[1KDistance for depot Neuherberg on day 16748 is 5345.104520915769 - 108/13710  done - 71 filled - total distance: 208490.13789904618 - 1 plant(s) detected - t: 21:44:09\u001B[1KDistance for depot Neuherberg on day 16752 is 5179.783567274915 - 112/13710  done - 75 filled - total distance: 230770.02624208934 - 1 plant(s) detected - t: 21:44:10\u001B[1KDistance for depot Neuherberg on day 16756 is 4828.93903079171 - 116/13710  done - 79 filled - total distance: 259288.9531487664 - 1 plant(s) detected - t: 21:44:10\u001B[1KDistance for depot Neuherberg on day 16759 is 6356.076531044485 - 119/13710  done - 82 filled - total distance: 277784.1724185473 - 1 plant(s) detected - t: 21:44:10\u001B[1KDistance for depot Neuherberg on day 16763 is 7489.213583822743 - 123/13710  done - 86 filled - total distance: 298916.6092934122 - 1 plant(s) detected - t: 21:44:10\u001B[1K\u001B[1KDistance for depot Neuherberg on day 16773 is 4988.019475927685 - 131/13710  done - 94 filled - total distance: 345145.45061098615 - 1 plant(s) detected - t: 21:44:11\u001B[1KDistance for depot Neuherberg on day 16777 is 5912.23846393844 - 135/13710  done - 98 filled - total distance: 366602.7973267248 - 1 plant(s) detected - t: 21:44:11\u001B[1KDistance for depot Neuherberg on day 16780 is 5986.67263196516 - 138/13710  done - 101 filled - total distance: 388834.21939819993 - 1 plant(s) detected - t: 21:44:11\u001B[1KDistance for depot Neuherberg on day 16784 is 5221.878710946932 - 142/13710  done - 105 filled - total distance: 413151.33073996793 - 1 plant(s) detected - t: 21:44:11\u001B[1KDistance for depot Neuherberg on day 16788 is 5686.057777360869 - 146/13710  done - 109 filled - total distance: 433702.0412228058 - 1 plant(s) detected - t: 21:44:12\u001B[1K\u001B[1KDistance for depot Neuherberg on day 16796 is 5145.967848924092 - 154/13710  done - 117 filled - total distance: 481037.6235105468 - 1 plant(s) detected - t: 21:44:12\u001B[1KDistance for depot Neuherberg on day 16802 is 5578.4194085117615 - 159/13710  done - 122 filled - total distance: 505367.1471635228 - 1 plant(s) detected - t: 21:44:12\u001B[1KDistance for depot Neuherberg on day 16806 is 6856.053044796545 - 163/13710  done - 126 filled - total distance: 530803.0291367146 - 1 plant(s) detected - t: 21:44:13\u001B[1K\u001B[1K\u001B[1KDistance for depot Neuherberg on day 16819 is 8138.656808315736 - 176/13710  done - 139 filled - total distance: 616062.5597997861 - 1 plant(s) detected - t: 21:44:13\u001B[1K\u001B[1K\u001B[1KDistance for depot Neuherberg on day 16829 is 7481.03103136649 - 186/13710  done - 149 filled - total distance: 680958.8796599302 - 1 plant(s) detected - t: 21:44:14\u001B[1K\u001B[1K\u001B[1K\u001B[1KDistance for depot Neuherberg on day 16842 is 5889.988302296913 - 199/13710  done - 162 filled - total distance: 763479.5455391847 - 1 plant(s) detected - t: 21:44:15\u001B[1KDistance for depot Neuherberg on day 16845 is 6839.292602384476 - 202/13710  done - 165 filled - total distance: 783112.6123726361 - 1 plant(s) detected - t: 21:44:15\u001B[1KDistance for depot Neuherberg on day 16848 is 6457.765292869845 - 205/13710  done - 168 filled - total distance: 804583.7121614658 - 1 plant(s) detected - t: 21:44:15\u001B[1K\u001B[1KDistance for depot Neuherberg on day 16853 is 5982.331546345254 - 210/13710  done - 173 filled - total distance: 841960.1223918106 - 1 plant(s) detected - t: 21:44:16\u001B[1KDistance for depot Neuherberg on day 16856 is 5982.867648850919 - 213/13710  done - 176 filled - total distance: 863691.9764464893 - 1 plant(s) detected - t: 21:44:16\u001B[1KDistance for depot Neuherberg on day 16859 is 6358.069558536487 - 216/13710  done - 179 filled - total distance: 882476.5213252762 - 1 plant(s) detected - t: 21:44:16\u001B[1KDistance for depot Neuherberg on day 16862 is 6045.268475821629 - 219/13710  done - 182 filled - total distance: 901708.8117013916 - 1 plant(s) detected - t: 21:44:16\u001B[1KDistance for depot Neuherberg on day 16866 is 4858.88821553469 - 223/13710  done - 186 filled - total distance: 929089.9754467787 - 1 plant(s) detected - t: 21:44:17\u001B[1KDistance for depot Neuherberg on day 16870 is 4274.768812200226 - 227/13710  done - 190 filled - total distance: 957813.4502544386 - 1 plant(s) detected - t: 21:44:17\u001B[1KDistance for depot Neuherberg on day 16875 is 6147.661469747369 - 232/13710  done - 195 filled - total distance: 980684.7568340435 - 1 plant(s) detected - t: 21:44:17\u001B[1K\u001B[1KDistance for depot Neuherberg on day 16883 is 9781.03973728372 - 240/13710  done - 203 filled - total distance: 1025815.3361037521 - 2 plant(s) detected - t: 21:44:17\u001B[1K\u001B[1KDistance for depot Neuherberg on day 16889 is 9610.244914275001 - 246/13710  done - 209 filled - total distance: 1066987.931768572 - 1 plant(s) detected - t: 21:44:18\u001B[1KDistance for depot Neuherberg on day 16893 is 7115.6798389125615 - 250/13710  done - 213 filled - total distance: 1090881.1367085404 - 1 plant(s) detected - t: 21:44:18\u001B[1K\u001B[1KDistance for depot Neuherberg on day 16899 is 5971.808837695096 - 256/13710  done - 219 filled - total distance: 1131455.7394720048 - 1 plant(s) detected - t: 21:44:19\u001B[1K\u001B[1K\u001B[1K\u001B[1KDistance for depot Neuherberg on day 16913 is 7735.007437702456 - 270/13710  done - 233 filled - total distance: 1216751.8971358545 - 1 plant(s) detected - t: 21:44:19\u001B[1KDistance for depot Neuherberg on day 16916 is 6972.882543784384 - 273/13710  done - 236 filled - total distance: 1241548.5182538626 - 1 plant(s) detected - t: 21:44:20\u001B[1K\u001B[1KDistance for depot Neuherberg on day 16923 is 6899.712850347654 - 280/13710  done - 243 filled - total distance: 1282181.4480072903 - 1 plant(s) detected - t: 21:44:20\u001B[1KDistance for depot Neuherberg on day 16926 is 6686.686399841988 - 283/13710  done - 246 filled - total distance: 1303463.3511652518 - 1 plant(s) detected - t: 21:44:20\u001B[1K\u001B[1KDistance for depot Neuherberg on day 16933 is 7921.250231700077 - 290/13710  done - 253 filled - total distance: 1350134.372006195 - 1 plant(s) detected - t: 21:44:21\u001B[1KDistance for depot Neuherberg on day 16935 is 9278.70813700073 - 292/13710  done - 255 filled - total distance: 1364374.1628517876 - 1 plant(s) detected - t: 21:44:21\u001B[1K\u001B[1KDistance for depot Neuherberg on day 16942 is 8251.052775112832 - 299/13710  done - 262 filled - total distance: 1408564.8241377042 - 1 plant(s) detected - t: 21:44:21\u001B[1KDistance for depot Neuherberg on day 16944 is 6763.668670974276 - 301/13710  done - 264 filled - total distance: 1424067.4185896218 - 1 plant(s) detected - t: 21:44:22\u001B[1KDistance for depot Neuherberg on day 16948 is 6672.328832984852 - 305/13710  done - 268 filled - total distance: 1445054.0169665746 - 1 plant(s) detected - t: 21:44:22\u001B[1KDistance for depot Neuherberg on day 16951 is 5337.910988499897 - 308/13710  done - 271 filled - total distance: 1465148.831930886 - 1 plant(s) detected - t: 21:44:22\u001B[1KDistance for depot Neuherberg on day 16954 is 5385.8786464760615 - 311/13710  done - 274 filled - total distance: 1485031.0654478294 - 1 plant(s) detected - t: 21:44:22\u001B[1KDistance for depot Neuherberg on day 16958 is 5190.81612098382 - 315/13710  done - 278 filled - total distance: 1509289.2539112756 - 1 plant(s) detected - t: 21:44:22\u001B[1KDistance for depot Neuherberg on day 16962 is 10512.53037755515 - 319/13710  done - 282 filled - total distance: 1533329.3462555541 - 1 plant(s) detected - t: 21:44:23\u001B[1K\u001B[1K\u001B[1K\u001B[1KDistance for depot Neuherberg on day 16992 is 6406.060625813015 - 348/13710  done - 309 filled - total distance: 1654220.6200794983 - 1 plant(s) detected - t: 21:44:24\u001B[1KDistance for depot Neuherberg on day 16997 is 5541.468833443297 - 353/13710  done - 314 filled - total distance: 1681070.8783512176 - 1 plant(s) detected - t: 21:44:24\u001B[1KDistance for depot Neuherberg on day 17002 is 7240.5634833791255 - 358/13710  done - 319 filled - total distance: 1706098.1290219047 - 1 plant(s) detected - t: 21:44:24\u001B[1KDistance for depot Neuherberg on day 17006 is 7740.851606628046 - 362/13710  done - 323 filled - total distance: 1728811.2929941872 - 1 plant(s) detected - t: 21:44:24\u001B[1K\u001B[1KDistance for depot Neuherberg on day 17013 is 7401.231563822156 - 369/13710  done - 330 filled - total distance: 1772092.8731418897 - 1 plant(s) detected - t: 21:44:25\u001B[1KDistance for depot Neuherberg on day 17017 is 6376.981815808625 - 373/13710  done - 334 filled - total distance: 1798961.7408717484 - 1 plant(s) detected - t: 21:44:25\u001B[1KDistance for depot Neuherberg on day 17021 is 5056.967241490522 - 377/13710  done - 338 filled - total distance: 1821327.8206260044 - 1 plant(s) detected - t: 21:44:25\u001B[1KDistance for depot Neuherberg on day 17025 is 4780.498374688712 - 381/13710  done - 342 filled - total distance: 1846536.3356038698 - 1 plant(s) detected - t: 21:44:25\u001B[1KDistance for depot Neuherberg on day 17029 is 7261.707427851092 - 385/13710  done - 346 filled - total distance: 1869573.134602641 - 1 plant(s) detected - t: 21:44:26\u001B[1KDistance for depot Neuherberg on day 17033 is 6946.1988394469245 - 389/13710  done - 350 filled - total distance: 1897376.9234417314 - 1 plant(s) detected - t: 21:44:26\u001B[1KDistance for depot Neuherberg on day 17037 is 5011.928388671975 - 393/13710  done - 354 filled - total distance: 1924093.619071866 - 1 plant(s) detected - t: 21:44:26\u001B[1KDistance for depot Neuherberg on day 17040 is 5390.549281795474 - 396/13710  done - 357 filled - total distance: 1942051.781620976 - 1 plant(s) detected - t: 21:44:26\u001B[1KDistance for depot Neuherberg on day 17044 is 6998.22660130904 - 400/13710  done - 361 filled - total distance: 1963310.6182527416 - 1 plant(s) detected - t: 21:44:26\u001B[1K\u001B[1KDistance for depot Neuherberg on day 17053 is 6110.324234220343 - 407/13710  done - 368 filled - total distance: 2005937.9612511632 - 1 plant(s) detected - t: 21:44:27\u001B[1KDistance for depot Neuherberg on day 17056 is 5680.208222614791 - 410/13710  done - 371 filled - total distance: 2024785.1968483517 - 1 plant(s) detected - t: 21:44:27\u001B[1KDistance for depot Neuherberg on day 17060 is 6200.605747903304 - 414/13710  done - 375 filled - total distance: 2056319.000969015 - 1 plant(s) detected - t: 21:44:27\u001B[1KDistance for depot Neuherberg on day 17063 is 6957.7567268725 - 417/13710  done - 378 filled - total distance: 2074034.116777561 - 1 plant(s) detected - t: 21:44:28\u001B[1KDistance for depot Neuherberg on day 17067 is 4652.4387433990605 - 421/13710  done - 382 filled - total distance: 2097645.428491096 - 1 plant(s) detected - t: 21:44:28\u001B[1K\u001B[1K\u001B[1K\u001B[1KDistance for depot Neuherberg on day 17085 is 6798.206814938773 - 438/13710  done - 399 filled - total distance: 2199297.647204477 - 1 plant(s) detected - t: 21:44:29\u001B[1KDistance for depot Neuherberg on day 17089 is 6607.109823069278 - 442/13710  done - 403 filled - total distance: 2222667.2920860266 - 1 plant(s) detected - t: 21:44:29\u001B[1K\u001B[1KDistance for depot Neuherberg on day 17097 is 7715.284439198063 - 450/13710  done - 411 filled - total distance: 2281484.2669600896 - 1 plant(s) detected - t: 21:44:29\u001B[1KDistance for depot Neuherberg on day 17099 is 7868.219101036138 - 452/13710  done - 413 filled - total distance: 2297140.366761919 - 1 plant(s) detected - t: 21:44:29\u001B[1KDistance for depot Neuherberg on day 17102 is 5874.125721871177 - 455/13710  done - 416 filled - total distance: 2316928.6937138448 - 1 plant(s) detected - t: 21:44:30\u001B[1KDistance for depot Neuherberg on day 17105 is 8502.821720348054 - 458/13710  done - 419 filled - total distance: 2334881.819069107 - 1 plant(s) detected - t: 21:44:30\u001B[1K\u001B[1KDistance for depot Neuherberg on day 17111 is 6938.396129360265 - 464/13710  done - 425 filled - total distance: 2375239.3949506134 - 1 plant(s) detected - t: 21:44:30\u001B[1KDistance for depot Neuherberg on day 17114 is 5335.776392929396 - 467/13710  done - 428 filled - total distance: 2394000.989886006 - 1 plant(s) detected - t: 21:44:31\u001B[1KDistance for depot Neuherberg on day 17118 is 6966.708501727553 - 471/13710  done - 432 filled - total distance: 2415323.2926604 - 1 plant(s) detected - t: 21:44:31\u001B[1KDistance for depot Neuherberg on day 17121 is 6060.30237121618 - 474/13710  done - 435 filled - total distance: 2435432.48532499 - 1 plant(s) detected - t: 21:44:31\u001B[1KDistance for depot Neuherberg on day 17125 is 5027.4698176360325 - 478/13710  done - 439 filled - total distance: 2458597.911768737 - 1 plant(s) detected - t: 21:44:31\u001B[1KDistance for depot Neuherberg on day 17130 is 5849.308175481122 - 483/13710  done - 444 filled - total distance: 2486623.492045395 - 1 plant(s) detected - t: 21:44:31\u001B[1KDistance for depot Neuherberg on day 17133 is 4178.973322919658 - 486/13710  done - 447 filled - total distance: 2502253.6159939007 - 1 plant(s) detected - t: 21:44:32\u001B[1K\u001B[1KDistance for depot Neuherberg on day 17143 is 7014.597227621467 - 496/13710  done - 457 filled - total distance: 2546372.368324047 - 1 plant(s) detected - t: 21:44:32\u001B[1KDistance for depot Neuherberg on day 17147 is 4867.597024191023 - 500/13710  done - 461 filled - total distance: 2572265.266407058 - 1 plant(s) detected - t: 21:44:32\u001B[1K\n",
      "Done with persitation at 21:44:32\n",
      "Starting quicksave at 21:44:51 on day 16725 is 364.6896984086445 - 1000/13710  done - 859 filled - total distance: 4559453.803176291 - 1 plant(s) detected - t: 21:44:51\u001B[1K\r1KDistance for depot Neuherberg on day 17155 is 5628.950342829469 - 508/13710  done - 469 filled - total distance: 2617567.97405851 - 1 plant(s) detected - t: 21:44:33\u001B[1KDistance for depot Neuherberg on day 17158 is 6546.6585753285835 - 511/13710  done - 472 filled - total distance: 2638420.927253553 - 1 plant(s) detected - t: 21:44:33\u001B[1KDistance for depot Neuherberg on day 17162 is 7338.193536180763 - 515/13710  done - 476 filled - total distance: 2662953.142556512 - 1 plant(s) detected - t: 21:44:33\u001B[1KDistance for depot Neuherberg on day 17166 is 4213.615112438445 - 519/13710  done - 480 filled - total distance: 2687089.647566692 - 1 plant(s) detected - t: 21:44:33\u001B[1KDistance for depot Neuherberg on day 17171 is 6080.626494043125 - 523/13710  done - 484 filled - total distance: 2708164.2028477155 - 1 plant(s) detected - t: 21:44:34\u001B[1KDistance for depot Neuherberg on day 17174 is 6561.2971952395665 - 526/13710  done - 487 filled - total distance: 2729048.5551431095 - 1 plant(s) detected - t: 21:44:34\u001B[1KDistance for depot Neuherberg on day 17178 is 7452.742385343764 - 530/13710  done - 491 filled - total distance: 2752254.488009645 - 1 plant(s) detected - t: 21:44:34\u001B[1KDistance for depot Neuherberg on day 17182 is 7714.632826294169 - 534/13710  done - 495 filled - total distance: 2779471.7086793296 - 1 plant(s) detected - t: 21:44:34\u001B[1KDistance for depot Neuherberg on day 17186 is 6548.406658704718 - 538/13710  done - 499 filled - total distance: 2803676.5886799656 - 1 plant(s) detected - t: 21:44:35\u001B[1KDistance for depot Neuherberg on day 17193 is 5511.027514689898 - 544/13710  done - 505 filled - total distance: 2835352.4443387263 - 1 plant(s) detected - t: 21:44:35\u001B[1KDistance for depot Neuherberg on day 17197 is 9032.620805739736 - 548/13710  done - 509 filled - total distance: 2858523.378673118 - 1 plant(s) detected - t: 21:44:35\u001B[1KDistance for depot Neuherberg on day 17200 is 7843.641514134774 - 551/13710  done - 512 filled - total distance: 2880547.3047869178 - 1 plant(s) detected - t: 21:44:35\u001B[1K\u001B[1K\u001B[1KDistance for depot Neuherberg on day 17210 is 6471.3544322018615 - 561/13710  done - 522 filled - total distance: 2938336.5772063676 - 1 plant(s) detected - t: 21:44:36\u001B[1KDistance for depot Neuherberg on day 17213 is 8213.65525137519 - 564/13710  done - 525 filled - total distance: 2954087.5091266953 - 1 plant(s) detected - t: 21:44:36\u001B[1KDistance for depot Neuherberg on day 17217 is 5624.486907945357 - 568/13710  done - 529 filled - total distance: 2977886.6227091206 - 1 plant(s) detected - t: 21:44:36\u001B[1KDistance for depot Neuherberg on day 17220 is 5195.229173170136 - 571/13710  done - 532 filled - total distance: 3000553.334946612 - 1 plant(s) detected - t: 21:44:37\u001B[1K\u001B[1K\u001B[1K\u001B[1KDistance for depot Neuherberg on day 17249 is 5491.067120763463 - 599/13710  done - 556 filled - total distance: 3108155.669505907 - 1 plant(s) detected - t: 21:44:37\u001B[1K\u001B[1K\u001B[1K\u001B[1KDistance for depot Neuherberg on day 17265 is 4089.1942435259125 - 615/13710  done - 572 filled - total distance: 3192476.0491695153 - 1 plant(s) detected - t: 21:44:38\u001B[1KDistance for depot Neuherberg on day 17269 is 4943.432017061112 - 619/13710  done - 576 filled - total distance: 3212747.228457781 - 1 plant(s) detected - t: 21:44:38\u001B[1KDistance for depot Neuherberg on day 17274 is 2385.259174649883 - 624/13710  done - 581 filled - total distance: 3236549.2696621376 - 1 plant(s) detected - t: 21:44:39\u001B[1KDistance for depot Neuherberg on day 17279 is 4961.738617285967 - 629/13710  done - 586 filled - total distance: 3262465.0713471146 - 1 plant(s) detected - t: 21:44:39\u001B[1KDistance for depot Neuherberg on day 17283 is 5687.883638659971 - 633/13710  done - 590 filled - total distance: 3286388.9747240744 - 1 plant(s) detected - t: 21:44:39\u001B[1KDistance for depot Neuherberg on day 17287 is 6379.935069882236 - 637/13710  done - 594 filled - total distance: 3307649.789889356 - 1 plant(s) detected - t: 21:44:39\u001B[1K\u001B[1K\u001B[1KDistance for depot Neuherberg on day 17300 is 5668.638730051672 - 649/13710  done - 606 filled - total distance: 3377961.455095706 - 1 plant(s) detected - t: 21:44:40\u001B[1K\u001B[1KDistance for depot Neuherberg on day 17307 is 5629.039205135934 - 656/13710  done - 613 filled - total distance: 3416198.4925256968 - 1 plant(s) detected - t: 21:44:40\u001B[1KDistance for depot Neuherberg on day 17311 is 4861.353580697645 - 660/13710  done - 617 filled - total distance: 3436054.0823413036 - 1 plant(s) detected - t: 21:44:41\u001B[1KDistance for depot Neuherberg on day 17315 is 5298.115385083136 - 664/13710  done - 621 filled - total distance: 3457371.1877768855 - 1 plant(s) detected - t: 21:44:41\u001B[1K\u001B[1K\u001B[1K\u001B[1KDistance for depot Neuherberg on day 17335 is 4696.409109133559 - 682/13710  done - 639 filled - total distance: 3560109.3263054863 - 1 plant(s) detected - t: 21:44:42\u001B[1KDistance for depot Neuherberg on day 17339 is 7161.4274091154475 - 686/13710  done - 643 filled - total distance: 3580401.1516218847 - 1 plant(s) detected - t: 21:44:42\u001B[1KDistance for depot Neuherberg on day 17344 is 5546.00379549693 - 691/13710  done - 648 filled - total distance: 3612240.2874974487 - 1 plant(s) detected - t: 21:44:42\u001B[1KDistance for depot Neuherberg on day 17348 is 4370.529765427582 - 695/13710  done - 652 filled - total distance: 3636749.049293963 - 1 plant(s) detected - t: 21:44:42\u001B[1KDistance for depot Neuherberg on day 17352 is 4966.8639792333 - 699/13710  done - 656 filled - total distance: 3661329.4938896345 - 1 plant(s) detected - t: 21:44:43\u001B[1KDistance for depot Neuherberg on day 17356 is 4381.433467582843 - 703/13710  done - 660 filled - total distance: 3685012.84434816 - 1 plant(s) detected - t: 21:44:43\u001B[1KDistance for depot Neuherberg on day 17359 is 6534.07358603138 - 706/13710  done - 663 filled - total distance: 3700833.3128880793 - 1 plant(s) detected - t: 21:44:43\u001B[1K\u001B[1KDistance for depot Neuherberg on day 17367 is 6204.733459767635 - 714/13710  done - 671 filled - total distance: 3744502.889255599 - 1 plant(s) detected - t: 21:44:44\u001B[1KDistance for depot Neuherberg on day 17371 is 6009.693998640946 - 718/13710  done - 675 filled - total distance: 3764967.935462263 - 1 plant(s) detected - t: 21:44:44\u001B[1KDistance for depot Neuherberg on day 17375 is 4669.82644501133 - 722/13710  done - 679 filled - total distance: 3788599.102961505 - 1 plant(s) detected - t: 21:44:44\u001B[1KDistance for depot Neuherberg on day 17378 is 6545.374958061606 - 725/13710  done - 682 filled - total distance: 3804051.281432931 - 1 plant(s) detected - t: 21:44:44\u001B[1KDistance for depot Neuherberg on day 17382 is 4442.903413963959 - 729/13710  done - 686 filled - total distance: 3826324.1032559057 - 1 plant(s) detected - t: 21:44:44\u001B[1K\u001B[1KDistance for depot Neuherberg on day 17390 is 5001.349760867877 - 737/13710  done - 694 filled - total distance: 3870989.008922286 - 1 plant(s) detected - t: 21:44:45\u001B[1KDistance for depot Neuherberg on day 17396 is 3869.402272330485 - 743/13710  done - 700 filled - total distance: 3897578.360152397 - 1 plant(s) detected - t: 21:44:45\u001B[1K\u001B[1K\u001B[1K\u001B[1K\u001B[1KDistance for depot Neuherberg on day 17417 is 3952.193810332359 - 764/13710  done - 721 filled - total distance: 4005546.283069171 - 1 plant(s) detected - t: 21:44:46\u001B[1K\u001B[1KDistance for depot Neuherberg on day 17424 is 5399.846510901612 - 771/13710  done - 728 filled - total distance: 4042794.760788049 - 1 plant(s) detected - t: 21:44:46\u001B[1KDistance for depot Neuherberg on day 17427 is 6158.725525989144 - 774/13710  done - 731 filled - total distance: 4058774.379474323 - 1 plant(s) detected - t: 21:44:47\u001B[1KDistance for depot Neuherberg on day 17432 is 4928.997644602137 - 779/13710  done - 736 filled - total distance: 4088766.9207307473 - 1 plant(s) detected - t: 21:44:47\u001B[1KDistance for depot Neuherberg on day 17436 is 4309.832414831488 - 783/13710  done - 740 filled - total distance: 4110582.116716344 - 1 plant(s) detected - t: 21:44:47\u001B[1K\u001B[1K\u001B[1KDistance for depot Neuherberg on day 17446 is 5972.071243626172 - 793/13710  done - 750 filled - total distance: 4163701.6988783716 - 1 plant(s) detected - t: 21:44:48\u001B[1K\u001B[1K\u001B[1KDistance for depot Neuherberg on day 17458 is 6372.577140085593 - 805/13710  done - 762 filled - total distance: 4231082.395467571 - 1 plant(s) detected - t: 21:44:48\u001B[1KDistance for depot Neuherberg on day 17462 is 7262.644101772426 - 809/13710  done - 766 filled - total distance: 4254368.515821939 - 1 plant(s) detected - t: 21:44:49\u001B[1KDistance for depot Neuherberg on day 17465 is 6206.879225429555 - 812/13710  done - 769 filled - total distance: 4275213.591679562 - 1 plant(s) detected - t: 21:44:49\u001B[1KDistance for depot Neuherberg on day 17468 is 6792.033444117299 - 815/13710  done - 772 filled - total distance: 4293296.069911127 - 1 plant(s) detected - t: 21:44:49\u001B[1KDistance for depot Neuherberg on day 17472 is 9764.55690451471 - 819/13710  done - 776 filled - total distance: 4316077.657632145 - 1 plant(s) detected - t: 21:44:49\u001B[1KDistance for depot Neuherberg on day 17475 is 5916.472897125789 - 822/13710  done - 779 filled - total distance: 4341514.783743367 - 1 plant(s) detected - t: 21:44:50\u001B[1KDistance for depot Neuherberg on day 17478 is 6175.052858676964 - 825/13710  done - 782 filled - total distance: 4362206.541980237 - 1 plant(s) detected - t: 21:44:50\u001B[1KDistance for depot Neuherberg on day 17482 is 10650.785341997671 - 829/13710  done - 786 filled - total distance: 4386086.635285727 - 1 plant(s) detected - t: 21:44:50\u001B[1K\u001B[1K\u001B[1K\u001B[1K\u001B[1K\u001B[1K\u001B[1K\n",
      "Done with persitation at 21:44:51\n",
      "Starting quicksave at 21:45:07 on day 17234 is 215.78880068773057 - 1499/13710  done - 1347 filled - total distance: 6016268.896964936 - 1 plant(s) detected - t: 21:45:07\u001B[1KK1K\u001B[1K\u001B[1KDistance for depot Lauterhofen on day 16763 is 3321.47401889694 - 1038/13710  done - 897 filled - total distance: 4616305.239300069 - 1 plant(s) detected - t: 21:44:52\u001B[1K\u001B[1K\u001B[1KDistance for depot Lauterhofen on day 16782 is 4038.377405117229 - 1055/13710  done - 914 filled - total distance: 4680583.0398380365 - 1 plant(s) detected - t: 21:44:53\u001B[1KDistance for depot Lauterhofen on day 16786 is 4444.037377477774 - 1059/13710  done - 918 filled - total distance: 4698105.2490984835 - 1 plant(s) detected - t: 21:44:53\u001B[1K\u001B[1K\u001B[1KDistance for depot Lauterhofen on day 16803 is 4375.394938083248 - 1075/13710  done - 934 filled - total distance: 4754978.816962193 - 1 plant(s) detected - t: 21:44:53\u001B[1K\u001B[1KDistance for depot Lauterhofen on day 16814 is 3502.05735884496 - 1086/13710  done - 945 filled - total distance: 4797737.139395002 - 1 plant(s) detected - t: 21:44:54\u001B[1KDistance for depot Lauterhofen on day 16821 is 3761.8571245448306 - 1093/13710  done - 952 filled - total distance: 4823799.010357338 - 1 plant(s) detected - t: 21:44:54\u001B[1K\u001B[1KDistance for depot Lauterhofen on day 16832 is 3452.091334500061 - 1104/13710  done - 963 filled - total distance: 4863849.023140246 - 1 plant(s) detected - t: 21:44:54\u001B[1KDistance for depot Lauterhofen on day 16838 is 3728.6384614128765 - 1110/13710  done - 969 filled - total distance: 4883611.37438987 - 1 plant(s) detected - t: 21:44:55\u001B[1KDistance for depot Lauterhofen on day 16844 is 2881.6942155032434 - 1116/13710  done - 975 filled - total distance: 4902230.920884965 - 1 plant(s) detected - t: 21:44:55\u001B[1KDistance for depot Lauterhofen on day 16849 is 4186.568780198794 - 1121/13710  done - 980 filled - total distance: 4921298.774867763 - 1 plant(s) detected - t: 21:44:55\u001B[1KDistance for depot Lauterhofen on day 16853 is 3350.8895363904326 - 1125/13710  done - 984 filled - total distance: 4934743.977488988 - 1 plant(s) detected - t: 21:44:55\u001B[1K\u001B[1KDistance for depot Lauterhofen on day 16866 is 5369.279706254274 - 1138/13710  done - 997 filled - total distance: 4979071.817767687 - 1 plant(s) detected - t: 21:44:56\u001B[1K\u001B[1K\u001B[1KDistance for depot Lauterhofen on day 16890 is 4542.017648047602 - 1162/13710  done - 1021 filled - total distance: 5037926.729584513 - 1 plant(s) detected - t: 21:44:56\u001B[1KDistance for depot Lauterhofen on day 16896 is 2231.4637650203194 - 1168/13710  done - 1027 filled - total distance: 5058572.199407604 - 1 plant(s) detected - t: 21:44:57\u001B[1K\u001B[1KDistance for depot Lauterhofen on day 16905 is 4285.254388091906 - 1177/13710  done - 1036 filled - total distance: 5090750.270929916 - 1 plant(s) detected - t: 21:44:57\u001B[1KDistance for depot Lauterhofen on day 16911 is 4920.26249181676 - 1183/13710  done - 1042 filled - total distance: 5115546.896101937 - 1 plant(s) detected - t: 21:44:57\u001B[1KDistance for depot Lauterhofen on day 16916 is 3266.193849958685 - 1188/13710  done - 1047 filled - total distance: 5134313.823724567 - 1 plant(s) detected - t: 21:44:57\u001B[1K\u001B[1KDistance for depot Lauterhofen on day 16927 is 2290.442683977536 - 1199/13710  done - 1058 filled - total distance: 5171675.084674768 - 1 plant(s) detected - t: 21:44:58\u001B[1K\u001B[1K\u001B[1K\u001B[1K\u001B[1K\u001B[1K\u001B[1K\u001B[1K\u001B[1K\u001B[1K\u001B[1KDistance for depot Lauterhofen on day 17033 is 2633.9892430701416 - 1304/13710  done - 1156 filled - total distance: 5360481.7728994945 - 1 plant(s) detected - t: 21:45:00\u001B[1KDistance for depot Lauterhofen on day 17038 is 4098.962980614771 - 1309/13710  done - 1161 filled - total distance: 5377234.263669729 - 1 plant(s) detected - t: 21:45:00\u001B[1K\u001B[1K\u001B[1K\u001B[1K\u001B[1K\u001B[1K\u001B[1KDistance for depot Lauterhofen on day 17077 is 3059.4140101657263 - 1345/13710  done - 1197 filled - total distance: 5511247.5234441655 - 1 plant(s) detected - t: 21:45:02\u001B[1KDistance for depot Lauterhofen on day 17084 is 3583.6537492192706 - 1352/13710  done - 1204 filled - total distance: 5534936.993543299 - 1 plant(s) detected - t: 21:45:02\u001B[1KDistance for depot Lauterhofen on day 17089 is 3110.9406697536033 - 1357/13710  done - 1209 filled - total distance: 5555429.772233846 - 1 plant(s) detected - t: 21:45:02\u001B[1KDistance for depot Lauterhofen on day 17095 is 3481.8517585136424 - 1363/13710  done - 1215 filled - total distance: 5576979.445716817 - 1 plant(s) detected - t: 21:45:02\u001B[1K\u001B[1KDistance for depot Lauterhofen on day 17107 is 3304.090329665445 - 1375/13710  done - 1227 filled - total distance: 5616102.915806769 - 1 plant(s) detected - t: 21:45:03\u001B[1KDistance for depot Lauterhofen on day 17112 is 4930.774343922463 - 1380/13710  done - 1232 filled - total distance: 5639149.534119296 - 1 plant(s) detected - t: 21:45:03\u001B[1KDistance for depot Lauterhofen on day 17117 is 5890.525538533234 - 1385/13710  done - 1237 filled - total distance: 5660344.705226456 - 1 plant(s) detected - t: 21:45:03\u001B[1K\u001B[1KDistance for depot Lauterhofen on day 17130 is 2346.1264762724295 - 1398/13710  done - 1250 filled - total distance: 5700143.2841455955 - 1 plant(s) detected - t: 21:45:04\u001B[1K\u001B[1K\u001B[1K\u001B[1K\u001B[1KDistance for depot Lauterhofen on day 17159 is 3179.9242475338915 - 1427/13710  done - 1279 filled - total distance: 5790081.285582929 - 1 plant(s) detected - t: 21:45:05\u001B[1KDistance for depot Lauterhofen on day 17164 is 3888.3176211716977 - 1432/13710  done - 1284 filled - total distance: 5809672.2903421745 - 1 plant(s) detected - t: 21:45:05\u001B[1KDistance for depot Lauterhofen on day 17170 is 3908.0571227221426 - 1437/13710  done - 1289 filled - total distance: 5828307.382605707 - 1 plant(s) detected - t: 21:45:05\u001B[1KDistance for depot Lauterhofen on day 17175 is 4275.321206343611 - 1442/13710  done - 1294 filled - total distance: 5845953.990140981 - 1 plant(s) detected - t: 21:45:05\u001B[1KDistance for depot Lauterhofen on day 17180 is 4718.906161191963 - 1447/13710  done - 1299 filled - total distance: 5866397.158461598 - 1 plant(s) detected - t: 21:45:05\u001B[1KDistance for depot Lauterhofen on day 17184 is 4718.896933247844 - 1451/13710  done - 1303 filled - total distance: 5882590.024104958 - 1 plant(s) detected - t: 21:45:06\u001B[1K\u001B[1KDistance for depot Lauterhofen on day 17198 is 3859.391555760782 - 1464/13710  done - 1316 filled - total distance: 5933171.806491268 - 1 plant(s) detected - t: 21:45:06\u001B[1KDistance for depot Lauterhofen on day 17204 is 3234.1307032565496 - 1470/13710  done - 1322 filled - total distance: 5956283.725178424 - 1 plant(s) detected - t: 21:45:06\u001B[1K\u001B[1K\u001B[1K\n",
      "Done with persitation at 21:45:07\n",
      "Starting quicksave at 21:45:16day 16813 is 853.8801981153052 - 2000/13710  done - 1731 filled - total distance: 6777571.542099296 - 1 plant(s) detected - t: 21:45:16\u001B[1KK\r[1KK[1K\u001B[1K\u001B[1K\u001B[1K\u001B[1K\u001B[1KDistance for depot Lauterhofen on day 17304 is 5067.0637916965625 - 1568/13710  done - 1413 filled - total distance: 6117633.709344538 - 1 plant(s) detected - t: 21:45:08\u001B[1K\u001B[1K\u001B[1K\u001B[1K\u001B[1KDistance for depot Lauterhofen on day 17334 is 2850.2436827162887 - 1596/13710  done - 1441 filled - total distance: 6214148.39160428 - 1 plant(s) detected - t: 21:45:09\u001B[1K\u001B[1K\u001B[1KDistance for depot Lauterhofen on day 17350 is 3681.223899299543 - 1612/13710  done - 1457 filled - total distance: 6270348.893641278 - 1 plant(s) detected - t: 21:45:10\u001B[1K\u001B[1KDistance for depot Lauterhofen on day 17362 is 2565.8966272177763 - 1624/13710  done - 1469 filled - total distance: 6307100.8164823605 - 1 plant(s) detected - t: 21:45:10\u001B[1K\u001B[1KDistance for depot Lauterhofen on day 17374 is 2786.9031950602057 - 1636/13710  done - 1481 filled - total distance: 6343313.688684399 - 1 plant(s) detected - t: 21:45:11\u001B[1KDistance for depot Lauterhofen on day 17380 is 2071.2353558077502 - 1642/13710  done - 1487 filled - total distance: 6362052.354703355 - 1 plant(s) detected - t: 21:45:11\u001B[1K\u001B[1K\u001B[1K\u001B[1KDistance for depot Lauterhofen on day 17411 is 1884.7919599581983 - 1673/13710  done - 1518 filled - total distance: 6441048.227001368 - 1 plant(s) detected - t: 21:45:12\u001B[1KDistance for depot Lauterhofen on day 17416 is 3911.237643194946 - 1678/13710  done - 1523 filled - total distance: 6457160.098877981 - 1 plant(s) detected - t: 21:45:12\u001B[1KDistance for depot Lauterhofen on day 17421 is 2901.45830309027 - 1683/13710  done - 1528 filled - total distance: 6473870.395989547 - 1 plant(s) detected - t: 21:45:12\u001B[1K\u001B[1KDistance for depot Lauterhofen on day 17431 is 4430.341096223121 - 1693/13710  done - 1538 filled - total distance: 6510156.280892822 - 1 plant(s) detected - t: 21:45:12\u001B[1KDistance for depot Lauterhofen on day 17436 is 3779.6283028043663 - 1698/13710  done - 1543 filled - total distance: 6529108.560347328 - 1 plant(s) detected - t: 21:45:13\u001B[1K\u001B[1K\u001B[1KDistance for depot Lauterhofen on day 17454 is 1922.3802654269944 - 1716/13710  done - 1561 filled - total distance: 6589786.222566202 - 1 plant(s) detected - t: 21:45:13\u001B[1KDistance for depot Lauterhofen on day 17460 is 2437.628568753682 - 1722/13710  done - 1567 filled - total distance: 6607425.401414859 - 1 plant(s) detected - t: 21:45:13\u001B[1KDistance for depot Lauterhofen on day 17468 is 2698.5455718348753 - 1730/13710  done - 1575 filled - total distance: 6631501.66113794 - 1 plant(s) detected - t: 21:45:14\u001B[1K\u001B[1K\u001B[1K\u001B[1K\u001B[1K\u001B[1K\u001B[1K\u001B[1K\u001B[1K\u001B[1K\u001B[1K\u001B[1KDistance for depot Altbach on day 16794 is 1510.2654995925939 - 1982/13710  done - 1713 filled - total distance: 6758098.651664997 - 1 plant(s) detected - t: 21:45:16\u001B[1K\u001B[1K\n",
      "Done with persitation at 21:45:16\n",
      "Starting quicksave at 21:45:25day 17322 is 315.9209730131985 - 2500/13710  done - 2211 filled - total distance: 7181391.508604307 - 1 plant(s) detected - t: 21:45:25\u001B[1K1K[1K\u001B[1K\u001B[1K\u001B[1K\u001B[1K\u001B[1K\u001B[1K\u001B[1K\u001B[1K\u001B[1K\u001B[1K\u001B[1K\u001B[1K\u001B[1K\u001B[1K\u001B[1K\u001B[1KDistance for depot Altbach on day 17026 is 1101.4211809226804 - 2212/13710  done - 1933 filled - total distance: 6944477.842611921 - 1 plant(s) detected - t: 21:45:20\u001B[1K\u001B[1K\u001B[1K\u001B[1KDistance for depot Altbach on day 17070 is 1567.2511759696852 - 2254/13710  done - 1975 filled - total distance: 6986256.128125451 - 1 plant(s) detected - t: 21:45:21\u001B[1K\u001B[1K\u001B[1K\u001B[1K\u001B[1K\u001B[1K\u001B[1K\u001B[1K\u001B[1K\u001B[1K\u001B[1K\u001B[1K\u001B[1K\u001B[1K\u001B[1K\u001B[1K\u001B[1K\u001B[1K\u001B[1K\u001B[1K\u001B[1K\u001B[1K\n",
      "Done with persitation at 21:45:25\n",
      "Starting quicksave at 21:45:28day 17545 is 232.3732502593362 - 2720/13710  done - 2397 filled - total distance: 7347199.694530071 - 1 plant(s) detected - t: 21:45:28\u001B[1KKK1K\u001B[1K\u001B[1K\u001B[1K\u001B[1K\u001B[1K\u001B[1K\u001B[1K\u001B[1K\u001B[1K\u001B[1K\u001B[1K\u001B[1K\u001B[1K\u001B[1K\u001B[1K\u001B[1K\u001B[1K\n",
      "Done with persitation at 21:45:28\n",
      "Starting quicksave at 21:45:28\n",
      "Done with persitation at 21:45:28\n",
      "Starting quicksave at 21:45:32 on day 16983 is 78.10979057609168 - 3999/13710  done - 2631 filled - total distance: 7416212.918923622 - 1 plant(s) detected - t: 21:45:32\u001B[1K1K\u001B[1K\u001B[1K\u001B[1K\u001B[1K\u001B[1K\u001B[1K\u001B[1KDistance for depot Bollschweil on day 16827 is 180.92276125274248 - 3844/13710  done - 2493 filled - total distance: 7373852.050268781 - 1 plant(s) detected - t: 21:45:30\u001B[1K\u001B[1K\u001B[1K\u001B[1K\u001B[1K\u001B[1K\u001B[1K\u001B[1K\u001B[1K\u001B[1K\u001B[1K\u001B[1K\n",
      "Done with persitation at 21:45:32\n",
      "Starting quicksave at 21:45:38 on day 17494 is 168.29892684876842 - 4499/13710  done - 3031 filled - total distance: 7513385.384887787 - 1 plant(s) detected - t: 21:45:38[1KKK\u001B[1K\u001B[1K\u001B[1K\u001B[1KDistance for depot Bollschweil on day 17060 is 185.65078863783623 - 4074/13710  done - 2692 filled - total distance: 7430812.903325039 - 1 plant(s) detected - t: 21:45:33\u001B[1K\u001B[1K\u001B[1K\u001B[1K\u001B[1K\u001B[1K\u001B[1K\u001B[1K\u001B[1K\u001B[1K\u001B[1K\u001B[1K\u001B[1K\u001B[1K\u001B[1K\u001B[1K\u001B[1K\u001B[1K\u001B[1K\u001B[1K\u001B[1K\u001B[1K\u001B[1K\u001B[1K\u001B[1K\u001B[1K\u001B[1K\u001B[1K\n",
      "Done with persitation at 21:45:38\n",
      "Starting quicksave at 21:45:45 on day 17071 is 1664.115917348814 - 5000/13710  done - 3397 filled - total distance: 8011052.781034596 - 1 plant(s) detected - t: 21:45:45\u001B[1KKK\u001B[1K\u001B[1K\u001B[1K\u001B[1K\u001B[1K\u001B[1K\u001B[1K\u001B[1K\u001B[1K\u001B[1K\u001B[1K\u001B[1K\u001B[1K\u001B[1K\u001B[1K\u001B[1K\u001B[1K\u001B[1KDistance for depot Lampertheim on day 16897 is 2195.4236417647858 - 4829/13710  done - 3230 filled - total distance: 7772351.495762826 - 1 plant(s) detected - t: 21:45:41\u001B[1K\u001B[1K\u001B[1K\u001B[1K\u001B[1K\u001B[1K\u001B[1K\u001B[1K\u001B[1K\u001B[1K\u001B[1K\u001B[1K\u001B[1K\u001B[1K\u001B[1K\u001B[1K\u001B[1K\n",
      "Done with persitation at 21:45:45\n",
      "Starting quicksave at 21:45:53y 16581 is 14.67031017118769 - 5498/13710  done - 3817 filled - total distance: 8574412.076197904 - 1 plant(s) detected - t: 21:45:53\u001B[1K:53\u001B[1KK\u001B[1K\u001B[1K\u001B[1K\u001B[1K\u001B[1K\u001B[1K\u001B[1K\u001B[1K\u001B[1K\u001B[1K\u001B[1K\u001B[1K\u001B[1K\u001B[1K\u001B[1K\u001B[1K\u001B[1K\u001B[1K\u001B[1K\u001B[1K\u001B[1K\u001B[1K\u001B[1K\u001B[1K\u001B[1KDistance for depot Lampertheim on day 17343 is 2524.2268327684837 - 5265/13710  done - 3654 filled - total distance: 8349437.456517993 - 1 plant(s) detected - t: 21:45:49\u001B[1K\u001B[1K\u001B[1K\u001B[1K\u001B[1K\u001B[1K\u001B[1K\u001B[1K\u001B[1K\u001B[1K\u001B[1K\u001B[1K\u001B[1K\u001B[1K\u001B[1K\u001B[1K\u001B[1K\n",
      "Done with persitation at 21:45:53\n",
      "Starting quicksave at 21:46:09y 17157 is 3617.4132396545674 - 6000/13710  done - 4266 filled - total distance: 9786861.114292713 - 1 plant(s) detected - t: 21:46:09\u001B[1K\r[1K\u001B[1K\u001B[1KDistance for depot Neuss on day 16732 is 2685.26842546074 - 5582/13710  done - 3849 filled - total distance: 8629558.90002613 - 1 plant(s) detected - t: 21:45:53\u001B[1K\u001B[1KDistance for depot Neuss on day 16745 is 3260.9863692621057 - 5595/13710  done - 3862 filled - total distance: 8663729.283790778 - 1 plant(s) detected - t: 21:45:54\u001B[1K\u001B[1K\u001B[1K\u001B[1K\u001B[1KDistance for depot Neuss on day 16773 is 3262.582417230269 - 5621/13710  done - 3888 filled - total distance: 8729261.330070429 - 1 plant(s) detected - t: 21:45:55\u001B[1K\u001B[1KDistance for depot Neuss on day 16784 is 1952.481792618264 - 5632/13710  done - 3899 filled - total distance: 8758005.63877481 - 1 plant(s) detected - t: 21:45:55\u001B[1K\u001B[1K\u001B[1KDistance for depot Neuss on day 16802 is 4501.775247035776 - 5649/13710  done - 3916 filled - total distance: 8799527.378769958 - 1 plant(s) detected - t: 21:45:56\u001B[1K\u001B[1KDistance for depot Neuss on day 16813 is 3256.106885895943 - 5660/13710  done - 3927 filled - total distance: 8830669.117950123 - 1 plant(s) detected - t: 21:45:56\u001B[1KDistance for depot Neuss on day 16819 is 2322.051800448483 - 5666/13710  done - 3933 filled - total distance: 8847617.682711625 - 1 plant(s) detected - t: 21:45:56\u001B[1K\u001B[1K\u001B[1KDistance for depot Neuss on day 16834 is 3127.2971800336422 - 5681/13710  done - 3948 filled - total distance: 8893602.324396707 - 1 plant(s) detected - t: 21:45:57\u001B[1KDistance for depot Neuss on day 16840 is 2275.444021244436 - 5687/13710  done - 3954 filled - total distance: 8908704.389683057 - 1 plant(s) detected - t: 21:45:57\u001B[1K\u001B[1K\u001B[1KDistance for depot Neuss on day 16858 is 2577.1717307236518 - 5705/13710  done - 3972 filled - total distance: 8950856.51726007 - 1 plant(s) detected - t: 21:45:58\u001B[1K\u001B[1K\u001B[1KDistance for depot Neuss on day 16875 is 2018.4880805019832 - 5722/13710  done - 3989 filled - total distance: 8994574.822409624 - 1 plant(s) detected - t: 21:45:58\u001B[1K\u001B[1K\u001B[1K\u001B[1KDistance for depot Neuss on day 16894 is 4084.4226210158026 - 5741/13710  done - 4008 filled - total distance: 9050045.343484068 - 1 plant(s) detected - t: 21:45:59\u001B[1KDistance for depot Neuss on day 16899 is 3594.3111606117714 - 5746/13710  done - 4013 filled - total distance: 9065290.578374598 - 1 plant(s) detected - t: 21:45:59\u001B[1K\u001B[1KDistance for depot Neuss on day 16910 is 2020.0998503084345 - 5757/13710  done - 4024 filled - total distance: 9097842.315726185 - 1 plant(s) detected - t: 21:46:00\u001B[1K\u001B[1K\u001B[1KDistance for depot Neuss on day 16924 is 2317.6098140285203 - 5771/13710  done - 4038 filled - total distance: 9143506.370313711 - 1 plant(s) detected - t: 21:46:00\u001B[1KDistance for depot Neuss on day 16930 is 2494.916316455813 - 5777/13710  done - 4044 filled - total distance: 9162955.252858294 - 1 plant(s) detected - t: 21:46:01\u001B[1K\u001B[1KDistance for depot Neuss on day 16939 is 2570.7148924493194 - 5786/13710  done - 4053 filled - total distance: 9190455.715456046 - 1 plant(s) detected - t: 21:46:01\u001B[1KDistance for depot Neuss on day 16944 is 4292.320474653744 - 5791/13710  done - 4058 filled - total distance: 9203783.54404089 - 1 plant(s) detected - t: 21:46:01\u001B[1K\u001B[1KDistance for depot Neuss on day 16955 is 2556.2097577057875 - 5802/13710  done - 4069 filled - total distance: 9234446.1985653 - 1 plant(s) detected - t: 21:46:02\u001B[1KDistance for depot Neuss on day 16960 is 2858.3766816636908 - 5807/13710  done - 4074 filled - total distance: 9252187.964770457 - 1 plant(s) detected - t: 21:46:02\u001B[1K\u001B[1K\u001B[1K\u001B[1K\u001B[1K\u001B[1K\u001B[1KDistance for depot Neuss on day 17005 is 7022.907221544167 - 5851/13710  done - 4117 filled - total distance: 9362244.57991513 - 1 plant(s) detected - t: 21:46:03\u001B[1KDistance for depot Neuss on day 17011 is 3218.847256128011 - 5857/13710  done - 4123 filled - total distance: 9382426.348029746 - 1 plant(s) detected - t: 21:46:04\u001B[1KDistance for depot Neuss on day 17016 is 2218.2675352368824 - 5862/13710  done - 4128 filled - total distance: 9398656.729353955 - 1 plant(s) detected - t: 21:46:04\u001B[1K\u001B[1KDistance for depot Neuss on day 17026 is 2410.6595425866176 - 5872/13710  done - 4138 filled - total distance: 9426007.455655709 - 1 plant(s) detected - t: 21:46:04\u001B[1K\u001B[1K\u001B[1KDistance for depot Neuss on day 17041 is 2261.816434656376 - 5887/13710  done - 4153 filled - total distance: 9467018.778442144 - 1 plant(s) detected - t: 21:46:05\u001B[1KDistance for depot Neuss on day 17049 is 2616.1263888378094 - 5893/13710  done - 4159 filled - total distance: 9481709.218135612 - 1 plant(s) detected - t: 21:46:05\u001B[1KDistance for depot Neuss on day 17054 is 4272.446754139186 - 5898/13710  done - 4164 filled - total distance: 9498829.873277754 - 1 plant(s) detected - t: 21:46:05\u001B[1KDistance for depot Neuss on day 17060 is 2956.6609925622865 - 5904/13710  done - 4170 filled - total distance: 9518502.686172156 - 1 plant(s) detected - t: 21:46:05\u001B[1KDistance for depot Neuss on day 17065 is 3311.7778737607323 - 5909/13710  done - 4175 filled - total distance: 9532308.948851362 - 1 plant(s) detected - t: 21:46:06\u001B[1K\u001B[1KDistance for depot Neuss on day 17076 is 2069.119955116982 - 5919/13710  done - 4185 filled - total distance: 9559789.023702824 - 1 plant(s) detected - t: 21:46:06\u001B[1KDistance for depot Neuss on day 17082 is 3248.007252527475 - 5925/13710  done - 4191 filled - total distance: 9576563.001913985 - 1 plant(s) detected - t: 21:46:06\u001B[1K\u001B[1KDistance for depot Neuss on day 17093 is 2949.6233075088453 - 5936/13710  done - 4202 filled - total distance: 9611822.617303636 - 1 plant(s) detected - t: 21:46:07\u001B[1KDistance for depot Neuss on day 17098 is 3943.4566233113183 - 5941/13710  done - 4207 filled - total distance: 9628169.433276948 - 1 plant(s) detected - t: 21:46:07\u001B[1KDistance for depot Neuss on day 17103 is 3071.6057884561665 - 5946/13710  done - 4212 filled - total distance: 9642637.008236596 - 1 plant(s) detected - t: 21:46:07\u001B[1K\u001B[1K\u001B[1KDistance for depot Neuss on day 17116 is 1340.7090412158504 - 5959/13710  done - 4225 filled - total distance: 9679585.31320053 - 1 plant(s) detected - t: 21:46:08\u001B[1K\u001B[1K\u001B[1KDistance for depot Neuss on day 17133 is 3347.7927394942226 - 5976/13710  done - 4242 filled - total distance: 9719867.241590302 - 1 plant(s) detected - t: 21:46:08\u001B[1KDistance for depot Neuss on day 17138 is 4489.1996446671765 - 5981/13710  done - 4247 filled - total distance: 9733678.742354777 - 1 plant(s) detected - t: 21:46:09\u001B[1KDistance for depot Neuss on day 17144 is 2346.722004967031 - 5987/13710  done - 4253 filled - total distance: 9750262.266990786 - 1 plant(s) detected - t: 21:46:09\u001B[1KDistance for depot Neuss on day 17149 is 2417.9334224173476 - 5992/13710  done - 4258 filled - total distance: 9764523.71223788 - 1 plant(s) detected - t: 21:46:09\u001B[1K\u001B[1K\n",
      "Done with persitation at 21:46:09\n",
      "Starting quicksave at 21:46:24ay 16735 is 1032.4636525197889 - 6500/13710  done - 4671 filled - total distance: 10974939.030547801 - 1 plant(s) detected - t: 21:46:24\u001B[1K1KDistance for depot Neuss on day 17175 is 4395.962214070194 - 6017/13710  done - 4283 filled - total distance: 9837407.671889734 - 1 plant(s) detected - t: 21:46:10\u001B[1K\u001B[1KDistance for depot Neuss on day 17185 is 3065.388616619444 - 6027/13710  done - 4293 filled - total distance: 9865543.771687562 - 1 plant(s) detected - t: 21:46:10\u001B[1K\u001B[1K\u001B[1K\u001B[1K\u001B[1K\u001B[1KDistance for depot Neuss on day 17216 is 2278.5841313422775 - 6057/13710  done - 4323 filled - total distance: 9957312.516085314 - 1 plant(s) detected - t: 21:46:12\u001B[1KDistance for depot Neuss on day 17221 is 2435.6969955502796 - 6062/13710  done - 4328 filled - total distance: 9973058.599529183 - 1 plant(s) detected - t: 21:46:12\u001B[1K\u001B[1KDistance for depot Neuss on day 17238 is 4642.947956229456 - 6078/13710  done - 4344 filled - total distance: 10002343.721639382 - 1 plant(s) detected - t: 21:46:12\u001B[1KDistance for depot Neuss on day 17244 is 2177.215336388716 - 6084/13710  done - 4350 filled - total distance: 10021648.76545799 - 1 plant(s) detected - t: 21:46:12\u001B[1KDistance for depot Neuss on day 17250 is 2901.1221869331466 - 6090/13710  done - 4356 filled - total distance: 10037870.494718226 - 1 plant(s) detected - t: 21:46:13\u001B[1KDistance for depot Neuss on day 17257 is 2393.5164925808854 - 6097/13710  done - 4363 filled - total distance: 10057376.855271092 - 1 plant(s) detected - t: 21:46:13\u001B[1K\u001B[1KDistance for depot Neuss on day 17268 is 3703.1275121609965 - 6108/13710  done - 4374 filled - total distance: 10092563.260061033 - 1 plant(s) detected - t: 21:46:13\u001B[1KDistance for depot Neuss on day 17274 is 1797.9036181564093 - 6114/13710  done - 4380 filled - total distance: 10109262.707728688 - 1 plant(s) detected - t: 21:46:14\u001B[1KDistance for depot Neuss on day 17282 is 3933.988905684244 - 6122/13710  done - 4388 filled - total distance: 10127240.200874912 - 1 plant(s) detected - t: 21:46:14\u001B[1KDistance for depot Neuss on day 17287 is 2718.7405581451085 - 6127/13710  done - 4393 filled - total distance: 10147965.941261003 - 1 plant(s) detected - t: 21:46:14\u001B[1K\u001B[1K\u001B[1KDistance for depot Neuss on day 17303 is 3799.887800019527 - 6142/13710  done - 4408 filled - total distance: 10197099.530059638 - 1 plant(s) detected - t: 21:46:15\u001B[1K\u001B[1KDistance for depot Neuss on day 17313 is 3271.5977424954744 - 6152/13710  done - 4418 filled - total distance: 10230062.760869125 - 1 plant(s) detected - t: 21:46:15\u001B[1K\u001B[1K\u001B[1KDistance for depot Neuss on day 17331 is 2872.855395583027 - 6168/13710  done - 4434 filled - total distance: 10280829.37715755 - 1 plant(s) detected - t: 21:46:16\u001B[1KDistance for depot Neuss on day 17337 is 4112.076680994864 - 6174/13710  done - 4440 filled - total distance: 10300518.701016797 - 1 plant(s) detected - t: 21:46:16\u001B[1K\u001B[1KDistance for depot Neuss on day 17347 is 4071.7229606441565 - 6184/13710  done - 4450 filled - total distance: 10333169.743468693 - 1 plant(s) detected - t: 21:46:16\u001B[1KDistance for depot Neuss on day 17352 is 3478.519627672054 - 6189/13710  done - 4455 filled - total distance: 10352063.500022242 - 1 plant(s) detected - t: 21:46:17\u001B[1KDistance for depot Neuss on day 17357 is 5188.315475143583 - 6194/13710  done - 4460 filled - total distance: 10369231.064463196 - 1 plant(s) detected - t: 21:46:17\u001B[1K\u001B[1K\u001B[1KDistance for depot Neuss on day 17369 is 4333.781714595864 - 6206/13710  done - 4472 filled - total distance: 10416014.451648202 - 1 plant(s) detected - t: 21:46:17\u001B[1K\u001B[1KDistance for depot Neuss on day 17378 is 2140.8033433526894 - 6215/13710  done - 4481 filled - total distance: 10446632.013687123 - 1 plant(s) detected - t: 21:46:18\u001B[1KDistance for depot Neuss on day 17383 is 2461.181236052886 - 6220/13710  done - 4486 filled - total distance: 10463215.714746572 - 1 plant(s) detected - t: 21:46:18\u001B[1KDistance for depot Neuss on day 17388 is 3486.253712091 - 6225/13710  done - 4491 filled - total distance: 10477370.547513146 - 1 plant(s) detected - t: 21:46:18\u001B[1KDistance for depot Neuss on day 17393 is 5510.064742060607 - 6230/13710  done - 4496 filled - total distance: 10491433.252206406 - 1 plant(s) detected - t: 21:46:19\u001B[1KDistance for depot Neuss on day 17398 is 3269.965158526055 - 6235/13710  done - 4501 filled - total distance: 10514011.110702092 - 1 plant(s) detected - t: 21:46:19\u001B[1KDistance for depot Neuss on day 17403 is 2882.565123153158 - 6240/13710  done - 4506 filled - total distance: 10531792.946564045 - 1 plant(s) detected - t: 21:46:19\u001B[1KDistance for depot Neuss on day 17408 is 6027.935222357543 - 6245/13710  done - 4511 filled - total distance: 10548311.336298153 - 1 plant(s) detected - t: 21:46:19\u001B[1KDistance for depot Neuss on day 17412 is 5369.585495094476 - 6249/13710  done - 4515 filled - total distance: 10565613.802670334 - 1 plant(s) detected - t: 21:46:19\u001B[1KDistance for depot Neuss on day 17417 is 4799.94250484284 - 6254/13710  done - 4520 filled - total distance: 10585000.994740332 - 1 plant(s) detected - t: 21:46:20\u001B[1K\u001B[1KDistance for depot Neuss on day 17425 is 5914.12501166359 - 6262/13710  done - 4528 filled - total distance: 10615863.67357498 - 1 plant(s) detected - t: 21:46:20\u001B[1KDistance for depot Neuss on day 17431 is 3934.044884271945 - 6268/13710  done - 4534 filled - total distance: 10640711.258006992 - 1 plant(s) detected - t: 21:46:20\u001B[1K\u001B[1K\u001B[1K\u001B[1K\u001B[1KDistance for depot Neuss on day 17452 is 5943.209772350188 - 6289/13710  done - 4555 filled - total distance: 10723272.644456232 - 1 plant(s) detected - t: 21:46:21\u001B[1KDistance for depot Neuss on day 17456 is 3147.4995825034875 - 6293/13710  done - 4559 filled - total distance: 10740222.393101724 - 1 plant(s) detected - t: 21:46:21\u001B[1K\u001B[1KDistance for depot Neuss on day 17465 is 6115.2688896957425 - 6302/13710  done - 4568 filled - total distance: 10774212.590260388 - 1 plant(s) detected - t: 21:46:22\u001B[1K\u001B[1K\u001B[1KDistance for depot Neuss on day 17477 is 4911.509892332305 - 6314/13710  done - 4580 filled - total distance: 10820457.000174353 - 1 plant(s) detected - t: 21:46:23\u001B[1KDistance for depot Neuss on day 17481 is 4263.5247697368295 - 6318/13710  done - 4584 filled - total distance: 10838474.79111037 - 1 plant(s) detected - t: 21:46:23\u001B[1KDistance for depot Neuss on day 17485 is 8294.209781830148 - 6322/13710  done - 4588 filled - total distance: 10853467.568278542 - 1 plant(s) detected - t: 21:46:23\u001B[1K\u001B[1K\u001B[1K\u001B[1K\u001B[1K\u001B[1K\u001B[1K\u001B[1K\n",
      "Done with persitation at 21:46:24\n",
      "Starting quicksave at 21:46:37ay 17245 is 1385.6850801597373 - 7000/13710  done - 5164 filled - total distance: 11754650.223245867 - 1 plant(s) detected - t: 21:46:37\u001B[1K\ristance for depot Embsen on day 16739 is 1385.731772695509 - 6504/13710  done - 4675 filled - total distance: 10979382.427691044 - 1 plant(s) detected - t: 21:46:25\u001B[1K\u001B[1K\u001B[1K\u001B[1KDistance for depot Embsen on day 16773 is 1214.6378215290251 - 6536/13710  done - 4707 filled - total distance: 11026364.546542654 - 1 plant(s) detected - t: 21:46:25\u001B[1KDistance for depot Embsen on day 16781 is 1136.3186241263654 - 6544/13710  done - 4715 filled - total distance: 11042475.811506147 - 1 plant(s) detected - t: 21:46:26\u001B[1K\u001B[1K\u001B[1K\u001B[1KDistance for depot Embsen on day 16812 is 3146.866997183264 - 6574/13710  done - 4745 filled - total distance: 11091085.49280695 - 1 plant(s) detected - t: 21:46:26\u001B[1KDistance for depot Embsen on day 16819 is 3019.386302451235 - 6581/13710  done - 4752 filled - total distance: 11105547.816693043 - 1 plant(s) detected - t: 21:46:27\u001B[1K\u001B[1K\u001B[1KDistance for depot Embsen on day 16842 is 2179.5388015907224 - 6604/13710  done - 4775 filled - total distance: 11147581.055540714 - 1 plant(s) detected - t: 21:46:27\u001B[1K\u001B[1K\u001B[1KDistance for depot Embsen on day 16864 is 3173.929612522766 - 6626/13710  done - 4797 filled - total distance: 11187381.811435351 - 1 plant(s) detected - t: 21:46:28\u001B[1K\u001B[1K\u001B[1K\u001B[1K\u001B[1K\u001B[1K\u001B[1K\u001B[1K\u001B[1KDistance for depot Embsen on day 16931 is 2029.668250190701 - 6693/13710  done - 4864 filled - total distance: 11300557.363188175 - 1 plant(s) detected - t: 21:46:30\u001B[1K\u001B[1K\u001B[1K\u001B[1K\u001B[1K\u001B[1K\u001B[1K\u001B[1K\u001B[1K\u001B[1K\u001B[1K\u001B[1K\u001B[1K\u001B[1K\u001B[1K\u001B[1K\u001B[1K\u001B[1KDistance for depot Embsen on day 17085 is 1127.9509723018023 - 6843/13710  done - 5010 filled - total distance: 11533983.51456432 - 1 plant(s) detected - t: 21:46:33\u001B[1KDistance for depot Embsen on day 17093 is 1804.9678524001702 - 6851/13710  done - 5018 filled - total distance: 11549586.45451764 - 1 plant(s) detected - t: 21:46:33\u001B[1K\u001B[1K\u001B[1K\u001B[1K\u001B[1KDistance for depot Embsen on day 17134 is 1375.2083694298892 - 6892/13710  done - 5059 filled - total distance: 11611055.449504295 - 1 plant(s) detected - t: 21:46:34\u001B[1K\u001B[1K\u001B[1K\u001B[1KDistance for depot Embsen on day 17169 is 2656.4909163711945 - 6926/13710  done - 5093 filled - total distance: 11657307.96064129 - 1 plant(s) detected - t: 21:46:35\u001B[1K\u001B[1K\u001B[1K\u001B[1K\u001B[1K\u001B[1KDistance for depot Embsen on day 17220 is 1362.3973325019006 - 6976/13710  done - 5143 filled - total distance: 11729569.963952595 - 1 plant(s) detected - t: 21:46:36\u001B[1K\u001B[1K\u001B[1K\n",
      "Done with persitation at 21:46:37\n",
      "Starting quicksave at 21:46:49e on day 16823 is 9556.010464399978 - 7500/13710  done - 5580 filled - total distance: 12940465.612196008 - 1 plant(s) detected - t: 21:46:49\u001B[1KK\rK\u001B[1K\u001B[1K\u001B[1K\u001B[1K\u001B[1K\u001B[1KDistance for depot Embsen on day 17331 is 452.37837783322266 - 7083/13710  done - 5247 filled - total distance: 11843127.938592546 - 1 plant(s) detected - t: 21:46:38\u001B[1KDistance for depot Embsen on day 17341 is 1724.8747958421982 - 7093/13710  done - 5257 filled - total distance: 11853702.629856 - 1 plant(s) detected - t: 21:46:39\u001B[1K\u001B[1K\u001B[1K\u001B[1K\u001B[1K\u001B[1K\u001B[1K\u001B[1KDistance for depot Embsen on day 17412 is 1586.667084698732 - 7164/13710  done - 5328 filled - total distance: 11938970.30909077 - 1 plant(s) detected - t: 21:46:40\u001B[1K\u001B[1K\u001B[1K\u001B[1K\u001B[1K\u001B[1K\u001B[1K\u001B[1K\u001B[1K\u001B[1K\u001B[1K\u001B[1K\u001B[1K\u001B[1K\u001B[1K\u001B[1K\u001B[1K\u001B[1KDistance for depot Rottleberode on day 16735 is 5612.056697025343 - 7415/13710  done - 5495 filled - total distance: 12270602.93074031 - 1 plant(s) detected - t: 21:46:44\u001B[1KDistance for depot Rottleberode on day 16739 is 8787.725204780318 - 7419/13710  done - 5499 filled - total distance: 12299463.66005228 - 1 plant(s) detected - t: 21:46:44\u001B[1KDistance for depot Rottleberode on day 16743 is 9766.989864225532 - 7423/13710  done - 5503 filled - total distance: 12331990.801402368 - 1 plant(s) detected - t: 21:46:44\u001B[1KDistance for depot Rottleberode on day 16747 is 7420.6943506971065 - 7427/13710  done - 5507 filled - total distance: 12364140.031230448 - 1 plant(s) detected - t: 21:46:44\u001B[1K\u001B[1KDistance for depot Rottleberode on day 16756 is 7261.671979908782 - 7436/13710  done - 5516 filled - total distance: 12430460.416084029 - 1 plant(s) detected - t: 21:46:45\u001B[1KDistance for depot Rottleberode on day 16760 is 6335.13574218019 - 7440/13710  done - 5520 filled - total distance: 12463517.043666704 - 1 plant(s) detected - t: 21:46:45\u001B[1KDistance for depot Rottleberode on day 16764 is 6585.627054192845 - 7444/13710  done - 5524 filled - total distance: 12496968.709905006 - 1 plant(s) detected - t: 21:46:45\u001B[1KDistance for depot Rottleberode on day 16768 is 10393.001871207713 - 7448/13710  done - 5528 filled - total distance: 12526018.167678041 - 1 plant(s) detected - t: 21:46:45\u001B[1KDistance for depot Rottleberode on day 16775 is 10394.784279143092 - 7453/13710  done - 5533 filled - total distance: 12557841.032028843 - 1 plant(s) detected - t: 21:46:46\u001B[1KDistance for depot Rottleberode on day 16779 is 7222.914426754713 - 7457/13710  done - 5537 filled - total distance: 12592662.551302165 - 1 plant(s) detected - t: 21:46:46\u001B[1KDistance for depot Rottleberode on day 16783 is 8665.851764115601 - 7461/13710  done - 5541 filled - total distance: 12622767.316053718 - 1 plant(s) detected - t: 21:46:46\u001B[1K\u001B[1KDistance for depot Rottleberode on day 16789 is 9069.428142681852 - 7467/13710  done - 5547 filled - total distance: 12671693.821056522 - 1 plant(s) detected - t: 21:46:47\u001B[1KDistance for depot Rottleberode on day 16793 is 8785.128862124167 - 7471/13710  done - 5551 filled - total distance: 12702323.824254384 - 1 plant(s) detected - t: 21:46:47\u001B[1KDistance for depot Rottleberode on day 16797 is 8409.129723332737 - 7475/13710  done - 5555 filled - total distance: 12732089.097390689 - 1 plant(s) detected - t: 21:46:47\u001B[1KDistance for depot Rottleberode on day 16802 is 8714.495413995923 - 7479/13710  done - 5559 filled - total distance: 12762692.438164756 - 1 plant(s) detected - t: 21:46:47\u001B[1KDistance for depot Rottleberode on day 16806 is 7509.3036047122805 - 7483/13710  done - 5563 filled - total distance: 12795757.50079111 - 1 plant(s) detected - t: 21:46:47\u001B[1K\u001B[1KDistance for depot Rottleberode on day 16813 is 11236.156111671595 - 7490/13710  done - 5570 filled - total distance: 12861605.621149903 - 1 plant(s) detected - t: 21:46:48\u001B[1KDistance for depot Rottleberode on day 16817 is 5180.751057930037 - 7494/13710  done - 5574 filled - total distance: 12895150.611574106 - 1 plant(s) detected - t: 21:46:48\u001B[1KDistance for depot Rottleberode on day 16820 is 7646.771504566828 - 7497/13710  done - 5577 filled - total distance: 12919219.035142854 - 1 plant(s) detected - t: 21:46:48\u001B[1K\n",
      "Done with persitation at 21:46:49\n",
      "Starting quicksave at 21:47:18e on day 17333 is 9993.143134188083 - 8000/13710  done - 6076 filled - total distance: 17085614.67868722 - 1 plant(s) detected - t: 21:47:18\u001B[1K1K\ristance for depot Rottleberode on day 16830 is 8534.76597692959 - 7507/13710  done - 5587 filled - total distance: 13004402.350312546 - 1 plant(s) detected - t: 21:46:49\u001B[1KDistance for depot Rottleberode on day 16833 is 9639.779875679862 - 7510/13710  done - 5590 filled - total distance: 13030277.222816033 - 1 plant(s) detected - t: 21:46:49\u001B[1K\u001B[1KDistance for depot Rottleberode on day 16840 is 7802.954545871438 - 7517/13710  done - 5597 filled - total distance: 13085273.476908373 - 1 plant(s) detected - t: 21:46:50\u001B[1K\u001B[1K\u001B[1KDistance for depot Rottleberode on day 16851 is 8455.739405892298 - 7528/13710  done - 5608 filled - total distance: 13172910.520601563 - 1 plant(s) detected - t: 21:46:50\u001B[1KDistance for depot Rottleberode on day 16855 is 7746.778171513441 - 7532/13710  done - 5612 filled - total distance: 13204317.31564292 - 1 plant(s) detected - t: 21:46:51\u001B[1KDistance for depot Rottleberode on day 16858 is 8866.88440761606 - 7535/13710  done - 5615 filled - total distance: 13228382.453425502 - 1 plant(s) detected - t: 21:46:51\u001B[1K\u001B[1KDistance for depot Rottleberode on day 16864 is 8486.944392947948 - 7541/13710  done - 5621 filled - total distance: 13279531.059529254 - 1 plant(s) detected - t: 21:46:51\u001B[1KDistance for depot Rottleberode on day 16868 is 7632.162381008048 - 7545/13710  done - 5625 filled - total distance: 13313670.726654394 - 1 plant(s) detected - t: 21:46:51\u001B[1KDistance for depot Rottleberode on day 16871 is 9779.867819981302 - 7548/13710  done - 5628 filled - total distance: 13341401.158973068 - 1 plant(s) detected - t: 21:46:52\u001B[1KDistance for depot Rottleberode on day 16874 is 8439.21180863435 - 7551/13710  done - 5631 filled - total distance: 13370813.044125173 - 1 plant(s) detected - t: 21:46:52\u001B[1K\u001B[1K\u001B[1K\u001B[1K\u001B[1K\u001B[1KDistance for depot Rottleberode on day 16893 is 8656.371469996426 - 7570/13710  done - 5650 filled - total distance: 13535600.953421645 - 1 plant(s) detected - t: 21:46:53\u001B[1KDistance for depot Rottleberode on day 16897 is 11037.549835763237 - 7574/13710  done - 5654 filled - total distance: 13568035.22245525 - 1 plant(s) detected - t: 21:46:53\u001B[1KDistance for depot Rottleberode on day 16900 is 8368.87094074121 - 7577/13710  done - 5657 filled - total distance: 13597374.737398129 - 1 plant(s) detected - t: 21:46:54\u001B[1KDistance for depot Rottleberode on day 16904 is 6820.963518339662 - 7581/13710  done - 5661 filled - total distance: 13632690.402664939 - 1 plant(s) detected - t: 21:46:54\u001B[1K\u001B[1KDistance for depot Rottleberode on day 16911 is 8913.238056003973 - 7588/13710  done - 5668 filled - total distance: 13698444.437739234 - 1 plant(s) detected - t: 21:46:54\u001B[1KDistance for depot Rottleberode on day 16914 is 10852.279384075984 - 7591/13710  done - 5671 filled - total distance: 13726714.883618461 - 1 plant(s) detected - t: 21:46:55\u001B[1K\u001B[1KDistance for depot Rottleberode on day 16920 is 11479.298890664577 - 7597/13710  done - 5677 filled - total distance: 13781829.809528159 - 1 plant(s) detected - t: 21:46:55\u001B[1KDistance for depot Rottleberode on day 16923 is 8699.571737895665 - 7600/13710  done - 5680 filled - total distance: 13810527.834630705 - 1 plant(s) detected - t: 21:46:55\u001B[1K\u001B[1KDistance for depot Rottleberode on day 16930 is 11963.360744971273 - 7607/13710  done - 5687 filled - total distance: 13884274.132517498 - 1 plant(s) detected - t: 21:46:56\u001B[1KDistance for depot Rottleberode on day 16933 is 9512.572394564027 - 7610/13710  done - 5690 filled - total distance: 13912634.355723124 - 1 plant(s) detected - t: 21:46:56\u001B[1K\u001B[1K\u001B[1KDistance for depot Rottleberode on day 16942 is 9003.425582964905 - 7619/13710  done - 5699 filled - total distance: 13998941.05235273 - 1 plant(s) detected - t: 21:46:57\u001B[1KDistance for depot Rottleberode on day 16945 is 8322.215586283783 - 7622/13710  done - 5702 filled - total distance: 14026166.917339034 - 1 plant(s) detected - t: 21:46:57\u001B[1KDistance for depot Rottleberode on day 16949 is 8489.8630095046 - 7626/13710  done - 5706 filled - total distance: 14056853.890140828 - 1 plant(s) detected - t: 21:46:57\u001B[1KDistance for depot Rottleberode on day 16952 is 7952.376659348944 - 7629/13710  done - 5709 filled - total distance: 14085941.558953581 - 1 plant(s) detected - t: 21:46:57\u001B[1KDistance for depot Rottleberode on day 16955 is 9492.519772789932 - 7632/13710  done - 5712 filled - total distance: 14112370.481014088 - 1 plant(s) detected - t: 21:46:57\u001B[1KDistance for depot Rottleberode on day 16958 is 10258.995330369555 - 7635/13710  done - 5715 filled - total distance: 14138423.944692522 - 1 plant(s) detected - t: 21:46:58\u001B[1KDistance for depot Rottleberode on day 16960 is 8289.111024836691 - 7637/13710  done - 5717 filled - total distance: 14156716.90657016 - 1 plant(s) detected - t: 21:46:58\u001B[1KDistance for depot Rottleberode on day 16964 is 18920.01231902625 - 7641/13710  done - 5721 filled - total distance: 14190908.909586433 - 1 plant(s) detected - t: 21:46:58\u001B[1K\u001B[1K\u001B[1K\u001B[1KDistance for depot Rottleberode on day 16991 is 9451.61961310098 - 7667/13710  done - 5745 filled - total distance: 14342616.697678471 - 1 plant(s) detected - t: 21:46:59\u001B[1K\u001B[1K\u001B[1K\u001B[1KDistance for depot Rottleberode on day 17009 is 3557.267126974739 - 7685/13710  done - 5763 filled - total distance: 14463125.178209806 - 1 plant(s) detected - t: 21:47:00\u001B[1KDistance for depot Rottleberode on day 17013 is 9595.020418056 - 7689/13710  done - 5767 filled - total distance: 14489151.166260526 - 1 plant(s) detected - t: 21:47:00\u001B[1KDistance for depot Rottleberode on day 17017 is 9179.363345194577 - 7693/13710  done - 5771 filled - total distance: 14516618.587130558 - 1 plant(s) detected - t: 21:47:00\u001B[1KDistance for depot Rottleberode on day 17022 is 8731.049118078325 - 7698/13710  done - 5776 filled - total distance: 14551069.211302679 - 1 plant(s) detected - t: 21:47:00\u001B[1KDistance for depot Rottleberode on day 17026 is 6611.214683822331 - 7702/13710  done - 5780 filled - total distance: 14580911.859337917 - 1 plant(s) detected - t: 21:47:01\u001B[1K\u001B[1K\u001B[1KDistance for depot Rottleberode on day 17037 is 10610.178131672264 - 7713/13710  done - 5791 filled - total distance: 14664556.111312976 - 1 plant(s) detected - t: 21:47:01\u001B[1K\u001B[1K\u001B[1K\u001B[1KDistance for depot Rottleberode on day 17053 is 9158.594961617642 - 7727/13710  done - 5805 filled - total distance: 14780613.955622554 - 1 plant(s) detected - t: 21:47:02\u001B[1KDistance for depot Rottleberode on day 17057 is 13711.815619663908 - 7731/13710  done - 5809 filled - total distance: 14822062.666637255 - 1 plant(s) detected - t: 21:47:02\u001B[1KDistance for depot Rottleberode on day 17061 is 12273.37789985283 - 7735/13710  done - 5813 filled - total distance: 14861882.057538373 - 1 plant(s) detected - t: 21:47:02\u001B[1KDistance for depot Rottleberode on day 17064 is 9013.545737397708 - 7738/13710  done - 5816 filled - total distance: 14895491.277541285 - 1 plant(s) detected - t: 21:47:03\u001B[1K\u001B[1KDistance for depot Rottleberode on day 17070 is 10798.450016358465 - 7744/13710  done - 5822 filled - total distance: 14948721.152745806 - 1 plant(s) detected - t: 21:47:03\u001B[1KDistance for depot Rottleberode on day 17074 is 11394.039083987976 - 7748/13710  done - 5826 filled - total distance: 14995880.511729944 - 1 plant(s) detected - t: 21:47:03\u001B[1KDistance for depot Rottleberode on day 17079 is 11718.191085627886 - 7752/13710  done - 5830 filled - total distance: 15035739.517976668 - 1 plant(s) detected - t: 21:47:04\u001B[1KDistance for depot Rottleberode on day 17084 is 12680.573746448526 - 7757/13710  done - 5835 filled - total distance: 15091141.47745239 - 1 plant(s) detected - t: 21:47:04\u001B[1K\u001B[1K\u001B[1K\u001B[1K\u001B[1KDistance for depot Rottleberode on day 17098 is 8720.685647187476 - 7771/13710  done - 5849 filled - total distance: 15234465.0851018 - 1 plant(s) detected - t: 21:47:05\u001B[1K\u001B[1KDistance for depot Rottleberode on day 17104 is 9190.77837801428 - 7777/13710  done - 5855 filled - total distance: 15293010.875242246 - 1 plant(s) detected - t: 21:47:05\u001B[1K\u001B[1KDistance for depot Rottleberode on day 17110 is 10693.879313928985 - 7783/13710  done - 5861 filled - total distance: 15349169.366369216 - 1 plant(s) detected - t: 21:47:06\u001B[1K\u001B[1KDistance for depot Rottleberode on day 17117 is 9850.925396264423 - 7790/13710  done - 5868 filled - total distance: 15417413.076555805 - 1 plant(s) detected - t: 21:47:06\u001B[1KDistance for depot Rottleberode on day 17120 is 9519.993772986762 - 7793/13710  done - 5871 filled - total distance: 15448307.849099066 - 1 plant(s) detected - t: 21:47:06\u001B[1KDistance for depot Rottleberode on day 17123 is 7432.4983857798925 - 7796/13710  done - 5874 filled - total distance: 15478814.951953227 - 1 plant(s) detected - t: 21:47:07\u001B[1KDistance for depot Rottleberode on day 17126 is 8213.99193446487 - 7799/13710  done - 5877 filled - total distance: 15507059.281458175 - 1 plant(s) detected - t: 21:47:07\u001B[1KDistance for depot Rottleberode on day 17129 is 11673.693905920902 - 7802/13710  done - 5880 filled - total distance: 15532188.704805396 - 1 plant(s) detected - t: 21:47:07\u001B[1K\u001B[1K\u001B[1KDistance for depot Rottleberode on day 17138 is 9781.090486600555 - 7811/13710  done - 5889 filled - total distance: 15622244.77341978 - 1 plant(s) detected - t: 21:47:08\u001B[1KDistance for depot Rottleberode on day 17142 is 9938.969527223708 - 7815/13710  done - 5893 filled - total distance: 15654953.43746462 - 1 plant(s) detected - t: 21:47:08\u001B[1KDistance for depot Rottleberode on day 17146 is 13486.878568776336 - 7819/13710  done - 5897 filled - total distance: 15694615.869241688 - 1 plant(s) detected - t: 21:47:08\u001B[1K\u001B[1KDistance for depot Rottleberode on day 17152 is 8091.37957545095 - 7825/13710  done - 5903 filled - total distance: 15751566.297720954 - 1 plant(s) detected - t: 21:47:09\u001B[1KDistance for depot Rottleberode on day 17154 is 10124.052082397031 - 7827/13710  done - 5905 filled - total distance: 15773113.349992827 - 1 plant(s) detected - t: 21:47:09\u001B[1KDistance for depot Rottleberode on day 17157 is 11504.59143207352 - 7830/13710  done - 5908 filled - total distance: 15801550.891510433 - 1 plant(s) detected - t: 21:47:09\u001B[1KDistance for depot Rottleberode on day 17159 is 10606.387245663645 - 7832/13710  done - 5910 filled - total distance: 15823816.373021271 - 1 plant(s) detected - t: 21:47:09\u001B[1KDistance for depot Rottleberode on day 17162 is 9443.24592556205 - 7835/13710  done - 5913 filled - total distance: 15852596.3055371 - 1 plant(s) detected - t: 21:47:10\u001B[1KDistance for depot Rottleberode on day 17165 is 10170.477941869553 - 7838/13710  done - 5916 filled - total distance: 15883227.100980122 - 1 plant(s) detected - t: 21:47:10\u001B[1KDistance for depot Rottleberode on day 17169 is 8838.615524762705 - 7841/13710  done - 5919 filled - total distance: 15914680.797785956 - 1 plant(s) detected - t: 21:47:10\u001B[1KDistance for depot Rottleberode on day 17173 is 10544.201081215522 - 7845/13710  done - 5923 filled - total distance: 15945634.604117507 - 1 plant(s) detected - t: 21:47:10\u001B[1K\u001B[1KDistance for depot Rottleberode on day 17179 is 13282.88650608085 - 7851/13710  done - 5929 filled - total distance: 16004057.42559076 - 1 plant(s) detected - t: 21:47:11\u001B[1KDistance for depot Rottleberode on day 17182 is 11424.64537353675 - 7854/13710  done - 5932 filled - total distance: 16034270.936971316 - 1 plant(s) detected - t: 21:47:11\u001B[1KDistance for depot Rottleberode on day 17185 is 8500.876174035324 - 7857/13710  done - 5935 filled - total distance: 16067134.427125894 - 1 plant(s) detected - t: 21:47:11\u001B[1KDistance for depot Rottleberode on day 17190 is 14150.52948739364 - 7861/13710  done - 5939 filled - total distance: 16101110.01608989 - 1 plant(s) detected - t: 21:47:12\u001B[1KDistance for depot Rottleberode on day 17193 is 10240.814899425903 - 7864/13710  done - 5942 filled - total distance: 16133643.783388503 - 1 plant(s) detected - t: 21:47:12\u001B[1KDistance for depot Rottleberode on day 17197 is 10385.783782935689 - 7868/13710  done - 5946 filled - total distance: 16168883.967219606 - 1 plant(s) detected - t: 21:47:12\u001B[1KDistance for depot Rottleberode on day 17200 is 9925.533248174204 - 7871/13710  done - 5949 filled - total distance: 16204035.054675639 - 1 plant(s) detected - t: 21:47:12\u001B[1KDistance for depot Rottleberode on day 17204 is 9872.391652492293 - 7875/13710  done - 5953 filled - total distance: 16234541.63425026 - 1 plant(s) detected - t: 21:47:12\u001B[1KDistance for depot Rottleberode on day 17207 is 10823.465140284843 - 7878/13710  done - 5956 filled - total distance: 16262010.90202419 - 1 plant(s) detected - t: 21:47:13\u001B[1KDistance for depot Rottleberode on day 17210 is 9072.063963573702 - 7881/13710  done - 5959 filled - total distance: 16294751.370720292 - 1 plant(s) detected - t: 21:47:13\u001B[1KDistance for depot Rottleberode on day 17213 is 11899.082869569604 - 7884/13710  done - 5962 filled - total distance: 16326266.882359909 - 1 plant(s) detected - t: 21:47:13\u001B[1KDistance for depot Rottleberode on day 17217 is 10658.694013407527 - 7888/13710  done - 5966 filled - total distance: 16364446.82956282 - 1 plant(s) detected - t: 21:47:13\u001B[1K\u001B[1KDistance for depot Rottleberode on day 17223 is 12698.52186874236 - 7894/13710  done - 5972 filled - total distance: 16430063.423402738 - 1 plant(s) detected - t: 21:47:14\u001B[1KDistance for depot Rottleberode on day 17233 is 29215.16609648869 - 7903/13710  done - 5979 filled - total distance: 16469859.223178357 - 1 plant(s) detected - t: 21:47:14\u001B[1K\u001B[1KDistance for depot Rottleberode on day 17245 is 8424.727371688805 - 7915/13710  done - 5991 filled - total distance: 16569858.844021294 - 1 plant(s) detected - t: 21:47:15\u001B[1KDistance for depot Rottleberode on day 17250 is 4640.287907361496 - 7920/13710  done - 5996 filled - total distance: 16601117.915176861 - 1 plant(s) detected - t: 21:47:15\u001B[1KDistance for depot Rottleberode on day 17255 is 6341.045941998509 - 7925/13710  done - 6001 filled - total distance: 16629015.982671835 - 1 plant(s) detected - t: 21:47:15\u001B[1K\u001B[1K\u001B[1K\u001B[1K\u001B[1K\u001B[1K\u001B[1KDistance for depot Rottleberode on day 17290 is 4824.359401192682 - 7960/13710  done - 6036 filled - total distance: 16836200.817424726 - 1 plant(s) detected - t: 21:47:16\u001B[1KDistance for depot Rottleberode on day 17295 is 5800.7851609036015 - 7965/13710  done - 6041 filled - total distance: 16868555.455295604 - 1 plant(s) detected - t: 21:47:17\u001B[1K\u001B[1KDistance for depot Rottleberode on day 17306 is 5506.994259406026 - 7975/13710  done - 6051 filled - total distance: 16933574.174353007 - 1 plant(s) detected - t: 21:47:17\u001B[1K\u001B[1K\u001B[1K\u001B[1KDistance for depot Rottleberode on day 17327 is 7457.710285954725 - 7994/13710  done - 6070 filled - total distance: 17051448.998473752 - 1 plant(s) detected - t: 21:47:18\u001B[1K\u001B[1K\n",
      "Done with persitation at 21:47:18\n",
      "Starting quicksave at 21:47:28e on day 17548 is 787.5589964375024 - 8213/13710  done - 6283 filled - total distance: 18463012.239735898 - 1 plant(s) detected - t: 21:47:28\u001B[1KK\r[1KDistance for depot Rottleberode on day 17345 is 5168.868620777757 - 8012/13710  done - 6088 filled - total distance: 17176926.324862458 - 1 plant(s) detected - t: 21:47:19\u001B[1KDistance for depot Rottleberode on day 17349 is 7912.243974310298 - 8016/13710  done - 6092 filled - total distance: 17209083.566317953 - 1 plant(s) detected - t: 21:47:19\u001B[1K\u001B[1K\u001B[1KDistance for depot Rottleberode on day 17361 is 10771.695527212543 - 8028/13710  done - 6104 filled - total distance: 17303274.038027637 - 1 plant(s) detected - t: 21:47:19\u001B[1KDistance for depot Rottleberode on day 17365 is 6137.418783619365 - 8032/13710  done - 6108 filled - total distance: 17339440.929259825 - 1 plant(s) detected - t: 21:47:20\u001B[1K\u001B[1KDistance for depot Rottleberode on day 17372 is 7781.673473056648 - 8039/13710  done - 6115 filled - total distance: 17384867.99313954 - 1 plant(s) detected - t: 21:47:20\u001B[1K\u001B[1K\u001B[1KDistance for depot Rottleberode on day 17386 is 7773.487288553268 - 8053/13710  done - 6129 filled - total distance: 17475918.586568743 - 1 plant(s) detected - t: 21:47:21\u001B[1KDistance for depot Rottleberode on day 17390 is 8794.537272468539 - 8057/13710  done - 6133 filled - total distance: 17504610.061480705 - 1 plant(s) detected - t: 21:47:21\u001B[1KDistance for depot Rottleberode on day 17394 is 6170.949290513749 - 8061/13710  done - 6137 filled - total distance: 17533952.113739576 - 1 plant(s) detected - t: 21:47:21\u001B[1KDistance for depot Rottleberode on day 17398 is 9771.17960543829 - 8065/13710  done - 6141 filled - total distance: 17552949.25337911 - 1 plant(s) detected - t: 21:47:21\u001B[1KDistance for depot Rottleberode on day 17402 is 7653.299191959038 - 8069/13710  done - 6145 filled - total distance: 17585428.952171944 - 1 plant(s) detected - t: 21:47:22\u001B[1K\u001B[1KDistance for depot Rottleberode on day 17409 is 9314.749499699212 - 8076/13710  done - 6152 filled - total distance: 17634823.164201584 - 1 plant(s) detected - t: 21:47:22\u001B[1KDistance for depot Rottleberode on day 17413 is 7181.532663092864 - 8080/13710  done - 6156 filled - total distance: 17666866.953698825 - 1 plant(s) detected - t: 21:47:22\u001B[1KDistance for depot Rottleberode on day 17417 is 8868.568124330692 - 8084/13710  done - 6160 filled - total distance: 17699666.181211144 - 1 plant(s) detected - t: 21:47:23\u001B[1KDistance for depot Rottleberode on day 17421 is 6870.085152371704 - 8088/13710  done - 6164 filled - total distance: 17733132.977427974 - 1 plant(s) detected - t: 21:47:23\u001B[1K\u001B[1K\u001B[1KDistance for depot Rottleberode on day 17432 is 9285.2502098175 - 8099/13710  done - 6175 filled - total distance: 17825396.112266626 - 1 plant(s) detected - t: 21:47:23\u001B[1KDistance for depot Rottleberode on day 17436 is 8647.440348220374 - 8103/13710  done - 6179 filled - total distance: 17855136.950208787 - 1 plant(s) detected - t: 21:47:24\u001B[1KDistance for depot Rottleberode on day 17439 is 7270.084723292381 - 8106/13710  done - 6182 filled - total distance: 17885737.219956297 - 1 plant(s) detected - t: 21:47:24\u001B[1KDistance for depot Rottleberode on day 17442 is 10098.893130239889 - 8109/13710  done - 6185 filled - total distance: 17906189.778620996 - 1 plant(s) detected - t: 21:47:24\u001B[1KDistance for depot Rottleberode on day 17446 is 7919.059309480843 - 8113/13710  done - 6189 filled - total distance: 17935366.818643257 - 1 plant(s) detected - t: 21:47:24\u001B[1KDistance for depot Rottleberode on day 17449 is 12106.403894542858 - 8116/13710  done - 6192 filled - total distance: 17960434.505969588 - 1 plant(s) detected - t: 21:47:24\u001B[1KDistance for depot Rottleberode on day 17453 is 9901.332093839288 - 8120/13710  done - 6196 filled - total distance: 18002162.58002966 - 1 plant(s) detected - t: 21:47:25\u001B[1KDistance for depot Rottleberode on day 17457 is 7195.679346433972 - 8124/13710  done - 6200 filled - total distance: 18035311.54576608 - 1 plant(s) detected - t: 21:47:25\u001B[1KDistance for depot Rottleberode on day 17460 is 6811.180840040852 - 8127/13710  done - 6203 filled - total distance: 18064811.93445993 - 1 plant(s) detected - t: 21:47:25\u001B[1KDistance for depot Rottleberode on day 17464 is 7390.495480817008 - 8131/13710  done - 6207 filled - total distance: 18090829.10286127 - 1 plant(s) detected - t: 21:47:25\u001B[1KDistance for depot Rottleberode on day 17468 is 7999.889495521923 - 8135/13710  done - 6211 filled - total distance: 18122030.07866571 - 1 plant(s) detected - t: 21:47:26\u001B[1KDistance for depot Rottleberode on day 17472 is 8023.404476784466 - 8139/13710  done - 6215 filled - total distance: 18153480.819735423 - 1 plant(s) detected - t: 21:47:26\u001B[1K\u001B[1KDistance for depot Rottleberode on day 17478 is 6457.693933471145 - 8145/13710  done - 6221 filled - total distance: 18202715.925006345 - 1 plant(s) detected - t: 21:47:26\u001B[1KDistance for depot Rottleberode on day 17481 is 8235.571576999897 - 8148/13710  done - 6224 filled - total distance: 18232355.56154462 - 1 plant(s) detected - t: 21:47:26\u001B[1KDistance for depot Rottleberode on day 17485 is 16300.08542656243 - 8152/13710  done - 6228 filled - total distance: 18270834.11581127 - 1 plant(s) detected - t: 21:47:27\u001B[1K\u001B[1K\u001B[1K\u001B[1K\u001B[1K\u001B[1K\n",
      "Done with persitation at 21:47:28\n",
      "Starting quicksave at 21:47:28\n",
      "Done with persitation at 21:47:28\n",
      "Starting quicksave at 21:47:28\n",
      "Done with persitation at 21:47:28\n",
      "Starting quicksave at 21:47:28\n",
      "Done with persitation at 21:47:28\n",
      "Starting quicksave at 21:47:28\n",
      "Done with persitation at 21:47:28\n",
      "Starting quicksave at 21:47:28\n",
      "Done with persitation at 21:47:28\n",
      "Starting quicksave at 21:47:28\n",
      "Done with persitation at 21:47:28\n",
      "Starting quicksave at 21:47:28\n",
      "Done with persitation at 21:47:28\n",
      "Starting quicksave at 21:47:28\n",
      "Done with persitation at 21:47:28\n",
      "Starting quicksave at 21:47:28\n",
      "Done with persitation at 21:47:28\n",
      "Starting quicksave at 21:47:28\n",
      "Done with persitation at 21:47:28\n",
      "\n",
      "There are 53178 dropoffs and 53179 pickups listet which creates a difference of -1\n",
      "Done with inital solution at 21:47:28 - total distance: 18463799.798732337 - for 13725 total tours and 6284 filled\n"
     ]
    }
   ],
   "source": [
    "#create inital solution\n",
    "\"\"\" every silo is delivered on the day it is needed and picked up the day it is not needed anymore, the tour swichtes between plant and sites - starting and ending at the depot\"\"\"\n",
    "\n",
    "fc.print_log(\"Starting with inital solution at {}\".format(fc.get_time()))\n",
    "\n",
    "#assign start and end day as dropoff and pickup day +/-1 one \n",
    "for j in list_jobs:\n",
    "  j.dropoff_day = fc.day_navigation(j.start,1,list_days) #-1\n",
    "  j.pickup_day = fc.day_navigation(j.end,0,list_days) #+1\n",
    "  j.dropoff_depot = j.prox_depot\n",
    "  j.pickup_depot = j.prox_depot\n",
    "\n",
    "  #assign inital tours\n",
    "  j.dropoff_tour = dict_tours[j.dropoff_depot.name][j.dropoff_day]\n",
    "  j.pickup_tour = dict_tours[j.pickup_depot.name][j.pickup_day]\n",
    "\n",
    "  #insert jobs and plants into tours for dropoff and pickup\n",
    "  if j not in j.dropoff_tour.list_dropoffs:\n",
    "    j.dropoff_tour.list_dropoffs.append(j)\n",
    "  if j.plant not in j.dropoff_tour.list_plants:\n",
    "    j.dropoff_tour.list_plants.append(j.plant)\n",
    "  \n",
    "  if j not in j.pickup_tour.list_pickups:\n",
    "    j.pickup_tour.list_pickups.append(j)\n",
    "  if j.plant not in j.pickup_tour.list_plants:\n",
    "    j.pickup_tour.list_plants.append(j.plant)\n",
    "  \n",
    "\n",
    "i_pickups = 0\n",
    "i_dropoffs = 0\n",
    "i_multiple_plants = 0\n",
    "\n",
    "\n",
    "######################################################################################################\n",
    "#count the number of pickups and dropoffs and write into the tours, also detect multiple plants \n",
    "for depot in dict_depots:\n",
    "  for day in list_days:\n",
    "    \n",
    "   i_pickups = i_pickups + len(dict_tours[depot][day].list_pickups)\n",
    "   i_dropoffs = i_dropoffs + len(dict_tours[depot][day].list_dropoffs)\n",
    "   dict_tours[depot][day].total_pickups = len(dict_tours[depot][day].list_pickups)\n",
    "   dict_tours[depot][day].total_dropoffs = len(dict_tours[depot][day].list_dropoffs) \n",
    "   dict_tours[depot][day].total_tasks =  dict_tours[depot][day].total_pickups + dict_tours[depot][day].total_dropoffs \n",
    "    \n",
    "   if len(dict_tours[depot][day].list_plants) > 1:\n",
    "     i_multiple_plants = i_multiple_plants + 1\n",
    "     fc.print_log(\"Warning at Tour from {} and day {} - {} plants listed\".format(depot,day,len(dict_tours[depot][day].list_plants)))\n",
    "     p_names = []\n",
    "     for p in dict_tours[depot][day].list_plants:\n",
    "       p_names.append(p.name)\n",
    "     print(p_names)\n",
    "\n",
    "\n",
    "        \n",
    "######################################################################################################\n",
    "#reassign to fit max tours constrai\n",
    "\n",
    "#not set to max tour size too leave room for local moves\n",
    "max_inital_toursize = 100\n",
    "#run as long as max value is exceeded\n",
    "max_exceeded = True\n",
    "#log iteration\n",
    "i_loop_iteration = 0\n",
    "total_reassignments = 0\n",
    "\n",
    "fc.print_log(\"Starting reassignmentat {}\".format(fc.get_time()))\n",
    "\n",
    "while max_exceeded:\n",
    "    i_loop_iteration += 1 \n",
    "    max_exceeded = False\n",
    "    for depot in dict_depots:\n",
    "      for tour_day in list_days:\n",
    "        if dict_tours[depot][tour_day].total_tasks > max_inital_toursize:\n",
    "            if dict_tours[depot][tour_day].total_tasks > max_overflow:\n",
    "                max_exceeded = True\n",
    "                #get difference between max value and tour\n",
    "                difference = dict_tours[depot][tour_day].total_tasks - max_inital_toursize\n",
    "\n",
    "                #define pickups and dropoffs to be moved to another tour\n",
    "                list_moveable_pickups = []\n",
    "                list_moveable_dropoffs = []\n",
    "                #later the worst elements should be moved(when the routing is done, now it doesnt matter)\n",
    "                #while selecting tasks, flatten out pickups and dropoff difference\n",
    "                print(\"iteration: {} difference: {}, total_tasks: {}, day: {}, depot: {} \".format(i_loop_iteration,difference,dict_tours[depot][tour_day].total_tasks,tour_day,depot))\n",
    "                for iteration in range(difference):\n",
    "                    if dict_tours[depot][tour_day].total_dropoffs > dict_tours[depot][tour_day].total_pickups:\n",
    "                        #pop the first task, so appended don't get handed down\n",
    "                        list_moveable_pickups.append(dict_tours[depot][tour_day].list_dropoffs.pop(0))\n",
    "                    else: #else, bc if equal it doesn't matter and pickup can be popped\n",
    "                        list_moveable_pickups.append(dict_tours[depot][tour_day].list_pickups.pop(0))  \n",
    "\n",
    "                dict_tours[depot][tour_day].update_totals()\n",
    "                #now assign all tasks to the next tour - this might create another overflow, but keeps \n",
    "                #the tasks as close to the original date as possible\n",
    "\n",
    "                #days are can not just be added or substracted so the index is determined\n",
    "                tour_day_index = list_days.index(tour_day)\n",
    "\n",
    "                #move dropoffs to tour before:    \n",
    "                for task in list_moveable_dropoffs:\n",
    "                    #read the day before from the days list and append entry\n",
    "                    day_before = list_days[tour_day_index-1]\n",
    "                    dict_tours[depot][day_before].list_dropoffs.append(task)\n",
    "                    dict_tours[depot][day_before].update_totals()\n",
    "\n",
    "\n",
    "                #move pickups to tour after:    \n",
    "                for task in list_moveable_pickups:\n",
    "                    #read the day before from the days list and append entry\n",
    "                    day_after = list_days[tour_day_index+1]\n",
    "                    dict_tours[depot][day_after].list_dropoffs.append(task)\n",
    "                    dict_tours[depot][day_after].update_totals()\n",
    "\n",
    "                total_reassignments += (len(list_moveable_dropoffs)+len(list_moveable_pickups))       \n",
    "\n",
    "        \n",
    "    \n",
    "fc.print_log(\"Done with reassignment at {} - {} tasks reassigned\".format(fc.get_time(),total_reassignments))        \n",
    "\n",
    "######################################################################################################\n",
    "\n",
    "\n",
    "#calculate the routing for the created inital solution\n",
    "total_tours = 0\n",
    "used_tours = 0\n",
    "total_distance = 0\n",
    "sys.setrecursionlimit(100000) # for export\n",
    "\n",
    "for depot in dict_depots:\n",
    "  for day in list_days:\n",
    "    if len(dict_tours[depot][day].list_plants)>0:\n",
    "      rt.routing(dict_tours[depot][day])\n",
    "      fc.print_log(\"Distance for depot {} on day {} is {} - {}/{}  done - {} filled - total distance: {} - {} plant(s) detected - t: {}\".format(depot,day,dict_tours[depot][day].distance,total_tours,total_tours_created,used_tours,total_distance,len(dict_tours[depot][day].list_plants),fc.get_time()), overwrite_inline = True)\n",
    "      total_distance += dict_tours[depot][day].distance\n",
    "      used_tours += 1  \n",
    "    for i in range(30):\n",
    "        if total_tours == i*500:\n",
    "            #quicksave all data objects every 500 iterations\n",
    "            fc.quick_save(persistation_objects,string_exp_path,total_tours)\n",
    "    total_tours += 1\n",
    "  \n",
    "print(\"\")\n",
    "fc.print_log(\"There are {} dropoffs and {} pickups listet which creates a difference of {}\".format(i_dropoffs,i_pickups,i_dropoffs-i_pickups))\n",
    "fc.print_log(\"Done with inital solution at {} - total distance: {} - for {} total tours and {} filled\".format(fc.get_time(),total_distance, total_tours, used_tours)) "
   ]
  },
  {
   "cell_type": "markdown",
   "metadata": {
    "id": "DBz8L83wWqvh"
   },
   "source": [
    "Persitate Inital Solution"
   ]
  },
  {
   "cell_type": "code",
   "execution_count": 18,
   "metadata": {
    "colab": {
     "base_uri": "https://localhost:8080/"
    },
    "id": "OilcdC1s3VOB",
    "outputId": "1ff431ba-11e3-4fa2-9aa6-99e34ebbc1cd"
   },
   "outputs": [
    {
     "name": "stdout",
     "output_type": "stream",
     "text": [
      "Starting persitation at 21:47:28\n",
      "Done with persitation at 21:47:29\n"
     ]
    }
   ],
   "source": [
    "fc.persistate(persistation_objects,string_exp_path,'final')\n"
   ]
  },
  {
   "cell_type": "code",
   "execution_count": 18,
   "metadata": {},
   "outputs": [],
   "source": []
  },
  {
   "cell_type": "code",
   "execution_count": 18,
   "metadata": {},
   "outputs": [],
   "source": []
  },
  {
   "cell_type": "code",
   "execution_count": 18,
   "metadata": {},
   "outputs": [],
   "source": [
    "\n",
    "\n",
    "\n"
   ]
  },
  {
   "cell_type": "code",
   "execution_count": 19,
   "metadata": {
    "id": "bW5prZxMWgW7"
   },
   "outputs": [
    {
     "data": {
      "application/vnd.plotly.v1+json": {
       "config": {
        "plotlyServerURL": "https://plot.ly"
       },
       "data": [
        {
         "hoverinfo": "none",
         "line": {
          "color": "#888",
          "width": 0.5
         },
         "mode": "lines",
         "name": "Route",
         "type": "scatter",
         "x": [
          10.3101776278797,
          10.3101776278797,
          null,
          10.3101776278797,
          10.053411073431901,
          null,
          10.053411073431901,
          10.3101776278797,
          null,
          10.3101776278797,
          10.0550104215277,
          null,
          10.0550104215277,
          10.1848925909678,
          null,
          10.1848925909678,
          10.3101776278797,
          null,
          10.3101776278797,
          9.93454057484472,
          null,
          9.93454057484472,
          9.52198449766667,
          null,
          9.52198449766667,
          10.3101776278797,
          null,
          10.3101776278797,
          7.89597979281806,
          null,
          7.89597979281806,
          8.9026769216018,
          null,
          8.9026769216018,
          10.3101776278797,
          null,
          10.3101776278797,
          9.71819710001659,
          null,
          9.71819710001659,
          10.1447603841104,
          null,
          10.1447603841104,
          10.3101776278797,
          null,
          10.3101776278797,
          8.510393364115929,
          null,
          8.510393364115929,
          8.7170880894357,
          null,
          8.7170880894357,
          10.3101776278797,
          null,
          10.3101776278797,
          10.5636341019809,
          null,
          10.5636341019809,
          10.8589987989691,
          null,
          10.8589987989691,
          10.3101776278797,
          null,
          10.3101776278797,
          10.5636341019809,
          null,
          10.5636341019809,
          11.6305284293963,
          null,
          11.6305284293963,
          10.3101776278797,
          null,
          10.3101776278797,
          11.0265839482213,
          null,
          11.0265839482213,
          11.069907243443401,
          null,
          11.069907243443401,
          10.3101776278797,
          null,
          10.3101776278797,
          12.2790186860226,
          null,
          12.2790186860226,
          10.802301425532804,
          null,
          10.802301425532804,
          10.3101776278797,
          null,
          10.3101776278797,
          8.606070691704732,
          null,
          8.606070691704732,
          8.59382871185358,
          null,
          8.59382871185358,
          10.3101776278797,
          null,
          10.3101776278797,
          10.5980442324354,
          null,
          10.5980442324354,
          11.3598514417968,
          null,
          11.3598514417968,
          10.3101776278797,
          null,
          10.3101776278797,
          9.192623322383831,
          null,
          9.192623322383831,
          9.87050939696125,
          null,
          9.87050939696125,
          10.3101776278797,
          null,
          10.3101776278797,
          10.641184101363901,
          null,
          10.641184101363901,
          10.3101776278797,
          null,
          10.3101776278797,
          10.2892676889155,
          null,
          10.2892676889155,
          10.3101776278797,
          null,
          10.3101776278797,
          10.2876367607439,
          null,
          10.2876367607439,
          10.3101776278797,
          null,
          10.3101776278797,
          10.1573399870613,
          null,
          10.1573399870613,
          10.3101776278797,
          null,
          10.3101776278797,
          10.3101776278797,
          null
         ],
         "y": [
          49.520537049761494,
          49.520537049761494,
          null,
          49.520537049761494,
          49.663074107474614,
          null,
          49.663074107474614,
          49.520537049761494,
          null,
          49.520537049761494,
          49.1313935731179,
          null,
          49.1313935731179,
          49.20286618701321,
          null,
          49.20286618701321,
          49.520537049761494,
          null,
          49.520537049761494,
          49.649885413848715,
          null,
          49.649885413848715,
          49.7442646666591,
          null,
          49.7442646666591,
          49.520537049761494,
          null,
          49.520537049761494,
          48.55083665394221,
          null,
          48.55083665394221,
          48.640630807272,
          null,
          48.640630807272,
          49.520537049761494,
          null,
          49.520537049761494,
          50.469254718565395,
          null,
          50.469254718565395,
          50.0457222873063,
          null,
          50.0457222873063,
          49.520537049761494,
          null,
          49.520537049761494,
          50.5453375208107,
          null,
          50.5453375208107,
          50.0105339089947,
          null,
          50.0105339089947,
          49.520537049761494,
          null,
          49.520537049761494,
          49.2929975494155,
          null,
          49.2929975494155,
          49.1142465404038,
          null,
          49.1142465404038,
          49.520537049761494,
          null,
          49.520537049761494,
          49.2929975494155,
          null,
          49.2929975494155,
          48.6032536289147,
          null,
          48.6032536289147,
          49.520537049761494,
          null,
          49.520537049761494,
          49.6029387230132,
          null,
          49.6029387230132,
          49.440393217078714,
          null,
          49.440393217078714,
          49.520537049761494,
          null,
          49.520537049761494,
          49.7250084109328,
          null,
          49.7250084109328,
          50.3324156738206,
          null,
          50.3324156738206,
          49.520537049761494,
          null,
          49.520537049761494,
          49.852330673582706,
          null,
          49.852330673582706,
          49.9174141975005,
          null,
          49.9174141975005,
          49.520537049761494,
          null,
          49.520537049761494,
          48.002798580107495,
          null,
          48.002798580107495,
          48.4911511517245,
          null,
          48.4911511517245,
          49.520537049761494,
          null,
          49.520537049761494,
          48.3839756448857,
          null,
          48.3839756448857,
          48.8990181486011,
          null,
          48.8990181486011,
          49.520537049761494,
          null,
          49.520537049761494,
          49.9263999631726,
          null,
          49.9263999631726,
          49.520537049761494,
          null,
          49.520537049761494,
          49.4012949808626,
          null,
          49.4012949808626,
          49.520537049761494,
          null,
          49.520537049761494,
          50.0191411179362,
          null,
          50.0191411179362,
          49.520537049761494,
          null,
          49.520537049761494,
          49.370627205586395,
          null,
          49.370627205586395,
          49.520537049761494,
          null,
          49.520537049761494,
          49.520537049761494,
          null
         ]
        },
        {
         "hoverinfo": "text",
         "marker": {
          "color": "black",
          "line": {
           "width": 2
          },
          "reversescale": true,
          "size": 10
         },
         "mode": "markers",
         "name": "Pickups",
         "type": "scatter",
         "x": [
          10.053411073431901,
          10.1848925909678,
          9.52198449766667,
          8.9026769216018,
          10.1447603841104,
          8.7170880894357,
          10.8589987989691,
          11.6305284293963,
          11.069907243443401,
          10.802301425532804,
          8.59382871185358,
          11.3598514417968,
          9.87050939696125,
          10.641184101363901,
          10.2892676889155,
          10.2876367607439,
          10.1573399870613
         ],
         "y": [
          49.663074107474614,
          49.20286618701321,
          49.7442646666591,
          48.640630807272,
          50.0457222873063,
          50.0105339089947,
          49.1142465404038,
          48.6032536289147,
          49.440393217078714,
          50.3324156738206,
          49.9174141975005,
          48.4911511517245,
          48.8990181486011,
          49.9263999631726,
          49.4012949808626,
          50.0191411179362,
          49.370627205586395
         ]
        },
        {
         "hoverinfo": "text",
         "marker": {
          "color": "red",
          "line": {
           "width": 2
          },
          "reversescale": true,
          "size": 10
         },
         "mode": "markers",
         "name": "Dropoffs",
         "type": "scatter",
         "x": [
          10.0550104215277,
          9.93454057484472,
          7.89597979281806,
          9.71819710001659,
          8.510393364115929,
          10.5636341019809,
          10.5636341019809,
          11.0265839482213,
          12.2790186860226,
          8.606070691704732,
          10.5980442324354,
          9.192623322383831
         ],
         "y": [
          49.1313935731179,
          49.649885413848715,
          48.55083665394221,
          50.469254718565395,
          50.5453375208107,
          49.2929975494155,
          49.2929975494155,
          49.6029387230132,
          49.7250084109328,
          49.852330673582706,
          48.002798580107495,
          48.3839756448857
         ]
        },
        {
         "hoverinfo": "text",
         "marker": {
          "color": "green",
          "line": {
           "width": 2
          },
          "reversescale": true,
          "size": 10
         },
         "mode": "markers",
         "name": "Plant/Depot",
         "type": "scatter",
         "x": [
          10.3101776278797,
          10.3101776278797,
          10.3101776278797,
          10.3101776278797,
          10.3101776278797,
          10.3101776278797,
          10.3101776278797,
          10.3101776278797,
          10.3101776278797,
          10.3101776278797,
          10.3101776278797,
          10.3101776278797,
          10.3101776278797,
          10.3101776278797,
          10.3101776278797,
          10.3101776278797,
          10.3101776278797
         ],
         "y": [
          49.520537049761494,
          49.520537049761494,
          49.520537049761494,
          49.520537049761494,
          49.520537049761494,
          49.520537049761494,
          49.520537049761494,
          49.520537049761494,
          49.520537049761494,
          49.520537049761494,
          49.520537049761494,
          49.520537049761494,
          49.520537049761494,
          49.520537049761494,
          49.520537049761494,
          49.520537049761494,
          49.520537049761494
         ]
        }
       ],
       "layout": {
        "annotations": [
         {
          "showarrow": true,
          "x": 0.005,
          "xref": "paper",
          "y": -0.002,
          "yref": "paper"
         }
        ],
        "hovermode": "closest",
        "legend": {
         "font": {
          "size": 20
         }
        },
        "margin": {
         "b": 20,
         "l": 5,
         "r": 5,
         "t": 40
        },
        "paper_bgcolor": "rgba(255,255,255,1)",
        "plot_bgcolor": "rgba(255,255,255,1)",
        "showlegend": true,
        "template": {
         "data": {
          "bar": [
           {
            "error_x": {
             "color": "#2a3f5f"
            },
            "error_y": {
             "color": "#2a3f5f"
            },
            "marker": {
             "line": {
              "color": "#E5ECF6",
              "width": 0.5
             }
            },
            "type": "bar"
           }
          ],
          "barpolar": [
           {
            "marker": {
             "line": {
              "color": "#E5ECF6",
              "width": 0.5
             }
            },
            "type": "barpolar"
           }
          ],
          "carpet": [
           {
            "aaxis": {
             "endlinecolor": "#2a3f5f",
             "gridcolor": "white",
             "linecolor": "white",
             "minorgridcolor": "white",
             "startlinecolor": "#2a3f5f"
            },
            "baxis": {
             "endlinecolor": "#2a3f5f",
             "gridcolor": "white",
             "linecolor": "white",
             "minorgridcolor": "white",
             "startlinecolor": "#2a3f5f"
            },
            "type": "carpet"
           }
          ],
          "choropleth": [
           {
            "colorbar": {
             "outlinewidth": 0,
             "ticks": ""
            },
            "type": "choropleth"
           }
          ],
          "contour": [
           {
            "colorbar": {
             "outlinewidth": 0,
             "ticks": ""
            },
            "colorscale": [
             [
              0.0,
              "#0d0887"
             ],
             [
              0.1111111111111111,
              "#46039f"
             ],
             [
              0.2222222222222222,
              "#7201a8"
             ],
             [
              0.3333333333333333,
              "#9c179e"
             ],
             [
              0.4444444444444444,
              "#bd3786"
             ],
             [
              0.5555555555555556,
              "#d8576b"
             ],
             [
              0.6666666666666666,
              "#ed7953"
             ],
             [
              0.7777777777777778,
              "#fb9f3a"
             ],
             [
              0.8888888888888888,
              "#fdca26"
             ],
             [
              1.0,
              "#f0f921"
             ]
            ],
            "type": "contour"
           }
          ],
          "contourcarpet": [
           {
            "colorbar": {
             "outlinewidth": 0,
             "ticks": ""
            },
            "type": "contourcarpet"
           }
          ],
          "heatmap": [
           {
            "colorbar": {
             "outlinewidth": 0,
             "ticks": ""
            },
            "colorscale": [
             [
              0.0,
              "#0d0887"
             ],
             [
              0.1111111111111111,
              "#46039f"
             ],
             [
              0.2222222222222222,
              "#7201a8"
             ],
             [
              0.3333333333333333,
              "#9c179e"
             ],
             [
              0.4444444444444444,
              "#bd3786"
             ],
             [
              0.5555555555555556,
              "#d8576b"
             ],
             [
              0.6666666666666666,
              "#ed7953"
             ],
             [
              0.7777777777777778,
              "#fb9f3a"
             ],
             [
              0.8888888888888888,
              "#fdca26"
             ],
             [
              1.0,
              "#f0f921"
             ]
            ],
            "type": "heatmap"
           }
          ],
          "heatmapgl": [
           {
            "colorbar": {
             "outlinewidth": 0,
             "ticks": ""
            },
            "colorscale": [
             [
              0.0,
              "#0d0887"
             ],
             [
              0.1111111111111111,
              "#46039f"
             ],
             [
              0.2222222222222222,
              "#7201a8"
             ],
             [
              0.3333333333333333,
              "#9c179e"
             ],
             [
              0.4444444444444444,
              "#bd3786"
             ],
             [
              0.5555555555555556,
              "#d8576b"
             ],
             [
              0.6666666666666666,
              "#ed7953"
             ],
             [
              0.7777777777777778,
              "#fb9f3a"
             ],
             [
              0.8888888888888888,
              "#fdca26"
             ],
             [
              1.0,
              "#f0f921"
             ]
            ],
            "type": "heatmapgl"
           }
          ],
          "histogram": [
           {
            "marker": {
             "colorbar": {
              "outlinewidth": 0,
              "ticks": ""
             }
            },
            "type": "histogram"
           }
          ],
          "histogram2d": [
           {
            "colorbar": {
             "outlinewidth": 0,
             "ticks": ""
            },
            "colorscale": [
             [
              0.0,
              "#0d0887"
             ],
             [
              0.1111111111111111,
              "#46039f"
             ],
             [
              0.2222222222222222,
              "#7201a8"
             ],
             [
              0.3333333333333333,
              "#9c179e"
             ],
             [
              0.4444444444444444,
              "#bd3786"
             ],
             [
              0.5555555555555556,
              "#d8576b"
             ],
             [
              0.6666666666666666,
              "#ed7953"
             ],
             [
              0.7777777777777778,
              "#fb9f3a"
             ],
             [
              0.8888888888888888,
              "#fdca26"
             ],
             [
              1.0,
              "#f0f921"
             ]
            ],
            "type": "histogram2d"
           }
          ],
          "histogram2dcontour": [
           {
            "colorbar": {
             "outlinewidth": 0,
             "ticks": ""
            },
            "colorscale": [
             [
              0.0,
              "#0d0887"
             ],
             [
              0.1111111111111111,
              "#46039f"
             ],
             [
              0.2222222222222222,
              "#7201a8"
             ],
             [
              0.3333333333333333,
              "#9c179e"
             ],
             [
              0.4444444444444444,
              "#bd3786"
             ],
             [
              0.5555555555555556,
              "#d8576b"
             ],
             [
              0.6666666666666666,
              "#ed7953"
             ],
             [
              0.7777777777777778,
              "#fb9f3a"
             ],
             [
              0.8888888888888888,
              "#fdca26"
             ],
             [
              1.0,
              "#f0f921"
             ]
            ],
            "type": "histogram2dcontour"
           }
          ],
          "mesh3d": [
           {
            "colorbar": {
             "outlinewidth": 0,
             "ticks": ""
            },
            "type": "mesh3d"
           }
          ],
          "parcoords": [
           {
            "line": {
             "colorbar": {
              "outlinewidth": 0,
              "ticks": ""
             }
            },
            "type": "parcoords"
           }
          ],
          "pie": [
           {
            "automargin": true,
            "type": "pie"
           }
          ],
          "scatter": [
           {
            "marker": {
             "colorbar": {
              "outlinewidth": 0,
              "ticks": ""
             }
            },
            "type": "scatter"
           }
          ],
          "scatter3d": [
           {
            "line": {
             "colorbar": {
              "outlinewidth": 0,
              "ticks": ""
             }
            },
            "marker": {
             "colorbar": {
              "outlinewidth": 0,
              "ticks": ""
             }
            },
            "type": "scatter3d"
           }
          ],
          "scattercarpet": [
           {
            "marker": {
             "colorbar": {
              "outlinewidth": 0,
              "ticks": ""
             }
            },
            "type": "scattercarpet"
           }
          ],
          "scattergeo": [
           {
            "marker": {
             "colorbar": {
              "outlinewidth": 0,
              "ticks": ""
             }
            },
            "type": "scattergeo"
           }
          ],
          "scattergl": [
           {
            "marker": {
             "colorbar": {
              "outlinewidth": 0,
              "ticks": ""
             }
            },
            "type": "scattergl"
           }
          ],
          "scattermapbox": [
           {
            "marker": {
             "colorbar": {
              "outlinewidth": 0,
              "ticks": ""
             }
            },
            "type": "scattermapbox"
           }
          ],
          "scatterpolar": [
           {
            "marker": {
             "colorbar": {
              "outlinewidth": 0,
              "ticks": ""
             }
            },
            "type": "scatterpolar"
           }
          ],
          "scatterpolargl": [
           {
            "marker": {
             "colorbar": {
              "outlinewidth": 0,
              "ticks": ""
             }
            },
            "type": "scatterpolargl"
           }
          ],
          "scatterternary": [
           {
            "marker": {
             "colorbar": {
              "outlinewidth": 0,
              "ticks": ""
             }
            },
            "type": "scatterternary"
           }
          ],
          "surface": [
           {
            "colorbar": {
             "outlinewidth": 0,
             "ticks": ""
            },
            "colorscale": [
             [
              0.0,
              "#0d0887"
             ],
             [
              0.1111111111111111,
              "#46039f"
             ],
             [
              0.2222222222222222,
              "#7201a8"
             ],
             [
              0.3333333333333333,
              "#9c179e"
             ],
             [
              0.4444444444444444,
              "#bd3786"
             ],
             [
              0.5555555555555556,
              "#d8576b"
             ],
             [
              0.6666666666666666,
              "#ed7953"
             ],
             [
              0.7777777777777778,
              "#fb9f3a"
             ],
             [
              0.8888888888888888,
              "#fdca26"
             ],
             [
              1.0,
              "#f0f921"
             ]
            ],
            "type": "surface"
           }
          ],
          "table": [
           {
            "cells": {
             "fill": {
              "color": "#EBF0F8"
             },
             "line": {
              "color": "white"
             }
            },
            "header": {
             "fill": {
              "color": "#C8D4E3"
             },
             "line": {
              "color": "white"
             }
            },
            "type": "table"
           }
          ]
         },
         "layout": {
          "annotationdefaults": {
           "arrowcolor": "#2a3f5f",
           "arrowhead": 0,
           "arrowwidth": 1
          },
          "autotypenumbers": "strict",
          "coloraxis": {
           "colorbar": {
            "outlinewidth": 0,
            "ticks": ""
           }
          },
          "colorscale": {
           "diverging": [
            [
             0,
             "#8e0152"
            ],
            [
             0.1,
             "#c51b7d"
            ],
            [
             0.2,
             "#de77ae"
            ],
            [
             0.3,
             "#f1b6da"
            ],
            [
             0.4,
             "#fde0ef"
            ],
            [
             0.5,
             "#f7f7f7"
            ],
            [
             0.6,
             "#e6f5d0"
            ],
            [
             0.7,
             "#b8e186"
            ],
            [
             0.8,
             "#7fbc41"
            ],
            [
             0.9,
             "#4d9221"
            ],
            [
             1,
             "#276419"
            ]
           ],
           "sequential": [
            [
             0.0,
             "#0d0887"
            ],
            [
             0.1111111111111111,
             "#46039f"
            ],
            [
             0.2222222222222222,
             "#7201a8"
            ],
            [
             0.3333333333333333,
             "#9c179e"
            ],
            [
             0.4444444444444444,
             "#bd3786"
            ],
            [
             0.5555555555555556,
             "#d8576b"
            ],
            [
             0.6666666666666666,
             "#ed7953"
            ],
            [
             0.7777777777777778,
             "#fb9f3a"
            ],
            [
             0.8888888888888888,
             "#fdca26"
            ],
            [
             1.0,
             "#f0f921"
            ]
           ],
           "sequentialminus": [
            [
             0.0,
             "#0d0887"
            ],
            [
             0.1111111111111111,
             "#46039f"
            ],
            [
             0.2222222222222222,
             "#7201a8"
            ],
            [
             0.3333333333333333,
             "#9c179e"
            ],
            [
             0.4444444444444444,
             "#bd3786"
            ],
            [
             0.5555555555555556,
             "#d8576b"
            ],
            [
             0.6666666666666666,
             "#ed7953"
            ],
            [
             0.7777777777777778,
             "#fb9f3a"
            ],
            [
             0.8888888888888888,
             "#fdca26"
            ],
            [
             1.0,
             "#f0f921"
            ]
           ]
          },
          "colorway": [
           "#636efa",
           "#EF553B",
           "#00cc96",
           "#ab63fa",
           "#FFA15A",
           "#19d3f3",
           "#FF6692",
           "#B6E880",
           "#FF97FF",
           "#FECB52"
          ],
          "font": {
           "color": "#2a3f5f"
          },
          "geo": {
           "bgcolor": "white",
           "lakecolor": "white",
           "landcolor": "#E5ECF6",
           "showlakes": true,
           "showland": true,
           "subunitcolor": "white"
          },
          "hoverlabel": {
           "align": "left"
          },
          "hovermode": "closest",
          "mapbox": {
           "style": "light"
          },
          "paper_bgcolor": "white",
          "plot_bgcolor": "#E5ECF6",
          "polar": {
           "angularaxis": {
            "gridcolor": "white",
            "linecolor": "white",
            "ticks": ""
           },
           "bgcolor": "#E5ECF6",
           "radialaxis": {
            "gridcolor": "white",
            "linecolor": "white",
            "ticks": ""
           }
          },
          "scene": {
           "xaxis": {
            "backgroundcolor": "#E5ECF6",
            "gridcolor": "white",
            "gridwidth": 2,
            "linecolor": "white",
            "showbackground": true,
            "ticks": "",
            "zerolinecolor": "white"
           },
           "yaxis": {
            "backgroundcolor": "#E5ECF6",
            "gridcolor": "white",
            "gridwidth": 2,
            "linecolor": "white",
            "showbackground": true,
            "ticks": "",
            "zerolinecolor": "white"
           },
           "zaxis": {
            "backgroundcolor": "#E5ECF6",
            "gridcolor": "white",
            "gridwidth": 2,
            "linecolor": "white",
            "showbackground": true,
            "ticks": "",
            "zerolinecolor": "white"
           }
          },
          "shapedefaults": {
           "line": {
            "color": "#2a3f5f"
           }
          },
          "ternary": {
           "aaxis": {
            "gridcolor": "white",
            "linecolor": "white",
            "ticks": ""
           },
           "baxis": {
            "gridcolor": "white",
            "linecolor": "white",
            "ticks": ""
           },
           "bgcolor": "#E5ECF6",
           "caxis": {
            "gridcolor": "white",
            "linecolor": "white",
            "ticks": ""
           }
          },
          "title": {
           "x": 0.05
          },
          "xaxis": {
           "automargin": true,
           "gridcolor": "white",
           "linecolor": "white",
           "ticks": "",
           "title": {
            "standoff": 15
           },
           "zerolinecolor": "white",
           "zerolinewidth": 2
          },
          "yaxis": {
           "automargin": true,
           "gridcolor": "white",
           "linecolor": "white",
           "ticks": "",
           "title": {
            "standoff": 15
           },
           "zerolinecolor": "white",
           "zerolinewidth": 2
          }
         }
        },
        "title": {
         "font": {
          "size": 16
         }
        },
        "xaxis": {
         "gridcolor": "lightgrey",
         "showgrid": true,
         "showticklabels": true,
         "title": {
          "font": {
           "size": 20
          },
          "text": "Longitude"
         },
         "zeroline": true
        },
        "yaxis": {
         "gridcolor": "lightgrey",
         "showgrid": true,
         "showticklabels": true,
         "title": {
          "font": {
           "size": 20
          },
          "text": "Latitude"
         },
         "zeroline": true
        }
       }
      },
      "text/html": "<div>                            <div id=\"37d4599e-fa90-4a5e-9a9c-c3f966820c95\" class=\"plotly-graph-div\" style=\"height:525px; width:100%;\"></div>            <script type=\"text/javascript\">                require([\"plotly\"], function(Plotly) {                    window.PLOTLYENV=window.PLOTLYENV || {};                                    if (document.getElementById(\"37d4599e-fa90-4a5e-9a9c-c3f966820c95\")) {                    Plotly.newPlot(                        \"37d4599e-fa90-4a5e-9a9c-c3f966820c95\",                        [{\"hoverinfo\": \"none\", \"line\": {\"color\": \"#888\", \"width\": 0.5}, \"mode\": \"lines\", \"name\": \"Route\", \"type\": \"scatter\", \"x\": [10.3101776278797, 10.3101776278797, null, 10.3101776278797, 10.053411073431901, null, 10.053411073431901, 10.3101776278797, null, 10.3101776278797, 10.0550104215277, null, 10.0550104215277, 10.1848925909678, null, 10.1848925909678, 10.3101776278797, null, 10.3101776278797, 9.93454057484472, null, 9.93454057484472, 9.52198449766667, null, 9.52198449766667, 10.3101776278797, null, 10.3101776278797, 7.89597979281806, null, 7.89597979281806, 8.9026769216018, null, 8.9026769216018, 10.3101776278797, null, 10.3101776278797, 9.71819710001659, null, 9.71819710001659, 10.1447603841104, null, 10.1447603841104, 10.3101776278797, null, 10.3101776278797, 8.510393364115929, null, 8.510393364115929, 8.7170880894357, null, 8.7170880894357, 10.3101776278797, null, 10.3101776278797, 10.5636341019809, null, 10.5636341019809, 10.8589987989691, null, 10.8589987989691, 10.3101776278797, null, 10.3101776278797, 10.5636341019809, null, 10.5636341019809, 11.6305284293963, null, 11.6305284293963, 10.3101776278797, null, 10.3101776278797, 11.0265839482213, null, 11.0265839482213, 11.069907243443401, null, 11.069907243443401, 10.3101776278797, null, 10.3101776278797, 12.2790186860226, null, 12.2790186860226, 10.802301425532804, null, 10.802301425532804, 10.3101776278797, null, 10.3101776278797, 8.606070691704732, null, 8.606070691704732, 8.59382871185358, null, 8.59382871185358, 10.3101776278797, null, 10.3101776278797, 10.5980442324354, null, 10.5980442324354, 11.3598514417968, null, 11.3598514417968, 10.3101776278797, null, 10.3101776278797, 9.192623322383831, null, 9.192623322383831, 9.87050939696125, null, 9.87050939696125, 10.3101776278797, null, 10.3101776278797, 10.641184101363901, null, 10.641184101363901, 10.3101776278797, null, 10.3101776278797, 10.2892676889155, null, 10.2892676889155, 10.3101776278797, null, 10.3101776278797, 10.2876367607439, null, 10.2876367607439, 10.3101776278797, null, 10.3101776278797, 10.1573399870613, null, 10.1573399870613, 10.3101776278797, null, 10.3101776278797, 10.3101776278797, null], \"y\": [49.520537049761494, 49.520537049761494, null, 49.520537049761494, 49.663074107474614, null, 49.663074107474614, 49.520537049761494, null, 49.520537049761494, 49.1313935731179, null, 49.1313935731179, 49.20286618701321, null, 49.20286618701321, 49.520537049761494, null, 49.520537049761494, 49.649885413848715, null, 49.649885413848715, 49.7442646666591, null, 49.7442646666591, 49.520537049761494, null, 49.520537049761494, 48.55083665394221, null, 48.55083665394221, 48.640630807272, null, 48.640630807272, 49.520537049761494, null, 49.520537049761494, 50.469254718565395, null, 50.469254718565395, 50.0457222873063, null, 50.0457222873063, 49.520537049761494, null, 49.520537049761494, 50.5453375208107, null, 50.5453375208107, 50.0105339089947, null, 50.0105339089947, 49.520537049761494, null, 49.520537049761494, 49.2929975494155, null, 49.2929975494155, 49.1142465404038, null, 49.1142465404038, 49.520537049761494, null, 49.520537049761494, 49.2929975494155, null, 49.2929975494155, 48.6032536289147, null, 48.6032536289147, 49.520537049761494, null, 49.520537049761494, 49.6029387230132, null, 49.6029387230132, 49.440393217078714, null, 49.440393217078714, 49.520537049761494, null, 49.520537049761494, 49.7250084109328, null, 49.7250084109328, 50.3324156738206, null, 50.3324156738206, 49.520537049761494, null, 49.520537049761494, 49.852330673582706, null, 49.852330673582706, 49.9174141975005, null, 49.9174141975005, 49.520537049761494, null, 49.520537049761494, 48.002798580107495, null, 48.002798580107495, 48.4911511517245, null, 48.4911511517245, 49.520537049761494, null, 49.520537049761494, 48.3839756448857, null, 48.3839756448857, 48.8990181486011, null, 48.8990181486011, 49.520537049761494, null, 49.520537049761494, 49.9263999631726, null, 49.9263999631726, 49.520537049761494, null, 49.520537049761494, 49.4012949808626, null, 49.4012949808626, 49.520537049761494, null, 49.520537049761494, 50.0191411179362, null, 50.0191411179362, 49.520537049761494, null, 49.520537049761494, 49.370627205586395, null, 49.370627205586395, 49.520537049761494, null, 49.520537049761494, 49.520537049761494, null]}, {\"hoverinfo\": \"text\", \"marker\": {\"color\": \"black\", \"line\": {\"width\": 2}, \"reversescale\": true, \"size\": 10}, \"mode\": \"markers\", \"name\": \"Pickups\", \"type\": \"scatter\", \"x\": [10.053411073431901, 10.1848925909678, 9.52198449766667, 8.9026769216018, 10.1447603841104, 8.7170880894357, 10.8589987989691, 11.6305284293963, 11.069907243443401, 10.802301425532804, 8.59382871185358, 11.3598514417968, 9.87050939696125, 10.641184101363901, 10.2892676889155, 10.2876367607439, 10.1573399870613], \"y\": [49.663074107474614, 49.20286618701321, 49.7442646666591, 48.640630807272, 50.0457222873063, 50.0105339089947, 49.1142465404038, 48.6032536289147, 49.440393217078714, 50.3324156738206, 49.9174141975005, 48.4911511517245, 48.8990181486011, 49.9263999631726, 49.4012949808626, 50.0191411179362, 49.370627205586395]}, {\"hoverinfo\": \"text\", \"marker\": {\"color\": \"red\", \"line\": {\"width\": 2}, \"reversescale\": true, \"size\": 10}, \"mode\": \"markers\", \"name\": \"Dropoffs\", \"type\": \"scatter\", \"x\": [10.0550104215277, 9.93454057484472, 7.89597979281806, 9.71819710001659, 8.510393364115929, 10.5636341019809, 10.5636341019809, 11.0265839482213, 12.2790186860226, 8.606070691704732, 10.5980442324354, 9.192623322383831], \"y\": [49.1313935731179, 49.649885413848715, 48.55083665394221, 50.469254718565395, 50.5453375208107, 49.2929975494155, 49.2929975494155, 49.6029387230132, 49.7250084109328, 49.852330673582706, 48.002798580107495, 48.3839756448857]}, {\"hoverinfo\": \"text\", \"marker\": {\"color\": \"green\", \"line\": {\"width\": 2}, \"reversescale\": true, \"size\": 10}, \"mode\": \"markers\", \"name\": \"Plant/Depot\", \"type\": \"scatter\", \"x\": [10.3101776278797, 10.3101776278797, 10.3101776278797, 10.3101776278797, 10.3101776278797, 10.3101776278797, 10.3101776278797, 10.3101776278797, 10.3101776278797, 10.3101776278797, 10.3101776278797, 10.3101776278797, 10.3101776278797, 10.3101776278797, 10.3101776278797, 10.3101776278797, 10.3101776278797], \"y\": [49.520537049761494, 49.520537049761494, 49.520537049761494, 49.520537049761494, 49.520537049761494, 49.520537049761494, 49.520537049761494, 49.520537049761494, 49.520537049761494, 49.520537049761494, 49.520537049761494, 49.520537049761494, 49.520537049761494, 49.520537049761494, 49.520537049761494, 49.520537049761494, 49.520537049761494]}],                        {\"annotations\": [{\"showarrow\": true, \"x\": 0.005, \"xref\": \"paper\", \"y\": -0.002, \"yref\": \"paper\"}], \"hovermode\": \"closest\", \"legend\": {\"font\": {\"size\": 20}}, \"margin\": {\"b\": 20, \"l\": 5, \"r\": 5, \"t\": 40}, \"paper_bgcolor\": \"rgba(255,255,255,1)\", \"plot_bgcolor\": \"rgba(255,255,255,1)\", \"showlegend\": true, \"template\": {\"data\": {\"bar\": [{\"error_x\": {\"color\": \"#2a3f5f\"}, \"error_y\": {\"color\": \"#2a3f5f\"}, \"marker\": {\"line\": {\"color\": \"#E5ECF6\", \"width\": 0.5}}, \"type\": \"bar\"}], \"barpolar\": [{\"marker\": {\"line\": {\"color\": \"#E5ECF6\", \"width\": 0.5}}, \"type\": \"barpolar\"}], \"carpet\": [{\"aaxis\": {\"endlinecolor\": \"#2a3f5f\", \"gridcolor\": \"white\", \"linecolor\": \"white\", \"minorgridcolor\": \"white\", \"startlinecolor\": \"#2a3f5f\"}, \"baxis\": {\"endlinecolor\": \"#2a3f5f\", \"gridcolor\": \"white\", \"linecolor\": \"white\", \"minorgridcolor\": \"white\", \"startlinecolor\": \"#2a3f5f\"}, \"type\": \"carpet\"}], \"choropleth\": [{\"colorbar\": {\"outlinewidth\": 0, \"ticks\": \"\"}, \"type\": \"choropleth\"}], \"contour\": [{\"colorbar\": {\"outlinewidth\": 0, \"ticks\": \"\"}, \"colorscale\": [[0.0, \"#0d0887\"], [0.1111111111111111, \"#46039f\"], [0.2222222222222222, \"#7201a8\"], [0.3333333333333333, \"#9c179e\"], [0.4444444444444444, \"#bd3786\"], [0.5555555555555556, \"#d8576b\"], [0.6666666666666666, \"#ed7953\"], [0.7777777777777778, \"#fb9f3a\"], [0.8888888888888888, \"#fdca26\"], [1.0, \"#f0f921\"]], \"type\": \"contour\"}], \"contourcarpet\": [{\"colorbar\": {\"outlinewidth\": 0, \"ticks\": \"\"}, \"type\": \"contourcarpet\"}], \"heatmap\": [{\"colorbar\": {\"outlinewidth\": 0, \"ticks\": \"\"}, \"colorscale\": [[0.0, \"#0d0887\"], [0.1111111111111111, \"#46039f\"], [0.2222222222222222, \"#7201a8\"], [0.3333333333333333, \"#9c179e\"], [0.4444444444444444, \"#bd3786\"], [0.5555555555555556, \"#d8576b\"], [0.6666666666666666, \"#ed7953\"], [0.7777777777777778, \"#fb9f3a\"], [0.8888888888888888, \"#fdca26\"], [1.0, \"#f0f921\"]], \"type\": \"heatmap\"}], \"heatmapgl\": [{\"colorbar\": {\"outlinewidth\": 0, \"ticks\": \"\"}, \"colorscale\": [[0.0, \"#0d0887\"], [0.1111111111111111, \"#46039f\"], [0.2222222222222222, \"#7201a8\"], [0.3333333333333333, \"#9c179e\"], [0.4444444444444444, \"#bd3786\"], [0.5555555555555556, \"#d8576b\"], [0.6666666666666666, \"#ed7953\"], [0.7777777777777778, \"#fb9f3a\"], [0.8888888888888888, \"#fdca26\"], [1.0, \"#f0f921\"]], \"type\": \"heatmapgl\"}], \"histogram\": [{\"marker\": {\"colorbar\": {\"outlinewidth\": 0, \"ticks\": \"\"}}, \"type\": \"histogram\"}], \"histogram2d\": [{\"colorbar\": {\"outlinewidth\": 0, \"ticks\": \"\"}, \"colorscale\": [[0.0, \"#0d0887\"], [0.1111111111111111, \"#46039f\"], [0.2222222222222222, \"#7201a8\"], [0.3333333333333333, \"#9c179e\"], [0.4444444444444444, \"#bd3786\"], [0.5555555555555556, \"#d8576b\"], [0.6666666666666666, \"#ed7953\"], [0.7777777777777778, \"#fb9f3a\"], [0.8888888888888888, \"#fdca26\"], [1.0, \"#f0f921\"]], \"type\": \"histogram2d\"}], \"histogram2dcontour\": [{\"colorbar\": {\"outlinewidth\": 0, \"ticks\": \"\"}, \"colorscale\": [[0.0, \"#0d0887\"], [0.1111111111111111, \"#46039f\"], [0.2222222222222222, \"#7201a8\"], [0.3333333333333333, \"#9c179e\"], [0.4444444444444444, \"#bd3786\"], [0.5555555555555556, \"#d8576b\"], [0.6666666666666666, \"#ed7953\"], [0.7777777777777778, \"#fb9f3a\"], [0.8888888888888888, \"#fdca26\"], [1.0, \"#f0f921\"]], \"type\": \"histogram2dcontour\"}], \"mesh3d\": [{\"colorbar\": {\"outlinewidth\": 0, \"ticks\": \"\"}, \"type\": \"mesh3d\"}], \"parcoords\": [{\"line\": {\"colorbar\": {\"outlinewidth\": 0, \"ticks\": \"\"}}, \"type\": \"parcoords\"}], \"pie\": [{\"automargin\": true, \"type\": \"pie\"}], \"scatter\": [{\"marker\": {\"colorbar\": {\"outlinewidth\": 0, \"ticks\": \"\"}}, \"type\": \"scatter\"}], \"scatter3d\": [{\"line\": {\"colorbar\": {\"outlinewidth\": 0, \"ticks\": \"\"}}, \"marker\": {\"colorbar\": {\"outlinewidth\": 0, \"ticks\": \"\"}}, \"type\": \"scatter3d\"}], \"scattercarpet\": [{\"marker\": {\"colorbar\": {\"outlinewidth\": 0, \"ticks\": \"\"}}, \"type\": \"scattercarpet\"}], \"scattergeo\": [{\"marker\": {\"colorbar\": {\"outlinewidth\": 0, \"ticks\": \"\"}}, \"type\": \"scattergeo\"}], \"scattergl\": [{\"marker\": {\"colorbar\": {\"outlinewidth\": 0, \"ticks\": \"\"}}, \"type\": \"scattergl\"}], \"scattermapbox\": [{\"marker\": {\"colorbar\": {\"outlinewidth\": 0, \"ticks\": \"\"}}, \"type\": \"scattermapbox\"}], \"scatterpolar\": [{\"marker\": {\"colorbar\": {\"outlinewidth\": 0, \"ticks\": \"\"}}, \"type\": \"scatterpolar\"}], \"scatterpolargl\": [{\"marker\": {\"colorbar\": {\"outlinewidth\": 0, \"ticks\": \"\"}}, \"type\": \"scatterpolargl\"}], \"scatterternary\": [{\"marker\": {\"colorbar\": {\"outlinewidth\": 0, \"ticks\": \"\"}}, \"type\": \"scatterternary\"}], \"surface\": [{\"colorbar\": {\"outlinewidth\": 0, \"ticks\": \"\"}, \"colorscale\": [[0.0, \"#0d0887\"], [0.1111111111111111, \"#46039f\"], [0.2222222222222222, \"#7201a8\"], [0.3333333333333333, \"#9c179e\"], [0.4444444444444444, \"#bd3786\"], [0.5555555555555556, \"#d8576b\"], [0.6666666666666666, \"#ed7953\"], [0.7777777777777778, \"#fb9f3a\"], [0.8888888888888888, \"#fdca26\"], [1.0, \"#f0f921\"]], \"type\": \"surface\"}], \"table\": [{\"cells\": {\"fill\": {\"color\": \"#EBF0F8\"}, \"line\": {\"color\": \"white\"}}, \"header\": {\"fill\": {\"color\": \"#C8D4E3\"}, \"line\": {\"color\": \"white\"}}, \"type\": \"table\"}]}, \"layout\": {\"annotationdefaults\": {\"arrowcolor\": \"#2a3f5f\", \"arrowhead\": 0, \"arrowwidth\": 1}, \"autotypenumbers\": \"strict\", \"coloraxis\": {\"colorbar\": {\"outlinewidth\": 0, \"ticks\": \"\"}}, \"colorscale\": {\"diverging\": [[0, \"#8e0152\"], [0.1, \"#c51b7d\"], [0.2, \"#de77ae\"], [0.3, \"#f1b6da\"], [0.4, \"#fde0ef\"], [0.5, \"#f7f7f7\"], [0.6, \"#e6f5d0\"], [0.7, \"#b8e186\"], [0.8, \"#7fbc41\"], [0.9, \"#4d9221\"], [1, \"#276419\"]], \"sequential\": [[0.0, \"#0d0887\"], [0.1111111111111111, \"#46039f\"], [0.2222222222222222, \"#7201a8\"], [0.3333333333333333, \"#9c179e\"], [0.4444444444444444, \"#bd3786\"], [0.5555555555555556, \"#d8576b\"], [0.6666666666666666, \"#ed7953\"], [0.7777777777777778, \"#fb9f3a\"], [0.8888888888888888, \"#fdca26\"], [1.0, \"#f0f921\"]], \"sequentialminus\": [[0.0, \"#0d0887\"], [0.1111111111111111, \"#46039f\"], [0.2222222222222222, \"#7201a8\"], [0.3333333333333333, \"#9c179e\"], [0.4444444444444444, \"#bd3786\"], [0.5555555555555556, \"#d8576b\"], [0.6666666666666666, \"#ed7953\"], [0.7777777777777778, \"#fb9f3a\"], [0.8888888888888888, \"#fdca26\"], [1.0, \"#f0f921\"]]}, \"colorway\": [\"#636efa\", \"#EF553B\", \"#00cc96\", \"#ab63fa\", \"#FFA15A\", \"#19d3f3\", \"#FF6692\", \"#B6E880\", \"#FF97FF\", \"#FECB52\"], \"font\": {\"color\": \"#2a3f5f\"}, \"geo\": {\"bgcolor\": \"white\", \"lakecolor\": \"white\", \"landcolor\": \"#E5ECF6\", \"showlakes\": true, \"showland\": true, \"subunitcolor\": \"white\"}, \"hoverlabel\": {\"align\": \"left\"}, \"hovermode\": \"closest\", \"mapbox\": {\"style\": \"light\"}, \"paper_bgcolor\": \"white\", \"plot_bgcolor\": \"#E5ECF6\", \"polar\": {\"angularaxis\": {\"gridcolor\": \"white\", \"linecolor\": \"white\", \"ticks\": \"\"}, \"bgcolor\": \"#E5ECF6\", \"radialaxis\": {\"gridcolor\": \"white\", \"linecolor\": \"white\", \"ticks\": \"\"}}, \"scene\": {\"xaxis\": {\"backgroundcolor\": \"#E5ECF6\", \"gridcolor\": \"white\", \"gridwidth\": 2, \"linecolor\": \"white\", \"showbackground\": true, \"ticks\": \"\", \"zerolinecolor\": \"white\"}, \"yaxis\": {\"backgroundcolor\": \"#E5ECF6\", \"gridcolor\": \"white\", \"gridwidth\": 2, \"linecolor\": \"white\", \"showbackground\": true, \"ticks\": \"\", \"zerolinecolor\": \"white\"}, \"zaxis\": {\"backgroundcolor\": \"#E5ECF6\", \"gridcolor\": \"white\", \"gridwidth\": 2, \"linecolor\": \"white\", \"showbackground\": true, \"ticks\": \"\", \"zerolinecolor\": \"white\"}}, \"shapedefaults\": {\"line\": {\"color\": \"#2a3f5f\"}}, \"ternary\": {\"aaxis\": {\"gridcolor\": \"white\", \"linecolor\": \"white\", \"ticks\": \"\"}, \"baxis\": {\"gridcolor\": \"white\", \"linecolor\": \"white\", \"ticks\": \"\"}, \"bgcolor\": \"#E5ECF6\", \"caxis\": {\"gridcolor\": \"white\", \"linecolor\": \"white\", \"ticks\": \"\"}}, \"title\": {\"x\": 0.05}, \"xaxis\": {\"automargin\": true, \"gridcolor\": \"white\", \"linecolor\": \"white\", \"ticks\": \"\", \"title\": {\"standoff\": 15}, \"zerolinecolor\": \"white\", \"zerolinewidth\": 2}, \"yaxis\": {\"automargin\": true, \"gridcolor\": \"white\", \"linecolor\": \"white\", \"ticks\": \"\", \"title\": {\"standoff\": 15}, \"zerolinecolor\": \"white\", \"zerolinewidth\": 2}}}, \"title\": {\"font\": {\"size\": 16}}, \"xaxis\": {\"gridcolor\": \"lightgrey\", \"showgrid\": true, \"showticklabels\": true, \"title\": {\"font\": {\"size\": 20}, \"text\": \"Longitude\"}, \"zeroline\": true}, \"yaxis\": {\"gridcolor\": \"lightgrey\", \"showgrid\": true, \"showticklabels\": true, \"title\": {\"font\": {\"size\": 20}, \"text\": \"Latitude\"}, \"zeroline\": true}},                        {\"responsive\": true}                    ).then(function(){\n                            \nvar gd = document.getElementById('37d4599e-fa90-4a5e-9a9c-c3f966820c95');\nvar x = new MutationObserver(function (mutations, observer) {{\n        var display = window.getComputedStyle(gd).display;\n        if (!display || display === 'none') {{\n            console.log([gd, 'removed!']);\n            Plotly.purge(gd);\n            observer.disconnect();\n        }}\n}});\n\n// Listen for the removal of the full notebook cells\nvar notebookContainer = gd.closest('#notebook-container');\nif (notebookContainer) {{\n    x.observe(notebookContainer, {childList: true});\n}}\n\n// Listen for the clearing of the current output cell\nvar outputEl = gd.closest('.output');\nif (outputEl) {{\n    x.observe(outputEl, {childList: true});\n}}\n\n                        })                };                });            </script>        </div>"
     },
     "metadata": {},
     "output_type": "display_data"
    }
   ],
   "source": [
    "test_tour  = dict_tours['Neuherberg'][17042]\n",
    "\n",
    "rt.routing(test_tour)\n",
    "fc.visualize_tour(test_tour)\n"
   ]
  },
  {
   "cell_type": "code",
   "execution_count": 19,
   "metadata": {},
   "outputs": [],
   "source": []
  },
  {
   "cell_type": "markdown",
   "metadata": {
    "id": "vkZaqY1PWgHC"
   },
   "source": []
  },
  {
   "cell_type": "code",
   "execution_count": 19,
   "metadata": {
    "id": "waA41SzSQibM"
   },
   "outputs": [],
   "source": []
  },
  {
   "cell_type": "markdown",
   "metadata": {
    "id": "X3xQ2KP36WXQ"
   },
   "source": [
    "##Backup"
   ]
  },
  {
   "cell_type": "code",
   "execution_count": 19,
   "metadata": {
    "id": "PrSqTTyZ59N6"
   },
   "outputs": [],
   "source": []
  },
  {
   "cell_type": "code",
   "execution_count": 19,
   "metadata": {
    "id": "ZLRzAJhd6IrJ"
   },
   "outputs": [],
   "source": []
  },
  {
   "cell_type": "code",
   "execution_count": 19,
   "metadata": {
    "id": "MPnTy1bJMvwK"
   },
   "outputs": [],
   "source": []
  },
  {
   "cell_type": "code",
   "execution_count": 20,
   "metadata": {
    "id": "Ts_m2n76kfK5"
   },
   "outputs": [
    {
     "data": {
      "text/plain": "'\\nget runtime for testdays:\\n\\nfc.print_log(\"Starting at {}\".format(fc.get_time()))\\n\\ntest_days = [16736,16753,16755,16793,16796,16929,16941,16945,16951,16999,17010,17078,17087,17163,17181]\\n\\ndepot = \\'Neuherberg\\'\\n\\nfor d in test_days: \\n    fc.print_log(\"Starting 31- {} at {}\".format(d,fc.get_time()))\\n    rt.routing(dict_tours[depot][d])\\n    print(dict_tours[depot][d].distance)\\n    \\nfc.print_log(\"Done at{}\".format(fc.get_time()))\\n    \\n'"
     },
     "execution_count": 20,
     "metadata": {},
     "output_type": "execute_result"
    }
   ],
   "source": [
    "#backup\n",
    "\n",
    "\"\"\"\n",
    "get runtime for testdays:\n",
    "\n",
    "fc.print_log(\"Starting at {}\".format(fc.get_time()))\n",
    "\n",
    "test_days = [16736,16753,16755,16793,16796,16929,16941,16945,16951,16999,17010,17078,17087,17163,17181]\n",
    "\n",
    "depot = 'Neuherberg'\n",
    "\n",
    "for d in test_days: \n",
    "    fc.print_log(\"Starting 31- {} at {}\".format(d,fc.get_time()))\n",
    "    rt.routing(dict_tours[depot][d])\n",
    "    print(dict_tours[depot][d].distance)\n",
    "    \n",
    "fc.print_log(\"Done at{}\".format(fc.get_time()))\n",
    "    \n",
    "\"\"\""
   ]
  }
 ],
 "metadata": {
  "colab": {
   "authorship_tag": "ABX9TyODo+sMa4fqJJ42BwNSRxHa",
   "include_colab_link": true,
   "name": "Untitled11.ipynb",
   "provenance": [],
   "toc_visible": true
  },
  "kernelspec": {
   "display_name": "Python 3",
   "language": "python",
   "name": "python3"
  },
  "language_info": {
   "codemirror_mode": {
    "name": "ipython",
    "version": 3
   },
   "file_extension": ".py",
   "mimetype": "text/x-python",
   "name": "python",
   "nbconvert_exporter": "python",
   "pygments_lexer": "ipython3",
   "version": "3.8.5"
  }
 },
 "nbformat": 4,
 "nbformat_minor": 1
}