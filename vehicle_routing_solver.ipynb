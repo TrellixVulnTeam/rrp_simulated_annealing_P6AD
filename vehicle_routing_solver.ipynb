{
  "nbformat": 4,
  "nbformat_minor": 0,
  "metadata": {
    "colab": {
      "name": "Untitled11.ipynb",
      "provenance": [],
      "toc_visible": true,
      "authorship_tag": "ABX9TyOT9VxoW1PDaNQ4+mNeK0t5",
      "include_colab_link": true
    },
    "kernelspec": {
      "name": "python3",
      "display_name": "Python 3"
    }
  },
  "cells": [
    {
      "cell_type": "markdown",
      "metadata": {
        "id": "view-in-github",
        "colab_type": "text"
      },
      "source": [
        "<a href=\"https://colab.research.google.com/github/nicoelbert/vehicleroutingproblem/blob/main/vehicle_routing_solver.ipynb\" target=\"_parent\"><img src=\"https://colab.research.google.com/assets/colab-badge.svg\" alt=\"Open In Colab\"/></a>"
      ]
    },
    {
      "cell_type": "markdown",
      "metadata": {
        "id": "t9T1ofqY8zAE"
      },
      "source": [
        "#Vehicle Routing Problem\r\n",
        "vehicle routing problem on complete information using simmulated annealing"
      ]
    },
    {
      "cell_type": "markdown",
      "metadata": {
        "id": "BvsL24g5FDZT"
      },
      "source": [
        "#Preparation"
      ]
    },
    {
      "cell_type": "code",
      "metadata": {
        "id": "RJvLbXBT15bn",
        "colab": {
          "base_uri": "https://localhost:8080/"
        },
        "outputId": "a28843df-d211-458a-8286-6d85a8666336"
      },
      "source": [
        "!git clone 'https://github.com/nicoelbert/vehicleroutingproblem'"
      ],
      "execution_count": 2,
      "outputs": [
        {
          "output_type": "stream",
          "text": [
            "Cloning into 'vehicleroutingproblem'...\n",
            "remote: Enumerating objects: 71, done.\u001b[K\n",
            "remote: Counting objects: 100% (71/71), done.\u001b[K\n",
            "remote: Compressing objects: 100% (55/55), done.\u001b[K\n",
            "remote: Total 71 (delta 34), reused 39 (delta 14), pack-reused 0\u001b[K\n",
            "Unpacking objects: 100% (71/71), done.\n"
          ],
          "name": "stdout"
        }
      ]
    },
    {
      "cell_type": "code",
      "metadata": {
        "id": "N0hjaYGWFGBh",
        "colab": {
          "base_uri": "https://localhost:8080/"
        },
        "outputId": "9d602e23-a48a-4199-cbc1-7389cd2e8453"
      },
      "source": [
        "#import packages\r\n",
        "import pandas as pd\r\n",
        "\r\n",
        "import sys\r\n",
        "#import classes\r\n",
        "\r\n",
        "\r\n",
        "!git pull\r\n",
        "%cd vehicleroutingproblem\r\n",
        "\r\n",
        "from classes import classes as cl"
      ],
      "execution_count": 3,
      "outputs": [
        {
          "output_type": "stream",
          "text": [
            "fatal: not a git repository (or any of the parent directories): .git\n",
            "/content/vehicleroutingproblem\n"
          ],
          "name": "stdout"
        }
      ]
    },
    {
      "cell_type": "code",
      "metadata": {
        "id": "WX6z7V4vzOcr",
        "colab": {
          "base_uri": "https://localhost:8080/"
        },
        "outputId": "e22c852d-d1be-4fef-f2a0-a8492fbf66c5"
      },
      "source": [
        "!git pull\r\n",
        "!ls"
      ],
      "execution_count": 26,
      "outputs": [
        {
          "output_type": "stream",
          "text": [
            "remote: Enumerating objects: 12, done.\u001b[K\n",
            "remote: Counting objects:  10% (1/10)\u001b[K\rremote: Counting objects:  20% (2/10)\u001b[K\rremote: Counting objects:  30% (3/10)\u001b[K\rremote: Counting objects:  40% (4/10)\u001b[K\rremote: Counting objects:  50% (5/10)\u001b[K\rremote: Counting objects:  60% (6/10)\u001b[K\rremote: Counting objects:  70% (7/10)\u001b[K\rremote: Counting objects:  80% (8/10)\u001b[K\rremote: Counting objects:  90% (9/10)\u001b[K\rremote: Counting objects: 100% (10/10)\u001b[K\rremote: Counting objects: 100% (10/10), done.\u001b[K\n",
            "remote: Compressing objects:  33% (1/3)\u001b[K\rremote: Compressing objects:  66% (2/3)\u001b[K\rremote: Compressing objects: 100% (3/3)\u001b[K\rremote: Compressing objects: 100% (3/3), done.\u001b[K\n",
            "remote: Total 6 (delta 3), reused 6 (delta 3), pack-reused 0\u001b[K\n",
            "Unpacking objects:  16% (1/6)   \rUnpacking objects:  33% (2/6)   \rUnpacking objects:  50% (3/6)   \rUnpacking objects:  66% (4/6)   \rUnpacking objects:  83% (5/6)   \rUnpacking objects: 100% (6/6)   \rUnpacking objects: 100% (6/6), done.\n",
            "From https://github.com/nicoelbert/vehicleroutingproblem\n",
            "   e98c194..ad3424c  main       -> origin/main\n",
            "Updating e98c194..ad3424c\n",
            "Fast-forward\n",
            " classes/classes.py | 11 \u001b[32m++++++\u001b[m\u001b[31m-----\u001b[m\n",
            " 1 file changed, 6 insertions(+), 5 deletions(-)\n",
            "classes  original_data\tREADME.md  vehicle_routing_solver.ipynb\n"
          ],
          "name": "stdout"
        }
      ]
    },
    {
      "cell_type": "markdown",
      "metadata": {
        "id": "lUxo_NKsCbDa"
      },
      "source": [
        "##Data Import"
      ]
    },
    {
      "cell_type": "code",
      "metadata": {
        "id": "a2c2UpP-8FZm",
        "colab": {
          "base_uri": "https://localhost:8080/",
          "height": 224
        },
        "outputId": "c5dcc047-3671-4f3f-dfc0-a5b2e0e04592"
      },
      "source": [
        "#depot masterdata\r\n",
        "\r\n",
        "#load Masterdata from csv\r\n",
        "url = 'https://raw.githubusercontent.com/nicoelbert/vehicleroutingproblem/main/original_data/Depots.csv'\r\n",
        "df_depots = pd.read_csv(url)\r\n",
        "\r\n",
        "\r\n",
        "#load basetable\r\n",
        "url = 'https://raw.githubusercontent.com/nicoelbert/vehicleroutingproblem/main/original_data/preparedJobs.csv'\r\n",
        "df_jobs = pd.read_csv(url)\r\n",
        "\r\n",
        "\r\n",
        "#next steps load data into classes\r\n",
        "#create dictionary for each class\r\n",
        "df_jobs.head()"
      ],
      "execution_count": 27,
      "outputs": [
        {
          "output_type": "execute_result",
          "data": {
            "text/html": [
              "<div>\n",
              "<style scoped>\n",
              "    .dataframe tbody tr th:only-of-type {\n",
              "        vertical-align: middle;\n",
              "    }\n",
              "\n",
              "    .dataframe tbody tr th {\n",
              "        vertical-align: top;\n",
              "    }\n",
              "\n",
              "    .dataframe thead th {\n",
              "        text-align: right;\n",
              "    }\n",
              "</style>\n",
              "<table border=\"1\" class=\"dataframe\">\n",
              "  <thead>\n",
              "    <tr style=\"text-align: right;\">\n",
              "      <th></th>\n",
              "      <th>id</th>\n",
              "      <th>Werk</th>\n",
              "      <th>Maschinentechnik</th>\n",
              "      <th>Material</th>\n",
              "      <th>Start</th>\n",
              "      <th>Start_clean</th>\n",
              "      <th>End</th>\n",
              "      <th>Werktage</th>\n",
              "      <th>plz</th>\n",
              "      <th>cbm_proTag</th>\n",
              "      <th>cbm_total</th>\n",
              "      <th>t_pro_cbm</th>\n",
              "      <th>t_max</th>\n",
              "      <th>lon</th>\n",
              "      <th>lat</th>\n",
              "      <th>Depot</th>\n",
              "      <th>Depot_lon</th>\n",
              "      <th>Depot_lat</th>\n",
              "      <th>Depot_distance</th>\n",
              "      <th>Werk_lon</th>\n",
              "      <th>Werk_lat</th>\n",
              "      <th>Werk_distance</th>\n",
              "      <th>key</th>\n",
              "    </tr>\n",
              "  </thead>\n",
              "  <tbody>\n",
              "    <tr>\n",
              "      <th>0</th>\n",
              "      <td>9007_9000356217</td>\n",
              "      <td>Embsen</td>\n",
              "      <td>Freifall</td>\n",
              "      <td>97908</td>\n",
              "      <td>17072</td>\n",
              "      <td>16904</td>\n",
              "      <td>17080.0</td>\n",
              "      <td>6</td>\n",
              "      <td>21358</td>\n",
              "      <td>0.954106</td>\n",
              "      <td>5.724638</td>\n",
              "      <td>1.38</td>\n",
              "      <td>5.0</td>\n",
              "      <td>10.300158</td>\n",
              "      <td>53.283070</td>\n",
              "      <td>Embsen</td>\n",
              "      <td>10.326447</td>\n",
              "      <td>53.181119</td>\n",
              "      <td>11.530054</td>\n",
              "      <td>10.326447</td>\n",
              "      <td>53.181119</td>\n",
              "      <td>11.530054</td>\n",
              "      <td>Embsen_Freifall_97908</td>\n",
              "    </tr>\n",
              "    <tr>\n",
              "      <th>1</th>\n",
              "      <td>9007_9000344661</td>\n",
              "      <td>Embsen</td>\n",
              "      <td>Freifall</td>\n",
              "      <td>97908</td>\n",
              "      <td>17059</td>\n",
              "      <td>16895</td>\n",
              "      <td>17066.0</td>\n",
              "      <td>5</td>\n",
              "      <td>22587</td>\n",
              "      <td>0.830435</td>\n",
              "      <td>4.152174</td>\n",
              "      <td>1.38</td>\n",
              "      <td>5.0</td>\n",
              "      <td>9.799340</td>\n",
              "      <td>53.565260</td>\n",
              "      <td>Embsen</td>\n",
              "      <td>10.326447</td>\n",
              "      <td>53.181119</td>\n",
              "      <td>72.139821</td>\n",
              "      <td>10.326447</td>\n",
              "      <td>53.181119</td>\n",
              "      <td>72.139821</td>\n",
              "      <td>Embsen_Freifall_97908</td>\n",
              "    </tr>\n",
              "    <tr>\n",
              "      <th>2</th>\n",
              "      <td>9007_9000324683</td>\n",
              "      <td>Embsen</td>\n",
              "      <td>Freifall</td>\n",
              "      <td>97908</td>\n",
              "      <td>17032</td>\n",
              "      <td>16876</td>\n",
              "      <td>17043.0</td>\n",
              "      <td>7</td>\n",
              "      <td>29640</td>\n",
              "      <td>0.741201</td>\n",
              "      <td>5.188406</td>\n",
              "      <td>1.38</td>\n",
              "      <td>5.0</td>\n",
              "      <td>9.802078</td>\n",
              "      <td>53.129411</td>\n",
              "      <td>Embsen</td>\n",
              "      <td>10.326447</td>\n",
              "      <td>53.181119</td>\n",
              "      <td>58.581374</td>\n",
              "      <td>10.326447</td>\n",
              "      <td>53.181119</td>\n",
              "      <td>58.581374</td>\n",
              "      <td>Embsen_Freifall_97908</td>\n",
              "    </tr>\n",
              "    <tr>\n",
              "      <th>3</th>\n",
              "      <td>9007_9000277569</td>\n",
              "      <td>Embsen</td>\n",
              "      <td>Freifall</td>\n",
              "      <td>97908</td>\n",
              "      <td>16967</td>\n",
              "      <td>16829</td>\n",
              "      <td>17016.0</td>\n",
              "      <td>35</td>\n",
              "      <td>21682</td>\n",
              "      <td>0.102899</td>\n",
              "      <td>3.601449</td>\n",
              "      <td>1.38</td>\n",
              "      <td>5.0</td>\n",
              "      <td>9.456865</td>\n",
              "      <td>53.609455</td>\n",
              "      <td>Embsen</td>\n",
              "      <td>10.326447</td>\n",
              "      <td>53.181119</td>\n",
              "      <td>107.476042</td>\n",
              "      <td>10.326447</td>\n",
              "      <td>53.181119</td>\n",
              "      <td>107.476042</td>\n",
              "      <td>Embsen_Freifall_97908</td>\n",
              "    </tr>\n",
              "    <tr>\n",
              "      <th>4</th>\n",
              "      <td>9007_9000261195</td>\n",
              "      <td>Embsen</td>\n",
              "      <td>Freifall</td>\n",
              "      <td>97908</td>\n",
              "      <td>16944</td>\n",
              "      <td>16812</td>\n",
              "      <td>16960.0</td>\n",
              "      <td>12</td>\n",
              "      <td>19243</td>\n",
              "      <td>0.769324</td>\n",
              "      <td>9.231884</td>\n",
              "      <td>1.38</td>\n",
              "      <td>5.0</td>\n",
              "      <td>11.082930</td>\n",
              "      <td>53.519619</td>\n",
              "      <td>Sukow</td>\n",
              "      <td>11.559548</td>\n",
              "      <td>53.554791</td>\n",
              "      <td>53.136185</td>\n",
              "      <td>10.326447</td>\n",
              "      <td>53.181119</td>\n",
              "      <td>91.888749</td>\n",
              "      <td>Embsen_Freifall_97908</td>\n",
              "    </tr>\n",
              "  </tbody>\n",
              "</table>\n",
              "</div>"
            ],
            "text/plain": [
              "                id    Werk  ... Werk_distance                    key\n",
              "0  9007_9000356217  Embsen  ...     11.530054  Embsen_Freifall_97908\n",
              "1  9007_9000344661  Embsen  ...     72.139821  Embsen_Freifall_97908\n",
              "2  9007_9000324683  Embsen  ...     58.581374  Embsen_Freifall_97908\n",
              "3  9007_9000277569  Embsen  ...    107.476042  Embsen_Freifall_97908\n",
              "4  9007_9000261195  Embsen  ...     91.888749  Embsen_Freifall_97908\n",
              "\n",
              "[5 rows x 23 columns]"
            ]
          },
          "metadata": {
            "tags": []
          },
          "execution_count": 27
        }
      ]
    },
    {
      "cell_type": "code",
      "metadata": {
        "id": "dXftNExSj5sw",
        "colab": {
          "base_uri": "https://localhost:8080/"
        },
        "outputId": "bd8b6b90-0f9c-46ce-f314-d2a78ec308b4"
      },
      "source": [
        "#create and fill dict_depots\r\n",
        "\r\n",
        "dict_depots = {}\r\n",
        "\r\n",
        "for index, row in df_depots.iterrows():\r\n",
        "  d = cl.Depot(row['Werk'],row['Werk_lon'],row['Werk_lat'])\r\n",
        "  dict_depots[row['Werk']] = d\r\n",
        "\r\n",
        "print(\"{} depots created\".format(len(dict_depots)))\r\n",
        "\r\n",
        "#create and fill plants from jobs\r\n",
        "dict_plants = {}\r\n",
        "\r\n",
        "plants_name_list = df_jobs['Werk'].unique() \r\n",
        "\r\n",
        "for pn in plants_name_list:\r\n",
        "  row = df_jobs[df_jobs['Werk'] == pn].iloc[0]\r\n",
        "  plant = cl.Plant(row.Werk,row.Werk_lat,row.Werk_lon)\r\n",
        "  dict_plants[plant.name] = plant\r\n",
        "\r\n",
        "print(\"{} plants created\".format(len(dict_plants)))"
      ],
      "execution_count": 34,
      "outputs": [
        {
          "output_type": "stream",
          "text": [
            "15 depots created\n",
            "8 plants created\n"
          ],
          "name": "stdout"
        }
      ]
    },
    {
      "cell_type": "markdown",
      "metadata": {
        "id": "X3xQ2KP36WXQ"
      },
      "source": [
        "##Backup"
      ]
    },
    {
      "cell_type": "code",
      "metadata": {
        "id": "Ts_m2n76kfK5"
      },
      "source": [
        "#backup\r\n",
        "\"\"\"\r\n",
        "\"Evaluation of Constructionsites\"\r\n",
        "print(len(df_jobs['plz'].unique()))\r\n",
        "print(len(df_jobs['lon'].unique()))\r\n",
        "print(len(df_jobs['lat'].unique()))\r\n",
        "#print(len(df_jobs[['lon','lat']]()))\r\n",
        "\r\n",
        "df_sites = df_jobs[['lon','lat']].copy()\r\n",
        "\r\n",
        "print(df_sites.shape)\r\n",
        "\r\n",
        "df_sites.drop_duplicates(inplace=True)\r\n",
        "\r\n",
        "\r\n",
        "print(df_sites.shape)\r\n",
        "k.key\r\n",
        "\"\"\""
      ],
      "execution_count": null,
      "outputs": []
    }
  ]
}