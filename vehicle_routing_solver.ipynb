{
  "nbformat": 4,
  "nbformat_minor": 0,
  "metadata": {
    "colab": {
      "name": "Untitled11.ipynb",
      "provenance": [],
      "toc_visible": true,
      "authorship_tag": "ABX9TyMcWWI5aM7JTb+/ijE7ophz",
      "include_colab_link": true
    },
    "kernelspec": {
      "name": "python3",
      "display_name": "Python 3"
    }
  },
  "cells": [
    {
      "cell_type": "markdown",
      "metadata": {
        "id": "view-in-github",
        "colab_type": "text"
      },
      "source": [
        "<a href=\"https://colab.research.google.com/github/nicoelbert/vehicleroutingproblem/blob/main/vehicle_routing_solver.ipynb\" target=\"_parent\"><img src=\"https://colab.research.google.com/assets/colab-badge.svg\" alt=\"Open In Colab\"/></a>"
      ]
    },
    {
      "cell_type": "markdown",
      "metadata": {
        "id": "t9T1ofqY8zAE"
      },
      "source": [
        "#Vehicle Routing Problem\r\n",
        "vehicle routing problem on complete information using simmulated annealing"
      ]
    },
    {
      "cell_type": "markdown",
      "metadata": {
        "id": "BvsL24g5FDZT"
      },
      "source": [
        "#Preparation"
      ]
    },
    {
      "cell_type": "code",
      "metadata": {
        "id": "RJvLbXBT15bn",
        "colab": {
          "base_uri": "https://localhost:8080/"
        },
        "outputId": "a28843df-d211-458a-8286-6d85a8666336"
      },
      "source": [
        "!git clone 'https://github.com/nicoelbert/vehicleroutingproblem'"
      ],
      "execution_count": 2,
      "outputs": [
        {
          "output_type": "stream",
          "text": [
            "Cloning into 'vehicleroutingproblem'...\n",
            "remote: Enumerating objects: 71, done.\u001b[K\n",
            "remote: Counting objects: 100% (71/71), done.\u001b[K\n",
            "remote: Compressing objects: 100% (55/55), done.\u001b[K\n",
            "remote: Total 71 (delta 34), reused 39 (delta 14), pack-reused 0\u001b[K\n",
            "Unpacking objects: 100% (71/71), done.\n"
          ],
          "name": "stdout"
        }
      ]
    },
    {
      "cell_type": "code",
      "metadata": {
        "id": "N0hjaYGWFGBh",
        "colab": {
          "base_uri": "https://localhost:8080/"
        },
        "outputId": "9d602e23-a48a-4199-cbc1-7389cd2e8453"
      },
      "source": [
        "#import packages\r\n",
        "import pandas as pd\r\n",
        "\r\n",
        "import sys\r\n",
        "#import classes\r\n",
        "\r\n",
        "\r\n",
        "!git pull\r\n",
        "%cd vehicleroutingproblem\r\n",
        "\r\n",
        "from classes import classes as cl"
      ],
      "execution_count": 3,
      "outputs": [
        {
          "output_type": "stream",
          "text": [
            "fatal: not a git repository (or any of the parent directories): .git\n",
            "/content/vehicleroutingproblem\n"
          ],
          "name": "stdout"
        }
      ]
    },
    {
      "cell_type": "code",
      "metadata": {
        "id": "WX6z7V4vzOcr",
        "colab": {
          "base_uri": "https://localhost:8080/"
        },
        "outputId": "a7cb1e16-cc4c-4366-f07d-8791b2ba7dbb"
      },
      "source": [
        "!git pull\r\n",
        "!ls"
      ],
      "execution_count": 51,
      "outputs": [
        {
          "output_type": "stream",
          "text": [
            "remote: Enumerating objects: 13, done.\u001b[K\n",
            "remote: Counting objects:   7% (1/13)\u001b[K\rremote: Counting objects:  15% (2/13)\u001b[K\rremote: Counting objects:  23% (3/13)\u001b[K\rremote: Counting objects:  30% (4/13)\u001b[K\rremote: Counting objects:  38% (5/13)\u001b[K\rremote: Counting objects:  46% (6/13)\u001b[K\rremote: Counting objects:  53% (7/13)\u001b[K\rremote: Counting objects:  61% (8/13)\u001b[K\rremote: Counting objects:  69% (9/13)\u001b[K\rremote: Counting objects:  76% (10/13)\u001b[K\rremote: Counting objects:  84% (11/13)\u001b[K\rremote: Counting objects:  92% (12/13)\u001b[K\rremote: Counting objects: 100% (13/13)\u001b[K\rremote: Counting objects: 100% (13/13), done.\u001b[K\n",
            "remote: Compressing objects:  16% (1/6)\u001b[K\rremote: Compressing objects:  33% (2/6)\u001b[K\rremote: Compressing objects:  50% (3/6)\u001b[K\rremote: Compressing objects:  66% (4/6)\u001b[K\rremote: Compressing objects:  83% (5/6)\u001b[K\rremote: Compressing objects: 100% (6/6)\u001b[K\rremote: Compressing objects: 100% (6/6), done.\u001b[K\n",
            "remote: Total 9 (delta 6), reused 6 (delta 3), pack-reused 0\u001b[K\n",
            "Unpacking objects:  11% (1/9)   \rUnpacking objects:  22% (2/9)   \rUnpacking objects:  33% (3/9)   \rUnpacking objects:  44% (4/9)   \rUnpacking objects:  55% (5/9)   \rUnpacking objects:  66% (6/9)   \rUnpacking objects:  77% (7/9)   \rUnpacking objects:  88% (8/9)   \rUnpacking objects: 100% (9/9)   \rUnpacking objects: 100% (9/9), done.\n",
            "From https://github.com/nicoelbert/vehicleroutingproblem\n",
            "   ad3424c..d22b570  main       -> origin/main\n",
            "Updating ad3424c..d22b570\n",
            "Fast-forward\n",
            " classes/classes.py           |   8 \u001b[32m+\u001b[m\u001b[31m-\u001b[m\n",
            " vehicle_routing_solver.ipynb | 260 \u001b[32m+++++++++++++++++++++++++++++++\u001b[m\u001b[31m------------\u001b[m\n",
            " 2 files changed, 194 insertions(+), 74 deletions(-)\n",
            "classes  original_data\tREADME.md  vehicle_routing_solver.ipynb\n"
          ],
          "name": "stdout"
        }
      ]
    },
    {
      "cell_type": "markdown",
      "metadata": {
        "id": "lUxo_NKsCbDa"
      },
      "source": [
        "##Data Import"
      ]
    },
    {
      "cell_type": "code",
      "metadata": {
        "id": "a2c2UpP-8FZm",
        "colab": {
          "base_uri": "https://localhost:8080/",
          "height": 224
        },
        "outputId": "c5dcc047-3671-4f3f-dfc0-a5b2e0e04592"
      },
      "source": [
        "#depot masterdata\r\n",
        "\r\n",
        "#load Masterdata from csv\r\n",
        "url = 'https://raw.githubusercontent.com/nicoelbert/vehicleroutingproblem/main/original_data/Depots.csv'\r\n",
        "df_depots = pd.read_csv(url)\r\n",
        "\r\n",
        "\r\n",
        "#load basetable\r\n",
        "url = 'https://raw.githubusercontent.com/nicoelbert/vehicleroutingproblem/main/original_data/preparedJobs.csv'\r\n",
        "df_jobs = pd.read_csv(url)\r\n",
        "\r\n",
        "\r\n",
        "#next steps load data into classes\r\n",
        "#create dictionary for each class\r\n",
        "df_jobs.head()"
      ],
      "execution_count": 27,
      "outputs": [
        {
          "output_type": "execute_result",
          "data": {
            "text/html": [
              "<div>\n",
              "<style scoped>\n",
              "    .dataframe tbody tr th:only-of-type {\n",
              "        vertical-align: middle;\n",
              "    }\n",
              "\n",
              "    .dataframe tbody tr th {\n",
              "        vertical-align: top;\n",
              "    }\n",
              "\n",
              "    .dataframe thead th {\n",
              "        text-align: right;\n",
              "    }\n",
              "</style>\n",
              "<table border=\"1\" class=\"dataframe\">\n",
              "  <thead>\n",
              "    <tr style=\"text-align: right;\">\n",
              "      <th></th>\n",
              "      <th>id</th>\n",
              "      <th>Werk</th>\n",
              "      <th>Maschinentechnik</th>\n",
              "      <th>Material</th>\n",
              "      <th>Start</th>\n",
              "      <th>Start_clean</th>\n",
              "      <th>End</th>\n",
              "      <th>Werktage</th>\n",
              "      <th>plz</th>\n",
              "      <th>cbm_proTag</th>\n",
              "      <th>cbm_total</th>\n",
              "      <th>t_pro_cbm</th>\n",
              "      <th>t_max</th>\n",
              "      <th>lon</th>\n",
              "      <th>lat</th>\n",
              "      <th>Depot</th>\n",
              "      <th>Depot_lon</th>\n",
              "      <th>Depot_lat</th>\n",
              "      <th>Depot_distance</th>\n",
              "      <th>Werk_lon</th>\n",
              "      <th>Werk_lat</th>\n",
              "      <th>Werk_distance</th>\n",
              "      <th>key</th>\n",
              "    </tr>\n",
              "  </thead>\n",
              "  <tbody>\n",
              "    <tr>\n",
              "      <th>0</th>\n",
              "      <td>9007_9000356217</td>\n",
              "      <td>Embsen</td>\n",
              "      <td>Freifall</td>\n",
              "      <td>97908</td>\n",
              "      <td>17072</td>\n",
              "      <td>16904</td>\n",
              "      <td>17080.0</td>\n",
              "      <td>6</td>\n",
              "      <td>21358</td>\n",
              "      <td>0.954106</td>\n",
              "      <td>5.724638</td>\n",
              "      <td>1.38</td>\n",
              "      <td>5.0</td>\n",
              "      <td>10.300158</td>\n",
              "      <td>53.283070</td>\n",
              "      <td>Embsen</td>\n",
              "      <td>10.326447</td>\n",
              "      <td>53.181119</td>\n",
              "      <td>11.530054</td>\n",
              "      <td>10.326447</td>\n",
              "      <td>53.181119</td>\n",
              "      <td>11.530054</td>\n",
              "      <td>Embsen_Freifall_97908</td>\n",
              "    </tr>\n",
              "    <tr>\n",
              "      <th>1</th>\n",
              "      <td>9007_9000344661</td>\n",
              "      <td>Embsen</td>\n",
              "      <td>Freifall</td>\n",
              "      <td>97908</td>\n",
              "      <td>17059</td>\n",
              "      <td>16895</td>\n",
              "      <td>17066.0</td>\n",
              "      <td>5</td>\n",
              "      <td>22587</td>\n",
              "      <td>0.830435</td>\n",
              "      <td>4.152174</td>\n",
              "      <td>1.38</td>\n",
              "      <td>5.0</td>\n",
              "      <td>9.799340</td>\n",
              "      <td>53.565260</td>\n",
              "      <td>Embsen</td>\n",
              "      <td>10.326447</td>\n",
              "      <td>53.181119</td>\n",
              "      <td>72.139821</td>\n",
              "      <td>10.326447</td>\n",
              "      <td>53.181119</td>\n",
              "      <td>72.139821</td>\n",
              "      <td>Embsen_Freifall_97908</td>\n",
              "    </tr>\n",
              "    <tr>\n",
              "      <th>2</th>\n",
              "      <td>9007_9000324683</td>\n",
              "      <td>Embsen</td>\n",
              "      <td>Freifall</td>\n",
              "      <td>97908</td>\n",
              "      <td>17032</td>\n",
              "      <td>16876</td>\n",
              "      <td>17043.0</td>\n",
              "      <td>7</td>\n",
              "      <td>29640</td>\n",
              "      <td>0.741201</td>\n",
              "      <td>5.188406</td>\n",
              "      <td>1.38</td>\n",
              "      <td>5.0</td>\n",
              "      <td>9.802078</td>\n",
              "      <td>53.129411</td>\n",
              "      <td>Embsen</td>\n",
              "      <td>10.326447</td>\n",
              "      <td>53.181119</td>\n",
              "      <td>58.581374</td>\n",
              "      <td>10.326447</td>\n",
              "      <td>53.181119</td>\n",
              "      <td>58.581374</td>\n",
              "      <td>Embsen_Freifall_97908</td>\n",
              "    </tr>\n",
              "    <tr>\n",
              "      <th>3</th>\n",
              "      <td>9007_9000277569</td>\n",
              "      <td>Embsen</td>\n",
              "      <td>Freifall</td>\n",
              "      <td>97908</td>\n",
              "      <td>16967</td>\n",
              "      <td>16829</td>\n",
              "      <td>17016.0</td>\n",
              "      <td>35</td>\n",
              "      <td>21682</td>\n",
              "      <td>0.102899</td>\n",
              "      <td>3.601449</td>\n",
              "      <td>1.38</td>\n",
              "      <td>5.0</td>\n",
              "      <td>9.456865</td>\n",
              "      <td>53.609455</td>\n",
              "      <td>Embsen</td>\n",
              "      <td>10.326447</td>\n",
              "      <td>53.181119</td>\n",
              "      <td>107.476042</td>\n",
              "      <td>10.326447</td>\n",
              "      <td>53.181119</td>\n",
              "      <td>107.476042</td>\n",
              "      <td>Embsen_Freifall_97908</td>\n",
              "    </tr>\n",
              "    <tr>\n",
              "      <th>4</th>\n",
              "      <td>9007_9000261195</td>\n",
              "      <td>Embsen</td>\n",
              "      <td>Freifall</td>\n",
              "      <td>97908</td>\n",
              "      <td>16944</td>\n",
              "      <td>16812</td>\n",
              "      <td>16960.0</td>\n",
              "      <td>12</td>\n",
              "      <td>19243</td>\n",
              "      <td>0.769324</td>\n",
              "      <td>9.231884</td>\n",
              "      <td>1.38</td>\n",
              "      <td>5.0</td>\n",
              "      <td>11.082930</td>\n",
              "      <td>53.519619</td>\n",
              "      <td>Sukow</td>\n",
              "      <td>11.559548</td>\n",
              "      <td>53.554791</td>\n",
              "      <td>53.136185</td>\n",
              "      <td>10.326447</td>\n",
              "      <td>53.181119</td>\n",
              "      <td>91.888749</td>\n",
              "      <td>Embsen_Freifall_97908</td>\n",
              "    </tr>\n",
              "  </tbody>\n",
              "</table>\n",
              "</div>"
            ],
            "text/plain": [
              "                id    Werk  ... Werk_distance                    key\n",
              "0  9007_9000356217  Embsen  ...     11.530054  Embsen_Freifall_97908\n",
              "1  9007_9000344661  Embsen  ...     72.139821  Embsen_Freifall_97908\n",
              "2  9007_9000324683  Embsen  ...     58.581374  Embsen_Freifall_97908\n",
              "3  9007_9000277569  Embsen  ...    107.476042  Embsen_Freifall_97908\n",
              "4  9007_9000261195  Embsen  ...     91.888749  Embsen_Freifall_97908\n",
              "\n",
              "[5 rows x 23 columns]"
            ]
          },
          "metadata": {
            "tags": []
          },
          "execution_count": 27
        }
      ]
    },
    {
      "cell_type": "code",
      "metadata": {
        "id": "dXftNExSj5sw",
        "colab": {
          "base_uri": "https://localhost:8080/",
          "height": 265
        },
        "outputId": "97d364c2-a12f-4cf7-ddf8-3cd21addefbf"
      },
      "source": [
        "#create and fill dict_depots\r\n",
        "\r\n",
        "dict_depots = {}\r\n",
        "\r\n",
        "for index, row in df_depots.iterrows():\r\n",
        "  depot = cl.Depot(row['Werk'],row['Werk_lon'],row['Werk_lat'])\r\n",
        "  dict_depots[row['Werk']] = depot\r\n",
        "\r\n",
        "print(\"{} depots created\".format(len(dict_depots)))\r\n",
        "\r\n",
        "#create and fill plants from jobs\r\n",
        "dict_plants = {}\r\n",
        "\r\n",
        "list_plant_names = df_jobs['Werk'].unique() \r\n",
        "\r\n",
        "for pn in list_plant_names:\r\n",
        "  row = df_jobs[df_jobs['Werk'] == pn].iloc[0]\r\n",
        "  plant = cl.Plant(row.Werk,row.Werk_lon,row.Werk_lat)\r\n",
        "  dict_plants[plant.name] = plant\r\n",
        "\r\n",
        "print(\"{} plants created\".format(len(dict_plants)))\r\n",
        "\r\n",
        "#create and fill sites from jobs\r\n",
        "\r\n",
        "dict_sites = {}\r\n",
        "\r\n",
        "df_sites = df_jobs[['plz','lon','lat']].copy()\r\n",
        "df_sites.drop_duplicates(inplace=True)\r\n",
        "\r\n",
        "for index, row in df_sites.iterrows():\r\n",
        "  site = cl.Site(row['plz'],row['lon'],row['lat'])\r\n",
        "  dict_sites[site.name] = site\r\n",
        "\r\n",
        "\r\n",
        "print(\"{} sites created\".format(len(dict_sites)))"
      ],
      "execution_count": 53,
      "outputs": [
        {
          "output_type": "stream",
          "text": [
            "15 depots created\n",
            "8 plants created\n"
          ],
          "name": "stdout"
        },
        {
          "output_type": "error",
          "ename": "AttributeError",
          "evalue": "ignored",
          "traceback": [
            "\u001b[0;31m---------------------------------------------------------------------------\u001b[0m",
            "\u001b[0;31mAttributeError\u001b[0m                            Traceback (most recent call last)",
            "\u001b[0;32m<ipython-input-53-8236baa1d8f5>\u001b[0m in \u001b[0;36m<module>\u001b[0;34m()\u001b[0m\n\u001b[1;32m     30\u001b[0m \u001b[0;32mfor\u001b[0m \u001b[0mindex\u001b[0m\u001b[0;34m,\u001b[0m \u001b[0mrow\u001b[0m \u001b[0;32min\u001b[0m \u001b[0mdf_sites\u001b[0m\u001b[0;34m.\u001b[0m\u001b[0miterrows\u001b[0m\u001b[0;34m(\u001b[0m\u001b[0;34m)\u001b[0m\u001b[0;34m:\u001b[0m\u001b[0;34m\u001b[0m\u001b[0;34m\u001b[0m\u001b[0m\n\u001b[1;32m     31\u001b[0m   \u001b[0msite\u001b[0m \u001b[0;34m=\u001b[0m \u001b[0mcl\u001b[0m\u001b[0;34m.\u001b[0m\u001b[0mSite\u001b[0m\u001b[0;34m(\u001b[0m\u001b[0mrow\u001b[0m\u001b[0;34m[\u001b[0m\u001b[0;34m'plz'\u001b[0m\u001b[0;34m]\u001b[0m\u001b[0;34m,\u001b[0m\u001b[0mrow\u001b[0m\u001b[0;34m[\u001b[0m\u001b[0;34m'lon'\u001b[0m\u001b[0;34m]\u001b[0m\u001b[0;34m,\u001b[0m\u001b[0mrow\u001b[0m\u001b[0;34m[\u001b[0m\u001b[0;34m'lat'\u001b[0m\u001b[0;34m]\u001b[0m\u001b[0;34m)\u001b[0m\u001b[0;34m\u001b[0m\u001b[0;34m\u001b[0m\u001b[0m\n\u001b[0;32m---> 32\u001b[0;31m   \u001b[0mdict_sites\u001b[0m\u001b[0;34m[\u001b[0m\u001b[0msite\u001b[0m\u001b[0;34m.\u001b[0m\u001b[0mname\u001b[0m\u001b[0;34m]\u001b[0m \u001b[0;34m=\u001b[0m \u001b[0msite\u001b[0m\u001b[0;34m\u001b[0m\u001b[0;34m\u001b[0m\u001b[0m\n\u001b[0m\u001b[1;32m     33\u001b[0m \u001b[0;34m\u001b[0m\u001b[0m\n\u001b[1;32m     34\u001b[0m \u001b[0;34m\u001b[0m\u001b[0m\n",
            "\u001b[0;31mAttributeError\u001b[0m: 'Site' object has no attribute 'name'"
          ]
        }
      ]
    },
    {
      "cell_type": "markdown",
      "metadata": {
        "id": "X3xQ2KP36WXQ"
      },
      "source": [
        "##Backup"
      ]
    },
    {
      "cell_type": "code",
      "metadata": {
        "id": "Ts_m2n76kfK5"
      },
      "source": [
        "#backup\r\n",
        "\"\"\"\r\n",
        "\"Evaluation of Constructionsites\"\r\n",
        "print(len(df_jobs['plz'].unique()))\r\n",
        "print(len(df_jobs['lon'].unique()))\r\n",
        "print(len(df_jobs['lat'].unique()))\r\n",
        "#print(len(df_jobs[['lon','lat']]()))\r\n",
        "\r\n",
        "df_sites = df_jobs[['lon','lat']].copy()\r\n",
        "\r\n",
        "print(df_sites.shape)\r\n",
        "\r\n",
        "df_sites.drop_duplicates(inplace=True)\r\n",
        "\r\n",
        "\r\n",
        "print(df_sites.shape)\r\n",
        "k.key\r\n",
        "\"\"\""
      ],
      "execution_count": null,
      "outputs": []
    }
  ]
}