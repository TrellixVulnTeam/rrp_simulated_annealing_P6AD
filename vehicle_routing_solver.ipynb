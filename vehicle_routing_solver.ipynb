{
  "nbformat": 4,
  "nbformat_minor": 0,
  "metadata": {
    "colab": {
      "name": "Untitled11.ipynb",
      "provenance": [],
      "authorship_tag": "ABX9TyNUdcLN+dajl0A4p9NX9vFH",
      "include_colab_link": true
    },
    "kernelspec": {
      "name": "python3",
      "display_name": "Python 3"
    }
  },
  "cells": [
    {
      "cell_type": "markdown",
      "metadata": {
        "id": "view-in-github",
        "colab_type": "text"
      },
      "source": [
        "<a href=\"https://colab.research.google.com/github/nicoelbert/vehicleroutingproblem/blob/main/vehicle_routing_solver.ipynb\" target=\"_parent\"><img src=\"https://colab.research.google.com/assets/colab-badge.svg\" alt=\"Open In Colab\"/></a>"
      ]
    },
    {
      "cell_type": "markdown",
      "metadata": {
        "id": "t9T1ofqY8zAE"
      },
      "source": [
        "#Vehicle Routing Problem\r\n",
        "vehicle routing problem on complete information using simmulated annealing"
      ]
    },
    {
      "cell_type": "markdown",
      "metadata": {
        "id": "BvsL24g5FDZT"
      },
      "source": [
        "#Preparation"
      ]
    },
    {
      "cell_type": "code",
      "metadata": {
        "id": "RJvLbXBT15bn"
      },
      "source": [
        "#inital run\r\n",
        "if False:\r\n",
        "  !git clone 'https://github.com/nicoelbert/vehicleroutingproblem'\r\n",
        "  %cd vehicleroutingproblem"
      ],
      "execution_count": 17,
      "outputs": []
    },
    {
      "cell_type": "code",
      "metadata": {
        "id": "N0hjaYGWFGBh",
        "colab": {
          "base_uri": "https://localhost:8080/"
        },
        "outputId": "acdb5676-d0a3-47c7-ab70-d8d353c2ab1b"
      },
      "source": [
        "#import packages\r\n",
        "import pandas as pd\r\n",
        "import sys\r\n",
        "import matplotlib.pyplot as plt\r\n",
        "\r\n",
        "#custom calsses\r\n",
        "!git pull\r\n",
        "from classes import classes as cl\r\n",
        "from functions import functions as fc\r\n"
      ],
      "execution_count": 30,
      "outputs": [
        {
          "output_type": "stream",
          "text": [
            "Already up to date.\n"
          ],
          "name": "stdout"
        }
      ]
    },
    {
      "cell_type": "code",
      "metadata": {
        "id": "WX6z7V4vzOcr",
        "colab": {
          "base_uri": "https://localhost:8080/"
        },
        "outputId": "d306063a-975e-4d7a-b1d2-5ec199bccb38"
      },
      "source": [
        "!git pull\r\n",
        "!ls"
      ],
      "execution_count": 29,
      "outputs": [
        {
          "output_type": "stream",
          "text": [
            "remote: Enumerating objects: 7, done.\u001b[K\n",
            "remote: Counting objects:  14% (1/7)\u001b[K\rremote: Counting objects:  28% (2/7)\u001b[K\rremote: Counting objects:  42% (3/7)\u001b[K\rremote: Counting objects:  57% (4/7)\u001b[K\rremote: Counting objects:  71% (5/7)\u001b[K\rremote: Counting objects:  85% (6/7)\u001b[K\rremote: Counting objects: 100% (7/7)\u001b[K\rremote: Counting objects: 100% (7/7), done.\u001b[K\n",
            "remote: Compressing objects:  50% (1/2)\u001b[K\rremote: Compressing objects: 100% (2/2)\u001b[K\rremote: Compressing objects: 100% (2/2), done.\u001b[K\n",
            "remote: Total 4 (delta 2), reused 4 (delta 2), pack-reused 0\u001b[K\n",
            "Unpacking objects:  25% (1/4)   \rUnpacking objects:  50% (2/4)   \rUnpacking objects:  75% (3/4)   \rUnpacking objects: 100% (4/4)   \rUnpacking objects: 100% (4/4), done.\n",
            "From https://github.com/nicoelbert/vehicleroutingproblem\n",
            "   2fa17d4..b5415db  main       -> origin/main\n",
            "Updating 2fa17d4..b5415db\n",
            "Fast-forward\n",
            " functions/functions.py | 19 \u001b[32m+++++++++\u001b[m\u001b[31m----------\u001b[m\n",
            " 1 file changed, 9 insertions(+), 10 deletions(-)\n",
            "classes  functions  original_data  README.md  vehicle_routing_solver.ipynb\n"
          ],
          "name": "stdout"
        }
      ]
    },
    {
      "cell_type": "markdown",
      "metadata": {
        "id": "lUxo_NKsCbDa"
      },
      "source": [
        "##Data Import"
      ]
    },
    {
      "cell_type": "code",
      "metadata": {
        "id": "a2c2UpP-8FZm",
        "colab": {
          "base_uri": "https://localhost:8080/"
        },
        "outputId": "8b662995-8731-42f8-8794-dd5762cd190e"
      },
      "source": [
        "#depot masterdata\r\n",
        "\r\n",
        "#load Masterdata from csv\r\n",
        "url = 'https://raw.githubusercontent.com/nicoelbert/vehicleroutingproblem/main/original_data/Depots.csv'\r\n",
        "df_depots = pd.read_csv(url)\r\n",
        "\r\n",
        "\r\n",
        "#load basetable\r\n",
        "url = 'https://raw.githubusercontent.com/nicoelbert/vehicleroutingproblem/main/original_data/preparedJobs.csv'\r\n",
        "df_jobs_org = pd.read_csv(url)\r\n",
        "\r\n",
        "#create and fill dict_depots\r\n",
        "\r\n",
        "dict_depots = {}\r\n",
        "list_depots = []\r\n",
        "\r\n",
        "for index, row in df_depots.iterrows():\r\n",
        "  depot = cl.Depot(row['Werk'],row['Werk_lon'],row['Werk_lat'])\r\n",
        "  dict_depots[row['Werk']] = depot\r\n",
        "  list_depots.append(depot)\r\n",
        "\r\n",
        "print(\"{} depots created\".format(len(dict_depots)))\r\n",
        "\r\n",
        "\r\n",
        "#create and fill plants from df_jobs_org\r\n",
        "dict_plants = {}\r\n",
        "list_plants = []\r\n",
        "\r\n",
        "list_plant_names = df_jobs_org['Werk'].unique() \r\n",
        "\r\n",
        "for pn in list_plant_names:\r\n",
        "  row = df_jobs_org[df_jobs_org['Werk'] == pn].iloc[0]\r\n",
        "  plant = cl.Plant(row.Werk,row.Werk_lon,row.Werk_lat)\r\n",
        "  dict_plants[plant.name] = plant\r\n",
        "  list_plants.append(plant)\r\n",
        "\r\n",
        "print(\"{} plants created\".format(len(dict_plants)))\r\n",
        "\r\n",
        "\r\n",
        "#create and fill sites from df_jobs_org\r\n",
        "\r\n",
        "dict_sites = {}\r\n",
        "list_sites = []\r\n",
        "\r\n",
        "df_sites = df_jobs_org[['plz','lon','lat']].copy()\r\n",
        "df_sites.drop_duplicates(inplace=True)\r\n",
        "\r\n",
        "\r\n",
        "for index, row in df_sites.iterrows():\r\n",
        "  site = cl.Site(row.plz,row.lon,row.lat)\r\n",
        "  dict_sites[site.name] = site\r\n",
        "  list_sites.append(site)\r\n",
        "\r\n",
        "\r\n",
        "print(\"{} sites created\".format(len(dict_sites)))\r\n",
        "\r\n",
        "\r\n",
        "#create and fill jobs from df_jobs_org\r\n",
        "\r\n",
        "\r\n",
        "dict_jobs = {}\r\n",
        "list_jobs = []\r\n",
        "\r\n",
        "for index, row in df_jobs_org.iterrows():\r\n",
        "  plant = dict_plants[row.Werk]\r\n",
        "  site_name = str(row.plz) + '/' +str(row.lon) + '/' + str(row.lat)\r\n",
        "  site = dict_sites[site_name]\r\n",
        "  job = cl.Job(row.id, row.key, plant,row.Maschinentechnik,row.Material,row.Start_clean,row.End, row.Werktage, site )\r\n",
        "  dict_jobs[job.id] = job\r\n",
        "  list_jobs.append(job)\r\n",
        "\r\n",
        "\r\n",
        "\r\n",
        "print(\"{} jobs created\".format(len(dict_jobs)))\r\n"
      ],
      "execution_count": 31,
      "outputs": [
        {
          "output_type": "stream",
          "text": [
            "15 depots created\n",
            "8 plants created\n",
            "6166 sites created\n",
            "53178 jobs created\n"
          ],
          "name": "stdout"
        }
      ]
    },
    {
      "cell_type": "markdown",
      "metadata": {
        "id": "6c67MQUaCxsE"
      },
      "source": [
        "Visualize Data\r\n"
      ]
    },
    {
      "cell_type": "code",
      "metadata": {
        "colab": {
          "base_uri": "https://localhost:8080/",
          "height": 163
        },
        "id": "ELOJlf9fG7aH",
        "outputId": "f76d1c3e-1231-4d01-e38e-4dba2225ba5a"
      },
      "source": [
        "fc.get_map(list_depots,list_plants,list_sites)"
      ],
      "execution_count": 34,
      "outputs": [
        {
          "output_type": "error",
          "ename": "AttributeError",
          "evalue": "ignored",
          "traceback": [
            "\u001b[0;31m---------------------------------------------------------------------------\u001b[0m",
            "\u001b[0;31mAttributeError\u001b[0m                            Traceback (most recent call last)",
            "\u001b[0;32m<ipython-input-34-f7a0633ecd89>\u001b[0m in \u001b[0;36m<module>\u001b[0;34m()\u001b[0m\n\u001b[0;32m----> 1\u001b[0;31m \u001b[0mfc\u001b[0m\u001b[0;34m.\u001b[0m\u001b[0mget_map\u001b[0m\u001b[0;34m(\u001b[0m\u001b[0mlist_depots\u001b[0m\u001b[0;34m,\u001b[0m\u001b[0mlist_plants\u001b[0m\u001b[0;34m,\u001b[0m\u001b[0mlist_sites\u001b[0m\u001b[0;34m)\u001b[0m\u001b[0;34m\u001b[0m\u001b[0;34m\u001b[0m\u001b[0m\n\u001b[0m",
            "\u001b[0;31mAttributeError\u001b[0m: module 'functions.functions' has no attribute 'get_map'"
          ]
        }
      ]
    },
    {
      "cell_type": "code",
      "metadata": {
        "id": "YFuFG2yI0_A8"
      },
      "source": [
        "list_plants[0]."
      ],
      "execution_count": 22,
      "outputs": []
    },
    {
      "cell_type": "markdown",
      "metadata": {
        "id": "X3xQ2KP36WXQ"
      },
      "source": [
        "##Backup"
      ]
    },
    {
      "cell_type": "code",
      "metadata": {
        "id": "PrSqTTyZ59N6",
        "outputId": "97594e52-5ed4-4ce6-d64a-08229cd9f6ee",
        "colab": {
          "base_uri": "https://localhost:8080/",
          "height": 35
        }
      },
      "source": [
        "#notes\r\n",
        "\"inital solution transport every silo back and forth on a tour prior to the\""
      ],
      "execution_count": 23,
      "outputs": [
        {
          "output_type": "execute_result",
          "data": {
            "application/vnd.google.colaboratory.intrinsic+json": {
              "type": "string"
            },
            "text/plain": [
              "'inital solution transport every silo back and forth on a tour prior to the'"
            ]
          },
          "metadata": {
            "tags": []
          },
          "execution_count": 23
        }
      ]
    },
    {
      "cell_type": "code",
      "metadata": {
        "id": "ZLRzAJhd6IrJ",
        "outputId": "e1a94f27-721c-496e-88ff-cc8b80fe163d",
        "colab": {
          "base_uri": "https://localhost:8080/",
          "height": 35
        }
      },
      "source": [
        "#question\r\n",
        "\"how many silos\"\r\n",
        "\"max_km\"\r\n",
        "\"how early\""
      ],
      "execution_count": 24,
      "outputs": [
        {
          "output_type": "execute_result",
          "data": {
            "application/vnd.google.colaboratory.intrinsic+json": {
              "type": "string"
            },
            "text/plain": [
              "'how early'"
            ]
          },
          "metadata": {
            "tags": []
          },
          "execution_count": 24
        }
      ]
    },
    {
      "cell_type": "code",
      "metadata": {
        "id": "Ts_m2n76kfK5",
        "colab": {
          "base_uri": "https://localhost:8080/",
          "height": 52
        },
        "outputId": "9b8be4b5-1c0f-4be4-c5c5-7820f9a89cbd"
      },
      "source": [
        "#backup\r\n",
        "\r\n",
        "#distance depot,plants\r\n",
        "\"\"\"\r\n",
        "for d in list_depots:\r\n",
        "  for p in list_plants:\r\n",
        "    print('{} nach {} sind {}'.format(d.name,p.name,fc.get_distance(d,p)))\r\n",
        "\"\"\"\r\n",
        "\r\n",
        "\"\"\"\r\n",
        "\"eval of sites\"\r\n",
        "print(len(df_jobs['plz'].unique()))\r\n",
        "print(len(df_jobs['lon'].unique()))\r\n",
        "print(len(df_jobs['lat'].unique()))\r\n",
        "#print(len(df_jobs[['lon','lat']]()))\r\n",
        "\r\n",
        "df_sites = df_jobs[['lon','lat']].copy()\r\n",
        "\r\n",
        "print(df_sites.shape)\r\n",
        "\r\n",
        "df_sites.drop_duplicates(inplace=True)\r\n",
        "\r\n",
        "\r\n",
        "print(df_sites.shape)\r\n",
        "k.key\r\n",
        "\"\"\"\r\n"
      ],
      "execution_count": 25,
      "outputs": [
        {
          "output_type": "execute_result",
          "data": {
            "application/vnd.google.colaboratory.intrinsic+json": {
              "type": "string"
            },
            "text/plain": [
              "'\\n\"eval of sites\"\\nprint(len(df_jobs[\\'plz\\'].unique()))\\nprint(len(df_jobs[\\'lon\\'].unique()))\\nprint(len(df_jobs[\\'lat\\'].unique()))\\n#print(len(df_jobs[[\\'lon\\',\\'lat\\']]()))\\n\\ndf_sites = df_jobs[[\\'lon\\',\\'lat\\']].copy()\\n\\nprint(df_sites.shape)\\n\\ndf_sites.drop_duplicates(inplace=True)\\n\\n\\nprint(df_sites.shape)\\nk.key\\n'"
            ]
          },
          "metadata": {
            "tags": []
          },
          "execution_count": 25
        }
      ]
    }
  ]
}