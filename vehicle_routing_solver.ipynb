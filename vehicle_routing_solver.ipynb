{
  "nbformat": 4,
  "nbformat_minor": 0,
  "metadata": {
    "colab": {
      "name": "Untitled11.ipynb",
      "provenance": [],
      "toc_visible": true,
      "authorship_tag": "ABX9TyPzzDm3e24Vm99LN7SMoD6x",
      "include_colab_link": true
    },
    "kernelspec": {
      "name": "python3",
      "display_name": "Python 3"
    }
  },
  "cells": [
    {
      "cell_type": "markdown",
      "metadata": {
        "id": "view-in-github",
        "colab_type": "text"
      },
      "source": [
        "<a href=\"https://colab.research.google.com/github/nicoelbert/vehicleroutingproblem/blob/main/vehicle_routing_solver.ipynb\" target=\"_parent\"><img src=\"https://colab.research.google.com/assets/colab-badge.svg\" alt=\"Open In Colab\"/></a>"
      ]
    },
    {
      "cell_type": "markdown",
      "metadata": {
        "id": "t9T1ofqY8zAE"
      },
      "source": [
        "#Vehicle Routing Problem\r\n",
        "vehicle routing problem on complete information using simmulated annealing"
      ]
    },
    {
      "cell_type": "markdown",
      "metadata": {
        "id": "BvsL24g5FDZT"
      },
      "source": [
        "#Preparation"
      ]
    },
    {
      "cell_type": "code",
      "metadata": {
        "id": "RJvLbXBT15bn"
      },
      "source": [
        "!git clone 'https://github.com/nicoelbert/vehicleroutingproblem'"
      ],
      "execution_count": null,
      "outputs": []
    },
    {
      "cell_type": "code",
      "metadata": {
        "id": "N0hjaYGWFGBh",
        "colab": {
          "base_uri": "https://localhost:8080/",
          "height": 200
        },
        "outputId": "b8a2075b-56e5-4164-ff2b-57f508d0ebca"
      },
      "source": [
        "#import packages\r\n",
        "import pandas as pd\r\n",
        "\r\n",
        "import sys\r\n",
        "#import classes\r\n",
        "\r\n",
        "\r\n",
        "!git pull\r\n",
        "%cd vehicleroutingproblem\r\n",
        "\r\n",
        "from classes import classes"
      ],
      "execution_count": 26,
      "outputs": [
        {
          "output_type": "stream",
          "text": [
            "Already up to date.\n",
            "[Errno 2] No such file or directory: 'vehicleroutingproblem'\n",
            "/content/vehicleroutingproblem/vehicleroutingproblem/vehicleroutingproblem/vehicleroutingproblem/vehicleroutingproblem/vehicleroutingproblem/vehicleroutingproblem/vehicleroutingproblem/vehicleroutingproblem\n"
          ],
          "name": "stdout"
        },
        {
          "output_type": "error",
          "ename": "SyntaxError",
          "evalue": "ignored",
          "traceback": [
            "\u001b[0;36m  File \u001b[0;32m\"/content/vehicleroutingproblem/vehicleroutingproblem/vehicleroutingproblem/classes/classes.py\"\u001b[0;36m, line \u001b[0;32m22\u001b[0m\n\u001b[0;31m    def __init__(self,key,zip,lon,lat)\u001b[0m\n\u001b[0m                                      ^\u001b[0m\n\u001b[0;31mSyntaxError\u001b[0m\u001b[0;31m:\u001b[0m invalid syntax\n"
          ]
        }
      ]
    },
    {
      "cell_type": "code",
      "metadata": {
        "id": "WX6z7V4vzOcr",
        "outputId": "e8e17e76-9cbb-4499-a7e9-adcee880961c",
        "colab": {
          "base_uri": "https://localhost:8080/"
        }
      },
      "source": [
        "!git pull\r\n",
        "!ls"
      ],
      "execution_count": 23,
      "outputs": [
        {
          "output_type": "stream",
          "text": [
            "remote: Enumerating objects: 7, done.\u001b[K\n",
            "remote: Counting objects:  14% (1/7)\u001b[K\rremote: Counting objects:  28% (2/7)\u001b[K\rremote: Counting objects:  42% (3/7)\u001b[K\rremote: Counting objects:  57% (4/7)\u001b[K\rremote: Counting objects:  71% (5/7)\u001b[K\rremote: Counting objects:  85% (6/7)\u001b[K\rremote: Counting objects: 100% (7/7)\u001b[K\rremote: Counting objects: 100% (7/7), done.\u001b[K\n",
            "remote: Compressing objects:  33% (1/3)\u001b[K\rremote: Compressing objects:  66% (2/3)\u001b[K\rremote: Compressing objects: 100% (3/3)\u001b[K\rremote: Compressing objects: 100% (3/3), done.\u001b[K\n",
            "remote: Total 4 (delta 2), reused 3 (delta 1), pack-reused 0\u001b[K\n",
            "Unpacking objects:  25% (1/4)   \rUnpacking objects:  50% (2/4)   \rUnpacking objects:  75% (3/4)   \rUnpacking objects: 100% (4/4)   \rUnpacking objects: 100% (4/4), done.\n",
            "From https://github.com/nicoelbert/vehicleroutingproblem\n",
            "   229b560..f23754a  main       -> origin/main\n",
            "Updating 229b560..f23754a\n",
            "Fast-forward\n",
            " classes/classes.py | 4 \u001b[32m++\u001b[m\u001b[31m--\u001b[m\n",
            " 1 file changed, 2 insertions(+), 2 deletions(-)\n",
            "classes  original_data\tREADME.md  vehicle_routing_solver.ipynb\n"
          ],
          "name": "stdout"
        }
      ]
    },
    {
      "cell_type": "markdown",
      "metadata": {
        "id": "lUxo_NKsCbDa"
      },
      "source": [
        "##Data Import"
      ]
    },
    {
      "cell_type": "code",
      "metadata": {
        "id": "a2c2UpP-8FZm"
      },
      "source": [
        "#depot masterdata\r\n",
        "\r\n",
        "#load Masterdata from csv\r\n",
        "url = 'https://raw.githubusercontent.com/nicoelbert/vehicleroutingproblem/main/original_data/Depots.csv'\r\n",
        "df_depots = pd.read_csv(url)\r\n",
        "\r\n",
        "\r\n",
        "#load basetable\r\n",
        "url = 'https://raw.githubusercontent.com/nicoelbert/vehicleroutingproblem/main/original_data/preparedJobs.csv'\r\n",
        "df_jobs = pd.read_csv(url)\r\n",
        "\r\n",
        "\r\n",
        "#next steps load data into classes\r\n",
        "#create dictionary for each class"
      ],
      "execution_count": null,
      "outputs": []
    },
    {
      "cell_type": "code",
      "metadata": {
        "id": "dXftNExSj5sw"
      },
      "source": [
        ""
      ],
      "execution_count": null,
      "outputs": []
    },
    {
      "cell_type": "code",
      "metadata": {
        "id": "Ts_m2n76kfK5"
      },
      "source": [
        "#backup\r\n",
        "\r\n",
        "\r\n",
        "\r\n",
        "\"Evaluation of Constructionsites\"\r\n",
        "print(len(df_jobs['plz'].unique()))\r\n",
        "print(len(df_jobs['lon'].unique()))\r\n",
        "print(len(df_jobs['lat'].unique()))\r\n",
        "#print(len(df_jobs[['lon','lat']]()))\r\n",
        "\r\n",
        "df_sites = df_jobs[['lon','lat']].copy()\r\n",
        "\r\n",
        "print(df_sites.shape)\r\n",
        "\r\n",
        "df_sites.drop_duplicates(inplace=True)\r\n",
        "\r\n",
        "\r\n",
        "print(df_sites.shape)\r\n"
      ],
      "execution_count": null,
      "outputs": []
    }
  ]
}