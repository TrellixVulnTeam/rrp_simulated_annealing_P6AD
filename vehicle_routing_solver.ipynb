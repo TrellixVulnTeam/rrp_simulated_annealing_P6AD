{
 "cells": [
  {
   "cell_type": "markdown",
   "metadata": {
    "colab_type": "text",
    "id": "view-in-github"
   },
   "source": [
    "<a href=\"https://colab.research.google.com/github/nicoelbert/vehicleroutingproblem/blob/main/vehicle_routing_solver.ipynb\" target=\"_parent\"><img src=\"https://colab.research.google.com/assets/colab-badge.svg\" alt=\"Open In Colab\"/></a>"
   ]
  },
  {
   "cell_type": "markdown",
   "metadata": {
    "id": "t9T1ofqY8zAE"
   },
   "source": [
    "#Vehicle Routing Problem\n",
    "vehicle routing problem on complete information using simmulated annealing"
   ]
  },
  {
   "cell_type": "markdown",
   "metadata": {
    "id": "BvsL24g5FDZT"
   },
   "source": [
    "#Preparation"
   ]
  },
  {
   "cell_type": "code",
   "execution_count": 1,
   "metadata": {
    "colab": {
     "base_uri": "https://localhost:8080/"
    },
    "id": "RJvLbXBT15bn",
    "outputId": "4883e7d3-c7d0-43ea-b99e-11d16f697ef5"
   },
   "outputs": [
    {
     "name": "stdout",
     "output_type": "stream",
     "text": [
      "Requirement already satisfied: pulp in c:\\users\\nutzer\\anaconda3\\lib\\site-packages (2.4)\n",
      "Requirement already satisfied: amply>=0.1.2 in c:\\users\\nutzer\\anaconda3\\lib\\site-packages (from pulp) (0.1.4)\n",
      "Requirement already satisfied: docutils>=0.3 in c:\\users\\nutzer\\anaconda3\\lib\\site-packages (from amply>=0.1.2->pulp) (0.16)\n",
      "Requirement already satisfied: pyparsing in c:\\users\\nutzer\\anaconda3\\lib\\site-packages (from amply>=0.1.2->pulp) (2.4.7)\n",
      "[WinError 2] Das System kann die angegebene Datei nicht finden: 'vehicleroutingproblem'\n",
      "C:\\Users\\Nutzer\\Documents\\GitHub\\vehicleroutingproblem\n"
     ]
    }
   ],
   "source": [
    "#inital run\n",
    "if True:\n",
    "  !pip install pulp\n",
    "  #!git clone 'https://github.com/nicoelbert/vehicleroutingproblem'\n",
    "  %cd vehicleroutingproblem"
   ]
  },
  {
   "cell_type": "code",
   "execution_count": 2,
   "metadata": {
    "colab": {
     "base_uri": "https://localhost:8080/"
    },
    "id": "N0hjaYGWFGBh",
    "outputId": "cfcbddba-4d0d-49cd-c26e-831a384f5d3d"
   },
   "outputs": [
    {
     "ename": "SyntaxError",
     "evalue": "unexpected EOF while parsing (functions.py, line 67)",
     "output_type": "error",
     "traceback": [
      "Traceback \u001b[1;36m(most recent call last)\u001b[0m:\n",
      "  File \u001b[0;32m\"C:\\Users\\Nutzer\\anaconda3\\lib\\site-packages\\IPython\\core\\interactiveshell.py\"\u001b[0m, line \u001b[0;32m3418\u001b[0m, in \u001b[0;35mrun_code\u001b[0m\n    exec(code_obj, self.user_global_ns, self.user_ns)\n",
      "\u001b[1;36m  File \u001b[1;32m\"<ipython-input-2-82179ed6fd0b>\"\u001b[1;36m, line \u001b[1;32m11\u001b[1;36m, in \u001b[1;35m<module>\u001b[1;36m\u001b[0m\n\u001b[1;33m    from functions import functions as fc\u001b[0m\n",
      "\u001b[1;36m  File \u001b[1;32m\"C:\\Users\\Nutzer\\Documents\\GitHub\\vehicleroutingproblem\\functions\\functions.py\"\u001b[1;36m, line \u001b[1;32m67\u001b[0m\n\u001b[1;33m    \u001b[0m\n\u001b[1;37m    ^\u001b[0m\n\u001b[1;31mSyntaxError\u001b[0m\u001b[1;31m:\u001b[0m unexpected EOF while parsing\n"
     ]
    }
   ],
   "source": [
    "#import packages\n",
    "import pandas as pd\n",
    "import sys\n",
    "import matplotlib.pyplot as plt\n",
    "from datetime import datetime\n",
    "import logging\n",
    "\n",
    "#custom calsses\n",
    "#!git pull\n",
    "from classes import classes as cl\n",
    "from functions import functions as fc\n",
    "from functions import routing as rt\n",
    "\n",
    "#connect drive for exports\n",
    "#!pip install google\n",
    "#from google.colab import drive\n",
    "#drive.mount('/content/drive')\n",
    "string_exp_path = 'output'\n"
   ]
  },
  {
   "cell_type": "code",
   "execution_count": null,
   "metadata": {
    "id": "eKuQf2PJYsD5"
   },
   "outputs": [],
   "source": [
    "logging.basicConfig(filename=\"inital_routing.log\", level=logging.INFO)\n"
   ]
  },
  {
   "cell_type": "code",
   "execution_count": null,
   "metadata": {
    "colab": {
     "base_uri": "https://localhost:8080/"
    },
    "id": "WX6z7V4vzOcr",
    "outputId": "d4e665f2-c776-46dc-f3f4-782e49075549"
   },
   "outputs": [],
   "source": [
    "#!git pull\n",
    "#ls()"
   ]
  },
  {
   "cell_type": "markdown",
   "metadata": {
    "id": "Cgh5s_hiWG8d"
   },
   "source": []
  },
  {
   "cell_type": "markdown",
   "metadata": {
    "id": "lUxo_NKsCbDa"
   },
   "source": [
    "##Data Import"
   ]
  },
  {
   "cell_type": "code",
   "execution_count": null,
   "metadata": {
    "id": "Hd9tiPHkE-t9"
   },
   "outputs": [],
   "source": [
    "def get_proxdepot(site,plant):\n",
    "  \n",
    "  distance_min = 10000000000000\n",
    "  depot_min = ''\n",
    "  for d in list_depots:\n",
    "    distance_ges = rt.get_distance(d,site) + rt.get_distance(d,plant)\n",
    "    if distance_ges < distance_min:\n",
    "      distance_min = distance_ges\n",
    "      depot_min = d\n",
    "  return depot_min\n"
   ]
  },
  {
   "cell_type": "code",
   "execution_count": null,
   "metadata": {
    "colab": {
     "base_uri": "https://localhost:8080/"
    },
    "id": "a2c2UpP-8FZm",
    "outputId": "6dcfef62-aee8-468a-d6d6-c7b642d0d6da"
   },
   "outputs": [],
   "source": [
    "#depot masterdata\n",
    "fc.print_log(\"Starting with Data Import at {}\".format(fc.get_time()))\n",
    "\n",
    "\n",
    "\n",
    "#load Masterdata from csv\n",
    "url = 'https://raw.githubusercontent.com/nicoelbert/vehicleroutingproblem/main/original_data/Depots.csv'\n",
    "df_depots = pd.read_csv(url)\n",
    "\n",
    "\n",
    "#load basetable\n",
    "url = 'https://raw.githubusercontent.com/nicoelbert/vehicleroutingproblem/main/original_data/preparedJobs.csv'\n",
    "df_jobs_org = pd.read_csv(url)\n",
    "\n",
    "#create and fill dict_depots\n",
    "\n",
    "dict_depots = {}\n",
    "list_depots = []\n",
    "\n",
    "for index, row in df_depots.iterrows():\n",
    "  depot = cl.Depot(row['Werk'],row['Werk_lon'],row['Werk_lat'])\n",
    "  dict_depots[row['Werk']] = depot\n",
    "  list_depots.append(depot)\n",
    "\n",
    "\n",
    "fc.print_log(\"{} depots created\".format(len(dict_depots)))\n",
    "\n",
    "#create and fill plants from df_jobs_org\n",
    "dict_plants = {}\n",
    "list_plants = []\n",
    "\n",
    "list_plant_names = df_jobs_org['Werk'].unique() \n",
    "\n",
    "for pn in list_plant_names:\n",
    "  row = df_jobs_org[df_jobs_org['Werk'] == pn].iloc[0]\n",
    "  plant = cl.Plant(row.Werk,row.Werk_lon,row.Werk_lat)\n",
    "  dict_plants[plant.name] = plant\n",
    "  list_plants.append(plant)\n",
    "\n",
    "fc.print_log(\"{} plants created\".format(len(dict_plants)))\n",
    "\n",
    "#create and fill sites from df_jobs_org\n",
    "\n",
    "dict_sites = {}\n",
    "list_sites = []\n",
    "\n",
    "df_sites = df_jobs_org[['plz','lon','lat']].copy()\n",
    "df_sites.drop_duplicates(inplace=True)\n",
    "\n",
    "\n",
    "for index, row in df_sites.iterrows():\n",
    "  site = cl.Site(row.plz,row.lon,row.lat)\n",
    "  dict_sites[site.name] = site\n",
    "  list_sites.append(site)\n",
    "\n",
    "\n",
    "fc.print_log(\"{} sites created\".format(len(dict_sites)))\n",
    "\n",
    "#create and fill jobs from df_jobs_org\n",
    "dict_jobs = {}\n",
    "list_jobs = []\n",
    "list_emsen_jobs = []\n",
    "\n",
    "for index, row in df_jobs_org.iterrows():\n",
    "  plant = dict_plants[row.Werk]\n",
    "  site_name = str(row.plz) + '/' +str(row.lon) + '/' + str(row.lat)\n",
    "  site = dict_sites[site_name]\n",
    "  prox_depot = get_proxdepot(site,plant)\n",
    "  job = cl.Job(row.id, row.key, plant,row.Maschinentechnik,row.Material,row.Start_clean,(row.Start_clean + row.Werktage), row.Werktage, site, prox_depot )\n",
    "  dict_jobs[job.name] = job\n",
    "  list_jobs.append(job)\n",
    "\n",
    "\n",
    "fc.print_log(\"{} jobs created\".format(len(dict_jobs)))\n",
    "\n",
    "#create list of days\n",
    "# since the timespan is 1208 days and there are only 895 relevant days lets work with these first\n",
    "\n",
    "list_days = []\n",
    "\n",
    "\n",
    "for j in list_jobs: \n",
    "  if j.start not in list_days:\n",
    "    list_days.append(j.start)\n",
    "  if j.end not in list_days:\n",
    "    list_days.append(j.end)\n",
    "\n",
    "list_days.sort()\n",
    "fc.print_log(\"Working with {} relevant days\".format(len(list_days)))\n",
    "\n",
    "#create one tour for each day and depot\n",
    "\n",
    "dict_tours = {}\n",
    "total_tours_created = 0\n",
    "\n",
    "for depot in dict_depots:\n",
    "  dict_tours[depot] = {}\n",
    "\n",
    "for depot in list_depots:\n",
    "  for day in list_days:\n",
    "    dict_tours[depot.name][day] = cl.Tour(depot,day)\n",
    "  total_tours_created += len(dict_tours[depot.name])\n",
    "\n",
    "fc.print_log(\"{} tours created\".format(total_tours_created))\n",
    "    \n",
    "fc.print_log(\"Done with Data Import at {}\".format(fc.get_time()))"
   ]
  },
  {
   "cell_type": "markdown",
   "metadata": {
    "id": "6c67MQUaCxsE"
   },
   "source": [
    "Visualize Data\n"
   ]
  },
  {
   "cell_type": "code",
   "execution_count": null,
   "metadata": {
    "colab": {
     "base_uri": "https://localhost:8080/",
     "height": 664
    },
    "id": "ELOJlf9fG7aH",
    "outputId": "ee45aa70-4ac7-4da3-b033-449854c82793"
   },
   "outputs": [],
   "source": [
    "fc.get_map(list_depots,list_plants,list_sites)"
   ]
  },
  {
   "cell_type": "markdown",
   "metadata": {
    "id": "_krSgFrHWrIQ"
   },
   "source": [
    "Inital Solution"
   ]
  },
  {
   "cell_type": "code",
   "execution_count": null,
   "metadata": {
    "colab": {
     "base_uri": "https://localhost:8080/"
    },
    "id": "YFuFG2yI0_A8",
    "outputId": "757ed44a-973b-4fc2-d2c8-63bca9ac83e4"
   },
   "outputs": [],
   "source": [
    "#create inital solution\n",
    "\"\"\" every silo is delivered on the day it is needed and picked up the day it is not needed anymore, the tour swichtes between plant and sites - starting and ending at the depot\"\"\"\n",
    "\n",
    "fc.print_log(\"Starting with inital solution at {}\".format(fc.get_time()))\n",
    "\n",
    "for j in list_jobs: \n",
    "  j.dropoff_day = j.start\n",
    "  j.pickup_day = j.end\n",
    "  j.dropoff_depot = j.prox_depot\n",
    "  j.pickup_depot = j.prox_depot\n",
    "\n",
    "  #assign inital tours\n",
    "  j.dropoff_tour = dict_tours[j.dropoff_depot.name][j.dropoff_day]\n",
    "  j.pickup_tour = dict_tours[j.pickup_depot.name][j.pickup_day]\n",
    "\n",
    "  #insert jobs and plants into tours for dropoff and pickup\n",
    "  if j not in j.dropoff_tour.list_dropoffs:\n",
    "    j.dropoff_tour.list_dropoffs.append(j)\n",
    "  if j.plant not in j.dropoff_tour.list_plants:\n",
    "    j.dropoff_tour.list_plants.append(j.plant)\n",
    "  \n",
    "  if j not in j.pickup_tour.list_pickups:\n",
    "    j.pickup_tour.list_pickups.append(j)\n",
    "  if j.plant not in j.pickup_tour.list_plants:\n",
    "    j.pickup_tour.list_plants.append(j.plant)\n",
    "  \n",
    "\n",
    "i_pickups = 0\n",
    "i_dropoffs = 0\n",
    "i_multiple_plants = 0\n",
    "\n",
    "for depot in dict_depots:\n",
    "  for day in list_days:\n",
    "   i_pickups = i_pickups + len(dict_tours[depot][day].list_pickups)\n",
    "   i_dropoffs = i_dropoffs + len(dict_tours[depot][day].list_dropoffs)\n",
    "   if len(dict_tours[depot][day].list_plants) > 1:\n",
    "     i_multiple_plants = i_multiple_plants + 1\n",
    "     fc.print_log(\"Warning at Tour from {} and day {} - {} plants listed\".format(depot,day,len(dict_tours[depot][day].list_plants)))\n",
    "     p_names = []\n",
    "     for p in dict_tours[depot][day].list_plants:\n",
    "       p_names.append(p.name)\n",
    "     print(p_names)\n",
    "\n",
    "\n",
    "total_tours = 0\n",
    "used_tours = 0\n",
    "total_distance = 0\n",
    "for depot in dict_depots:\n",
    "  for day in list_days:\n",
    "    if len(dict_tours[depot][day].list_plants)>0:\n",
    "      #rt.routing(dict_tours[depot][day])\n",
    "      print(\"Distance for depot {} on day {} is {} - {}/{}  done - {} filled - {} plant(s) detected - t: {}\".format(depot,day,dict_tours[depot][day].total_distance,total_tours,total_tours_created,used_tours,len(dict_tours[depot][day].list_plants),fc.get_time()),end='\\x1b[1K\\r')\n",
    "      logging.info(\"Distance for depot {} on day {} is {} - {}/{} done - {} filled - {} plant(s) detected - t: {}\".format(depot,day,dict_tours[depot][day].total_distance,total_tours,total_tours_created,used_tours,len(dict_tours[depot][day].list_plants),fc.get_time()))\n",
    "      total_distance += dict_tours[depot][day].total_distance\n",
    "      used_tours += 1  \n",
    "    for i in range(30):\n",
    "        if total_tours == i*500:\n",
    "            #export all data objects\n",
    "            fc.save_object(dict_depots, string_exp_path +'/quicksave/dict_depots{}.pkl'.format(total_tours))\n",
    "            fc.save_object(dict_sites,  string_exp_path +'/quicksave/dict_sites{}.pkl'.format(total_tours)))\n",
    "            fc.save_object(dict_plants, string_exp_path +'/quicksave/dict_plants{}.pkl'.format(total_tours)))\n",
    "            fc.save_object(dict_jobs,  string_exp_path +'/quicksave/dict_jobs{}.pkl'.format(total_tours)))\n",
    "            fc.save_object(dict_tours,  string_exp_path +'/quicksave/dict_tours{}.pkl'.format(total_tours)))\n",
    "    total_tours += 1\n",
    "  \n",
    "\n",
    "fc.print_log(\"There are {} dropoffs and {} pickups listet which creates a difference of {}\".format(i_dropoffs,i_pickups,i_dropoffs-i_pickups))\n",
    "fc.print_log(\"Done with inital solution at {} - total distance: {} - for {} total tours and {} filled\".format(fc.get_time(),total_distance, total_tours, used_tours)) "
   ]
  },
  {
   "cell_type": "markdown",
   "metadata": {
    "id": "DBz8L83wWqvh"
   },
   "source": [
    "Persitate Inital Solution"
   ]
  },
  {
   "cell_type": "code",
   "execution_count": null,
   "metadata": {
    "colab": {
     "base_uri": "https://localhost:8080/"
    },
    "id": "OilcdC1s3VOB",
    "outputId": "1ff431ba-11e3-4fa2-9aa6-99e34ebbc1cd"
   },
   "outputs": [],
   "source": [
    "fc.print_log(\"Starting persitation at {}\".format(fc.get_time()))\n",
    "\n",
    "tour_cols = dict_tours['Embsen'][17042].get_colums()\n",
    "\n",
    "#create df with objects and readable df for solution\n",
    "i=0\n",
    "tour_df = pd.DataFrame([tour_cols])\n",
    "tour_df.columns = tour_cols\n",
    "tour_df_readable = pd.DataFrame([tour_cols])\n",
    "tour_df_readable.columns = tour_cols\n",
    "\n",
    "for depot in dict_depots:\n",
    "  for day in list_days:\n",
    "    t = dict_tours[depot][day]\n",
    "    tour_df.loc[i] = t.get_all_values()\n",
    "    tour_df_readable.loc[i] = t.get_all_value_readable()\n",
    "    i += 1\n",
    "\n",
    "\n",
    "\n",
    "sys.setrecursionlimit(100000)\n",
    "\n",
    "#export tabular tour data\n",
    "tour_df.to_csv(string_exp_path + '/tour_df.csv')\n",
    "tour_df_readable.to_csv(string_exp_path + '/tour_df_readable.csv')\n",
    "\n",
    "\n",
    "#export all data objects\n",
    "fc.save_object(dict_depots, string_exp_path +'/dict_depots.pkl')\n",
    "fc.save_object(dict_sites,  string_exp_path +'/dict_sites.pkl')\n",
    "fc.save_object(dict_plants, string_exp_path +'/dict_plants.pkl')\n",
    "fc.save_object(dict_jobs,  string_exp_path +'/dict_jobs.pkl')\n",
    "fc.save_object(dict_tours,  string_exp_path +'/dict_tours.pkl')\n",
    "logging.info(\"objects saved\")\n",
    "\n",
    "\n",
    "fc.print_log(\"Done with persitation at {}\".format(fc.get_time()))"
   ]
  },
  {
   "cell_type": "code",
   "execution_count": null,
   "metadata": {},
   "outputs": [],
   "source": []
  },
  {
   "cell_type": "code",
   "execution_count": null,
   "metadata": {},
   "outputs": [],
   "source": [
    "tour_df"
   ]
  },
  {
   "cell_type": "code",
   "execution_count": null,
   "metadata": {
    "id": "bW5prZxMWgW7"
   },
   "outputs": [],
   "source": [
    "tour_df_readable"
   ]
  },
  {
   "cell_type": "markdown",
   "metadata": {
    "id": "vkZaqY1PWgHC"
   },
   "source": []
  },
  {
   "cell_type": "code",
   "execution_count": null,
   "metadata": {
    "id": "waA41SzSQibM"
   },
   "outputs": [],
   "source": []
  },
  {
   "cell_type": "markdown",
   "metadata": {
    "id": "X3xQ2KP36WXQ"
   },
   "source": [
    "##Backup"
   ]
  },
  {
   "cell_type": "code",
   "execution_count": null,
   "metadata": {
    "id": "PrSqTTyZ59N6"
   },
   "outputs": [],
   "source": [
    "#notes\n",
    "\"\"\"tour contains list of pickup and dropoff node,\n",
    "\n",
    "\"inital solution transport every silo back and forth on a tour prior to the\"\n",
    "\"create a tour with list of pickups and list of deliveries - also need to include silo types?\"\"\""
   ]
  },
  {
   "cell_type": "code",
   "execution_count": null,
   "metadata": {
    "id": "ZLRzAJhd6IrJ"
   },
   "outputs": [],
   "source": [
    "#question\n",
    "\"\"\"\"really repos or whole problem?\"\n",
    "\n",
    "\n",
    "\n",
    "\"how many silos\"\n",
    "\"max_km\"\n",
    "\"how early\"\"\""
   ]
  },
  {
   "cell_type": "code",
   "execution_count": null,
   "metadata": {
    "id": "MPnTy1bJMvwK"
   },
   "outputs": [],
   "source": [
    "#assumption\n",
    "\"\"\"\n",
    "max_km? \n",
    "max_tour/depot = 1"
   ]
  },
  {
   "cell_type": "code",
   "execution_count": null,
   "metadata": {
    "id": "Ts_m2n76kfK5"
   },
   "outputs": [],
   "source": [
    "#backup\n",
    "\n",
    "#distance depot,plants\n",
    "\"\"\"\n",
    "for d in list_depots:\n",
    "  for p in list_plants:\n",
    "    print('{} nach {} sind {}'.format(d.name,p.name,fc.get_distance(d,p)))\n",
    "\"\"\"\n",
    "\n",
    "\"\"\"\n",
    "\"eval of sites\"\n",
    "print(len(df_jobs['plz'].unique()))\n",
    "print(len(df_jobs['lon'].unique()))\n",
    "print(len(df_jobs['lat'].unique()))\n",
    "#print(len(df_jobs[['lon','lat']]()))\n",
    "\n",
    "df_sites = df_jobs[['lon','lat']].copy()\n",
    "\n",
    "print(df_sites.shape)\n",
    "\n",
    "df_sites.drop_duplicates(inplace=True)\n",
    "\n",
    "\n",
    "print(df_sites.shape)\n",
    "k.key\n",
    "\"\"\"\n"
   ]
  }
 ],
 "metadata": {
  "colab": {
   "authorship_tag": "ABX9TyODo+sMa4fqJJ42BwNSRxHa",
   "include_colab_link": true,
   "name": "Untitled11.ipynb",
   "provenance": [],
   "toc_visible": true
  },
  "kernelspec": {
   "display_name": "Python 3",
   "language": "python",
   "name": "python3"
  },
  "language_info": {
   "codemirror_mode": {
    "name": "ipython",
    "version": 3
   },
   "file_extension": ".py",
   "mimetype": "text/x-python",
   "name": "python",
   "nbconvert_exporter": "python",
   "pygments_lexer": "ipython3",
   "version": "3.8.5"
  }
 },
 "nbformat": 4,
 "nbformat_minor": 1
}
