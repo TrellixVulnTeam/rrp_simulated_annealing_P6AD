{
  "nbformat": 4,
  "nbformat_minor": 0,
  "metadata": {
    "colab": {
      "name": "Untitled11.ipynb",
      "provenance": [],
      "authorship_tag": "ABX9TyPB2ElIseIdp/v15a/Fb9K8",
      "include_colab_link": true
    },
    "kernelspec": {
      "name": "python3",
      "display_name": "Python 3"
    }
  },
  "cells": [
    {
      "cell_type": "markdown",
      "metadata": {
        "id": "view-in-github",
        "colab_type": "text"
      },
      "source": [
        "<a href=\"https://colab.research.google.com/github/nicoelbert/vehicleroutingproblem/blob/main/vehicle_routing_solver.ipynb\" target=\"_parent\"><img src=\"https://colab.research.google.com/assets/colab-badge.svg\" alt=\"Open In Colab\"/></a>"
      ]
    },
    {
      "cell_type": "markdown",
      "metadata": {
        "id": "t9T1ofqY8zAE"
      },
      "source": [
        "#Vehicle Routing Problem\r\n",
        "vehicle routing problem on complete information using simmulated annealing"
      ]
    },
    {
      "cell_type": "markdown",
      "metadata": {
        "id": "BvsL24g5FDZT"
      },
      "source": [
        "#Preparation"
      ]
    },
    {
      "cell_type": "code",
      "metadata": {
        "id": "N0hjaYGWFGBh",
        "outputId": "2712517c-d616-4d30-ca1a-b4a7385c3320",
        "colab": {
          "base_uri": "https://localhost:8080/",
          "height": 333
        }
      },
      "source": [
        "#import packages\r\n",
        "import pandas as pd\r\n",
        "\r\n",
        "import sys\r\n",
        "#import classes\r\n"
      ],
      "execution_count": 101,
      "outputs": [
        {
          "output_type": "error",
          "ename": "ModuleNotFoundError",
          "evalue": "ignored",
          "traceback": [
            "\u001b[0;31m---------------------------------------------------------------------------\u001b[0m",
            "\u001b[0;31mModuleNotFoundError\u001b[0m                       Traceback (most recent call last)",
            "\u001b[0;32m<ipython-input-101-d0ac59f0bdfe>\u001b[0m in \u001b[0;36m<module>\u001b[0;34m()\u001b[0m\n\u001b[1;32m      5\u001b[0m \u001b[0;31m#import classes\u001b[0m\u001b[0;34m\u001b[0m\u001b[0;34m\u001b[0m\u001b[0;34m\u001b[0m\u001b[0m\n\u001b[1;32m      6\u001b[0m \u001b[0;34m\u001b[0m\u001b[0m\n\u001b[0;32m----> 7\u001b[0;31m \u001b[0;32mfrom\u001b[0m \u001b[0mclasses\u001b[0m \u001b[0;32mimport\u001b[0m \u001b[0mPlant\u001b[0m\u001b[0;34m\u001b[0m\u001b[0;34m\u001b[0m\u001b[0m\n\u001b[0m",
            "\u001b[0;31mModuleNotFoundError\u001b[0m: No module named 'classes'",
            "",
            "\u001b[0;31m---------------------------------------------------------------------------\u001b[0;32m\nNOTE: If your import is failing due to a missing package, you can\nmanually install dependencies using either !pip or !apt.\n\nTo view examples of installing some common dependencies, click the\n\"Open Examples\" button below.\n\u001b[0;31m---------------------------------------------------------------------------\u001b[0m\n"
          ]
        }
      ]
    },
    {
      "cell_type": "markdown",
      "metadata": {
        "id": "lUxo_NKsCbDa"
      },
      "source": [
        "##Data Import"
      ]
    },
    {
      "cell_type": "code",
      "metadata": {
        "id": "a2c2UpP-8FZm"
      },
      "source": [
        "#depot masterdata\r\n",
        "\r\n",
        "#load Masterdata from csv\r\n",
        "url = 'https://raw.githubusercontent.com/nicoelbert/vehicleroutingproblem/main/original_data/Depots.csv'\r\n",
        "df_depots = pd.read_csv(url)\r\n",
        "\r\n",
        "\r\n",
        "#load basetable\r\n",
        "url = 'https://raw.githubusercontent.com/nicoelbert/vehicleroutingproblem/main/original_data/preparedJobs.csv'\r\n",
        "df_jobs = pd.read_csv(url)\r\n",
        "\r\n",
        "\r\n",
        "#next steps load data into classes\r\n",
        "#create dictionary for each class"
      ],
      "execution_count": 41,
      "outputs": []
    },
    {
      "cell_type": "code",
      "metadata": {
        "id": "dXftNExSj5sw"
      },
      "source": [
        ""
      ],
      "execution_count": 66,
      "outputs": []
    },
    {
      "cell_type": "code",
      "metadata": {
        "id": "Ts_m2n76kfK5"
      },
      "source": [
        "#backup\r\n",
        "\r\n",
        "\r\n",
        "\r\n",
        "\"Evaluation of Constructionsites\"\r\n",
        "print(len(df_jobs['plz'].unique()))\r\n",
        "print(len(df_jobs['lon'].unique()))\r\n",
        "print(len(df_jobs['lat'].unique()))\r\n",
        "#print(len(df_jobs[['lon','lat']]()))\r\n",
        "\r\n",
        "df_sites = df_jobs[['lon','lat']].copy()\r\n",
        "\r\n",
        "print(df_sites.shape)\r\n",
        "\r\n",
        "df_sites.drop_duplicates(inplace=True)\r\n",
        "\r\n",
        "\r\n",
        "print(df_sites.shape)\r\n"
      ],
      "execution_count": null,
      "outputs": []
    }
  ]
}