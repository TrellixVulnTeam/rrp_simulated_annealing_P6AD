{
 "cells": [
  {
   "cell_type": "markdown",
   "metadata": {
    "colab_type": "text",
    "id": "view-in-github"
   },
   "source": [
    "<a href=\"https://colab.research.google.com/github/nicoelbert/vehicleroutingproblem/blob/main/vehicle_routing_solver.ipynb\" target=\"_parent\"><img src=\"https://colab.research.google.com/assets/colab-badge.svg\" alt=\"Open In Colab\"/></a>"
   ]
  },
  {
   "cell_type": "markdown",
   "metadata": {
    "id": "t9T1ofqY8zAE"
   },
   "source": [
    "#Vehicle Routing Problem\n",
    "vehicle routing problem on complete information using simmulated annealing"
   ]
  },
  {
   "cell_type": "markdown",
   "metadata": {
    "id": "BvsL24g5FDZT"
   },
   "source": [
    "#Preparation"
   ]
  },
  {
   "cell_type": "code",
   "execution_count": 1,
   "metadata": {
    "colab": {
     "base_uri": "https://localhost:8080/"
    },
    "id": "RJvLbXBT15bn",
    "outputId": "4883e7d3-c7d0-43ea-b99e-11d16f697ef5"
   },
   "outputs": [
    {
     "name": "stdout",
     "output_type": "stream",
     "text": [
      "Requirement already satisfied: networkx in c:\\users\\nutzer\\anaconda3\\lib\\site-packages (2.5)\n",
      "Requirement already satisfied: decorator>=4.3.0 in c:\\users\\nutzer\\anaconda3\\lib\\site-packages (from networkx) (4.4.2)\n",
      "Requirement already satisfied: pulp in c:\\users\\nutzer\\anaconda3\\lib\\site-packages (2.4)\n",
      "Requirement already satisfied: amply>=0.1.2 in c:\\users\\nutzer\\anaconda3\\lib\\site-packages (from pulp) (0.1.4)\n",
      "Requirement already satisfied: docutils>=0.3 in c:\\users\\nutzer\\anaconda3\\lib\\site-packages (from amply>=0.1.2->pulp) (0.16)\n",
      "Requirement already satisfied: pyparsing in c:\\users\\nutzer\\anaconda3\\lib\\site-packages (from amply>=0.1.2->pulp) (2.4.7)\n",
      "Requirement already satisfied: plotly in c:\\users\\nutzer\\anaconda3\\lib\\site-packages (4.14.1)\n",
      "Requirement already satisfied: retrying>=1.3.3 in c:\\users\\nutzer\\anaconda3\\lib\\site-packages (from plotly) (1.3.3)\n",
      "Requirement already satisfied: six in c:\\users\\nutzer\\anaconda3\\lib\\site-packages (from plotly) (1.15.0)\n",
      "[WinError 2] Das System kann die angegebene Datei nicht finden: 'vehicleroutingproblem'\n",
      "C:\\Users\\Nutzer\\Documents\\GitHub\\vehicleroutingproblem\n"
     ]
    }
   ],
   "source": [
    "#inital run\n",
    "if True:\n",
    "    !pip install networkx\n",
    "    !pip install pulp\n",
    "    !pip install plotly\n",
    "    #!git clone 'https://github.com/nicoelbert/vehicleroutingproblem'\n",
    "    %cd vehicleroutingproblem\n"
   ]
  },
  {
   "cell_type": "code",
   "execution_count": 2,
   "metadata": {
    "colab": {
     "base_uri": "https://localhost:8080/"
    },
    "id": "N0hjaYGWFGBh",
    "outputId": "cfcbddba-4d0d-49cd-c26e-831a384f5d3d"
   },
   "outputs": [
    {
     "data": {
      "text/html": [
       "<style>.container { width:100% !important; }</style>"
      ],
      "text/plain": [
       "<IPython.core.display.HTML object>"
      ]
     },
     "metadata": {},
     "output_type": "display_data"
    }
   ],
   "source": [
    "#import packages\n",
    "import pandas as pd\n",
    "import sys\n",
    "import matplotlib.pyplot as plt\n",
    "from datetime import datetime\n",
    "import logging\n",
    "\n",
    "#custom calsses\n",
    "#!git pull\n",
    "from classes import classes as cl\n",
    "from functions import functions as fc\n",
    "from functions import routing as rt\n",
    "\n",
    "from IPython.core.display import display, HTML\n",
    "display(HTML(\"<style>.container { width:100% !important; }</style>\"))\n",
    "#connect drive for exports\n",
    "#!pip install google\n",
    "#from google.colab import drive\n",
    "#drive.mount('/content/drive')\n",
    "string_exp_path = 'output'\n"
   ]
  },
  {
   "cell_type": "code",
   "execution_count": 3,
   "metadata": {
    "id": "eKuQf2PJYsD5"
   },
   "outputs": [],
   "source": [
    "logging.basicConfig(filename=\"inital_routing_log.log\", level=logging.INFO)\n"
   ]
  },
  {
   "cell_type": "code",
   "execution_count": 4,
   "metadata": {
    "colab": {
     "base_uri": "https://localhost:8080/"
    },
    "id": "WX6z7V4vzOcr",
    "outputId": "d4e665f2-c776-46dc-f3f4-782e49075549"
   },
   "outputs": [],
   "source": [
    "#!git pull\n",
    "#ls()"
   ]
  },
  {
   "cell_type": "markdown",
   "metadata": {
    "id": "Cgh5s_hiWG8d"
   },
   "source": []
  },
  {
   "cell_type": "markdown",
   "metadata": {
    "id": "lUxo_NKsCbDa"
   },
   "source": [
    "##Data Import"
   ]
  },
  {
   "cell_type": "code",
   "execution_count": null,
   "metadata": {
    "id": "Hd9tiPHkE-t9"
   },
   "outputs": [],
   "source": []
  },
  {
   "cell_type": "code",
   "execution_count": null,
   "metadata": {
    "colab": {
     "base_uri": "https://localhost:8080/"
    },
    "id": "a2c2UpP-8FZm",
    "outputId": "6dcfef62-aee8-468a-d6d6-c7b642d0d6da"
   },
   "outputs": [
    {
     "name": "stdout",
     "output_type": "stream",
     "text": [
      "Starting with Data Import at 19:22:35\n",
      "15 depots created\n",
      "8 plants created\n",
      "6166 sites created\n"
     ]
    }
   ],
   "source": [
    "#depot masterdata\n",
    "fc.print_log(\"Starting with Data Import at {}\".format(fc.get_time()))\n",
    "\n",
    "\n",
    "\n",
    "#load Masterdata from csv\n",
    "url = 'https://raw.githubusercontent.com/nicoelbert/vehicleroutingproblem/main/original_data/Depots.csv'\n",
    "df_depots = pd.read_csv(url)\n",
    "\n",
    "\n",
    "#load basetable\n",
    "url = 'https://raw.githubusercontent.com/nicoelbert/vehicleroutingproblem/main/original_data/preparedJobs.csv'\n",
    "df_jobs_org = pd.read_csv(url)\n",
    "\n",
    "#create and fill dict_depots\n",
    "\n",
    "dict_depots = {}\n",
    "list_depots = []\n",
    "\n",
    "for index, row in df_depots.iterrows():\n",
    "  depot = cl.Depot(row['Werk'],row['Werk_lon'],row['Werk_lat'])\n",
    "  dict_depots[row['Werk']] = depot\n",
    "  list_depots.append(depot)\n",
    "\n",
    "\n",
    "fc.print_log(\"{} depots created\".format(len(dict_depots)))\n",
    "\n",
    "#create and fill plants from df_jobs_org\n",
    "dict_plants = {}\n",
    "list_plants = []\n",
    "\n",
    "list_plant_names = df_jobs_org['Werk'].unique() \n",
    "\n",
    "for pn in list_plant_names:\n",
    "  row = df_jobs_org[df_jobs_org['Werk'] == pn].iloc[0]\n",
    "  plant = cl.Plant(row.Werk,row.Werk_lon,row.Werk_lat)\n",
    "  dict_plants[plant.name] = plant\n",
    "  list_plants.append(plant)\n",
    "\n",
    "fc.print_log(\"{} plants created\".format(len(dict_plants)))\n",
    "\n",
    "#create and fill sites from df_jobs_org\n",
    "\n",
    "dict_sites = {}\n",
    "list_sites = []\n",
    "\n",
    "df_sites = df_jobs_org[['plz','lon','lat']].copy()\n",
    "df_sites.drop_duplicates(inplace=True)\n",
    "\n",
    "\n",
    "for index, row in df_sites.iterrows():\n",
    "  site = cl.Site(row.plz,row.lon,row.lat)\n",
    "  dict_sites[site.name] = site\n",
    "  list_sites.append(site)\n",
    "\n",
    "\n",
    "fc.print_log(\"{} sites created\".format(len(dict_sites)))\n",
    "\n",
    "#create and fill jobs from df_jobs_org\n",
    "dict_jobs = {}\n",
    "list_jobs = []\n",
    "list_emsen_jobs = []\n",
    "\n",
    "for index, row in df_jobs_org.iterrows():\n",
    "  plant = dict_plants[row.Werk]\n",
    "  site_name = str(row.plz) + '/' +str(row.lon) + '/' + str(row.lat)\n",
    "  site = dict_sites[site_name]\n",
    "  prox_depot = rt.get_proxdepot(site,plant,list_depots)\n",
    "  job = cl.Job(row.id, row.key, plant,row.Maschinentechnik,row.Material,row.Start_clean,(row.Start_clean + row.Werktage), row.Werktage, site, prox_depot )\n",
    "  dict_jobs[job.name] = job\n",
    "  list_jobs.append(job)\n",
    "\n",
    "\n",
    "fc.print_log(\"{} jobs created\".format(len(dict_jobs)))\n",
    "\n",
    "#create list of days\n",
    "# since the timespan is 1208 days and there are only 895 relevant days lets work with these first\n",
    "#create 10 extra days on each bound to avoid key errors\n",
    "\n",
    "list_days = []\n",
    "day_ub = 0\n",
    "day_lb = 999999999\n",
    "\n",
    "for j in list_jobs: \n",
    "  if j.start not in list_days:\n",
    "    list_days.append(j.start)\n",
    "  if j.end not in list_days:\n",
    "    list_days.append(j.end)\n",
    "    \n",
    "for day in list_days:\n",
    "    if day > day_ub:\n",
    "        day_ub = day\n",
    "    if day_lb < day_lb: \n",
    "        day_lb = day\n",
    "\n",
    "for i in range(10):\n",
    "    list_days.append(day_ub+i)\n",
    "    list_days.append(day_lb-i)\n",
    "\n",
    "\n",
    "list_days.sort()\n",
    "fc.print_log(\"Working with {} relevant days\".format(len(list_days)))\n",
    "\n",
    "#create one tour for each day and depot\n",
    "\n",
    "dict_tours = {}\n",
    "total_tours_created = 0\n",
    "\n",
    "for depot in dict_depots:\n",
    "  dict_tours[depot] = {}\n",
    "\n",
    "for depot in list_depots:\n",
    "  for day in list_days:\n",
    "    dict_tours[depot.name][day] = cl.Tour(depot,day)\n",
    "  total_tours_created += len(dict_tours[depot.name])\n",
    "\n",
    "fc.print_log(\"{} tours created\".format(total_tours_created))\n",
    "\n",
    "#define dict of objects for persistation\n",
    "persistation_objects = {}\n",
    "persistation_objects['dict_depots'] = dict_depots\n",
    "persistation_objects['dict_sites'] = dict_sites\n",
    "persistation_objects['dict_plants'] = dict_plants\n",
    "persistation_objects['dict_jobs'] = dict_jobs\n",
    "persistation_objects['dict_tours'] = dict_tours\n",
    "persistation_objects['list_days'] = list_days\n",
    "\n",
    "    \n",
    "fc.print_log(\"Done with Data Import at {}\".format(fc.get_time()))"
   ]
  },
  {
   "cell_type": "markdown",
   "metadata": {
    "id": "6c67MQUaCxsE"
   },
   "source": [
    "Visualize Data\n"
   ]
  },
  {
   "cell_type": "code",
   "execution_count": null,
   "metadata": {
    "colab": {
     "base_uri": "https://localhost:8080/",
     "height": 664
    },
    "id": "ELOJlf9fG7aH",
    "outputId": "ee45aa70-4ac7-4da3-b033-449854c82793"
   },
   "outputs": [],
   "source": [
    "fc.get_map(list_depots,list_plants,list_sites)"
   ]
  },
  {
   "cell_type": "markdown",
   "metadata": {
    "id": "_krSgFrHWrIQ"
   },
   "source": [
    "Inital Solution"
   ]
  },
  {
   "cell_type": "code",
   "execution_count": null,
   "metadata": {
    "colab": {
     "base_uri": "https://localhost:8080/"
    },
    "id": "YFuFG2yI0_A8",
    "outputId": "757ed44a-973b-4fc2-d2c8-63bca9ac83e4"
   },
   "outputs": [],
   "source": [
    "#create inital solution\n",
    "\"\"\" every silo is delivered on the day it is needed and picked up the day it is not needed anymore, the tour swichtes between plant and sites - starting and ending at the depot\"\"\"\n",
    "\n",
    "fc.print_log(\"Starting with inital solution at {}\".format(fc.get_time()))\n",
    "\n",
    "#assign start and end day as dropoff and pickup day +/-1 one \n",
    "for j in list_jobs:\n",
    "  j.dropoff_day = fc.day_navigation(j.start,1,list_days) #-1\n",
    "  j.pickup_day = fc.day_navigation(j.end,0,list_days) #+1\n",
    "  j.dropoff_depot = j.prox_depot\n",
    "  j.pickup_depot = j.prox_depot\n",
    "\n",
    "  #assign inital tours\n",
    "  j.dropoff_tour = dict_tours[j.dropoff_depot.name][j.dropoff_day]\n",
    "  j.pickup_tour = dict_tours[j.pickup_depot.name][j.pickup_day]\n",
    "\n",
    "  #insert jobs and plants into tours for dropoff and pickup\n",
    "  if j not in j.dropoff_tour.list_dropoffs:\n",
    "    j.dropoff_tour.list_dropoffs.append(j)\n",
    "  if j.plant not in j.dropoff_tour.list_plants:\n",
    "    j.dropoff_tour.list_plants.append(j.plant)\n",
    "  \n",
    "  if j not in j.pickup_tour.list_pickups:\n",
    "    j.pickup_tour.list_pickups.append(j)\n",
    "  if j.plant not in j.pickup_tour.list_plants:\n",
    "    j.pickup_tour.list_plants.append(j.plant)\n",
    "  \n",
    "\n",
    "i_pickups = 0\n",
    "i_dropoffs = 0\n",
    "i_multiple_plants = 0\n",
    "\n",
    "\n",
    "######################################################################################################\n",
    "#count the number of pickups and dropoffs and write into the tours, also detect multiple plants \n",
    "for depot in dict_depots:\n",
    "  for day in list_days:\n",
    "    \n",
    "   i_pickups = i_pickups + len(dict_tours[depot][day].list_pickups)\n",
    "   i_dropoffs = i_dropoffs + len(dict_tours[depot][day].list_dropoffs)\n",
    "   dict_tours[depot][day].total_pickups = len(dict_tours[depot][day].list_pickups)\n",
    "   dict_tours[depot][day].total_dropoffs = len(dict_tours[depot][day].list_dropoffs) \n",
    "   dict_tours[depot][day].total_tasks =  dict_tours[depot][day].total_pickups + dict_tours[depot][day].total_dropoffs \n",
    "    \n",
    "   if len(dict_tours[depot][day].list_plants) > 1:\n",
    "     i_multiple_plants = i_multiple_plants + 1\n",
    "     fc.print_log(\"Warning at Tour from {} and day {} - {} plants listed\".format(depot,day,len(dict_tours[depot][day].list_plants)))\n",
    "     p_names = []\n",
    "     for p in dict_tours[depot][day].list_plants:\n",
    "       p_names.append(p.name)\n",
    "     print(p_names)\n",
    "\n",
    "\n",
    "        \n",
    "######################################################################################################\n",
    "#reassign to fit max tours constrai\n",
    "\n",
    "#not set to max tour size too leave room for local moves\n",
    "max_inital_toursize = 100\n",
    "#run as long as max value is exceeded\n",
    "max_exceeded = True\n",
    "#log iteration\n",
    "i_loop_iteration = 0\n",
    "total_reassignments = 0\n",
    "\n",
    "fc.print_log(\"Starting reassignmentat {}\".format(fc.get_time()))\n",
    "\n",
    "while max_exceeded:\n",
    "    i_loop_iteration += 1 \n",
    "    max_exceeded = False\n",
    "    for depot in dict_depots:\n",
    "      for tour_day in list_days:\n",
    "        if dict_tours[depot][tour_day].total_tasks > max_inital_toursize:\n",
    "            if dict_tours[depot][tour_day].total_tasks > max_overflow:\n",
    "                max_exceeded = True\n",
    "                #get difference between max value and tour\n",
    "                difference = dict_tours[depot][tour_day].total_tasks - max_inital_toursize\n",
    "\n",
    "                #define pickups and dropoffs to be moved to another tour\n",
    "                list_moveable_pickups = []\n",
    "                list_moveable_dropoffs = []\n",
    "                #later the worst elements should be moved(when the routing is done, now it doesnt matter)\n",
    "                #while selecting tasks, flatten out pickups and dropoff difference\n",
    "                print(\"iteration: {} difference: {}, total_tasks: {}, day: {}, depot: {} \".format(i_loop_iteration,difference,dict_tours[depot][tour_day].total_tasks,tour_day,depot))\n",
    "                for iteration in range(difference):\n",
    "                    if dict_tours[depot][tour_day].total_dropoffs > dict_tours[depot][tour_day].total_pickups:\n",
    "                        #pop the first task, so appended don't get handed down\n",
    "                        list_moveable_pickups.append(dict_tours[depot][tour_day].list_dropoffs.pop(0))\n",
    "                    else: #else, bc if equal it doesn't matter and pickup can be popped\n",
    "                        list_moveable_pickups.append(dict_tours[depot][tour_day].list_pickups.pop(0))  \n",
    "\n",
    "                dict_tours[depot][tour_day].update_totals()\n",
    "                #now assign all tasks to the next tour - this might create another overflow, but keeps \n",
    "                #the tasks as close to the original date as possible\n",
    "\n",
    "                #days are can not just be added or substracted so the index is determined\n",
    "                tour_day_index = list_days.index(tour_day)\n",
    "\n",
    "                #move dropoffs to tour before:    \n",
    "                for task in list_moveable_dropoffs:\n",
    "                    #read the day before from the days list and append entry\n",
    "                    day_before = list_days[tour_day_index-1]\n",
    "                    dict_tours[depot][day_before].list_dropoffs.append(task)\n",
    "                    dict_tours[depot][day_before].update_totals()\n",
    "\n",
    "\n",
    "                #move pickups to tour after:    \n",
    "                for task in list_moveable_pickups:\n",
    "                    #read the day before from the days list and append entry\n",
    "                    day_after = list_days[tour_day_index+1]\n",
    "                    dict_tours[depot][day_after].list_dropoffs.append(task)\n",
    "                    dict_tours[depot][day_after].update_totals()\n",
    "\n",
    "                total_reassignments += (len(list_moveable_dropoffs)+len(list_moveable_pickups))       \n",
    "\n",
    "        \n",
    "    \n",
    "fc.print_log(\"Done with reassignment at {} - {} tasks reassigned\".format(fc.get_time(),total_reassignments))        \n",
    "\n",
    "######################################################################################################\n",
    "\n",
    "\n",
    "#calculate the routing for the created inital solution\n",
    "total_tours = 0\n",
    "used_tours = 0\n",
    "total_distance = 0\n",
    "sys.setrecursionlimit(100000) # for export\n",
    "\n",
    "for depot in dict_depots:\n",
    "  for day in list_days:\n",
    "    if len(dict_tours[depot][day].list_plants)>0:\n",
    "      #rt.routing(dict_tours[depot][day])\n",
    "      fc.print_log(\"Distance for depot {} on day {} is {} - {}/{}  done - {} filled - {} plant(s) detected - t: {}\".format(depot,day,dict_tours[depot][day].distance,total_tours,total_tours_created,used_tours,len(dict_tours[depot][day].list_plants),fc.get_time()), overwrite_inline = True)\n",
    "      #total_distance += dict_tours[depot][day].distance\n",
    "      used_tours += 1  \n",
    "    for i in range(30):\n",
    "        if total_tours == i*500:\n",
    "            print(i)\n",
    "            #quicksave all data objects every 500 iterations\n",
    "            #fc.quick_save(persistation_objects,string_exp_path,total_tours)\n",
    "    total_tours += 1\n",
    "  \n",
    "print(\"\")\n",
    "fc.print_log(\"There are {} dropoffs and {} pickups listet which creates a difference of {}\".format(i_dropoffs,i_pickups,i_dropoffs-i_pickups))\n",
    "fc.print_log(\"Done with inital solution at {} - total distance: {} - for {} total tours and {} filled\".format(fc.get_time(),total_distance, total_tours, used_tours)) "
   ]
  },
  {
   "cell_type": "markdown",
   "metadata": {
    "id": "DBz8L83wWqvh"
   },
   "source": [
    "Persitate Inital Solution"
   ]
  },
  {
   "cell_type": "code",
   "execution_count": null,
   "metadata": {
    "colab": {
     "base_uri": "https://localhost:8080/"
    },
    "id": "OilcdC1s3VOB",
    "outputId": "1ff431ba-11e3-4fa2-9aa6-99e34ebbc1cd"
   },
   "outputs": [],
   "source": [
    "#fc.persistate(persistation_objects,string_exp_path,'final')\n"
   ]
  },
  {
   "cell_type": "code",
   "execution_count": null,
   "metadata": {},
   "outputs": [],
   "source": []
  },
  {
   "cell_type": "code",
   "execution_count": null,
   "metadata": {},
   "outputs": [],
   "source": []
  },
  {
   "cell_type": "code",
   "execution_count": null,
   "metadata": {},
   "outputs": [],
   "source": [
    "import plotly.graph_objects as go\n",
    "\n",
    "import networkx as nx\n",
    "\n",
    "\n",
    "def visualize_tour(tour: cl.Tour):\n",
    "\n",
    "    last_node = tour.routing_sequence[0]\n",
    "\n",
    "    edge_x = []\n",
    "    edge_y = []\n",
    "    for node in tour.routing_sequence:\n",
    "        x0, y0 = last_node.lon, last_node.lat\n",
    "        x1, y1 = node.lon, node.lat\n",
    "        edge_x.append(x0)\n",
    "        edge_x.append(x1)\n",
    "        edge_x.append(None)\n",
    "        edge_y.append(y0)\n",
    "        edge_y.append(y1)\n",
    "        edge_y.append(None)\n",
    "\n",
    "    edge_trace = go.Scatter(\n",
    "        x=edge_x, y=edge_y,\n",
    "        line=dict(width=0.5, color='#888'),\n",
    "        hoverinfo='none',\n",
    "        mode='lines')\n",
    "\n",
    "    node_x = []\n",
    "    node_y = []\n",
    "    for node in tour.routing_sequence:\n",
    "        x, y = node.lon, node.lat\n",
    "        node_x.append(x)\n",
    "        node_y.append(y)\n",
    "\n",
    "    node_trace = go.Scatter(\n",
    "        x=node_x, y=node_y,\n",
    "        mode='markers',\n",
    "        hoverinfo='text',\n",
    "        marker=dict(\n",
    "            showscale=True,\n",
    "            # colorscale options\n",
    "            # 'Greys' | 'YlGnBu' | 'Greens' | 'YlOrRd' | 'Bluered' | 'RdBu' |\n",
    "            # 'Reds' | 'Blues' | 'Picnic' | 'Rainbow' | 'Portland' | 'Jet' |\n",
    "            # 'Hot' | 'Blackbody' | 'Earth' | 'Electric' | 'Viridis' |\n",
    "            colorscale='YlGnBu',\n",
    "            reversescale=True,\n",
    "            color=[],\n",
    "            size=10,\n",
    "            colorbar=dict(\n",
    "                thickness=15,\n",
    "                title='Node Connections',\n",
    "                xanchor='left',\n",
    "                titleside='right'\n",
    "            ),\n",
    "            line_width=2))\n",
    "\n",
    "    node_adjacencies = []\n",
    "    node_text = []\n",
    "    \"\"\"\n",
    "    for node, adjacencies in enumerate(G.adjacency()):\n",
    "        node_adjacencies.append(len(adjacencies[1]))\n",
    "        node_text.append('# of connections: ' + str(len(adjacencies[1])))\n",
    "\n",
    "    node_trace.marker.color = node_adjacencies\n",
    "    node_trace.text = node_text\n",
    "    \"\"\"\n",
    "    fig = go.Figure(data=[edge_trace, node_trace],\n",
    "                    layout=go.Layout(\n",
    "                        title='<br>Network graph made with Python',\n",
    "                        titlefont_size=16,\n",
    "                        showlegend=False,\n",
    "                        hovermode='closest',\n",
    "                        margin=dict(b=20, l=5, r=5, t=40),\n",
    "                        annotations=[dict(\n",
    "                            text=\"Python code: <a href='https://plotly.com/ipython-notebooks/network-graphs/'> https://plotly.com/ipython-notebooks/network-graphs/</a>\",\n",
    "                            showarrow=False,\n",
    "                            xref=\"paper\", yref=\"paper\",\n",
    "                            x=0.005, y=-0.002)],\n",
    "                        xaxis=dict(showgrid=False, zeroline=False, showticklabels=False),\n",
    "                        yaxis=dict(showgrid=False, zeroline=False, showticklabels=False))\n",
    "                    )\n",
    "    fig.show()\n",
    "\n"
   ]
  },
  {
   "cell_type": "code",
   "execution_count": null,
   "metadata": {
    "id": "bW5prZxMWgW7"
   },
   "outputs": [],
   "source": [
    "rt.routing(dict_tours['Embsen'][17042])\n",
    "visualize_tour(dict_tours['Embsen'][17042])\n"
   ]
  },
  {
   "cell_type": "code",
   "execution_count": null,
   "metadata": {},
   "outputs": [],
   "source": [
    "for node in dict_tours['Embsen'][17042].routing_sequence:\n",
    "    print(node.name)"
   ]
  },
  {
   "cell_type": "markdown",
   "metadata": {
    "id": "vkZaqY1PWgHC"
   },
   "source": []
  },
  {
   "cell_type": "code",
   "execution_count": null,
   "metadata": {
    "id": "waA41SzSQibM"
   },
   "outputs": [],
   "source": []
  },
  {
   "cell_type": "markdown",
   "metadata": {
    "id": "X3xQ2KP36WXQ"
   },
   "source": [
    "##Backup"
   ]
  },
  {
   "cell_type": "code",
   "execution_count": null,
   "metadata": {
    "id": "PrSqTTyZ59N6"
   },
   "outputs": [],
   "source": []
  },
  {
   "cell_type": "code",
   "execution_count": null,
   "metadata": {
    "id": "ZLRzAJhd6IrJ"
   },
   "outputs": [],
   "source": []
  },
  {
   "cell_type": "code",
   "execution_count": null,
   "metadata": {
    "id": "MPnTy1bJMvwK"
   },
   "outputs": [],
   "source": []
  },
  {
   "cell_type": "code",
   "execution_count": null,
   "metadata": {
    "id": "Ts_m2n76kfK5"
   },
   "outputs": [],
   "source": [
    "#backup\n",
    "\n",
    "\"\"\"\n",
    "get runtime for testdays:\n",
    "\n",
    "fc.print_log(\"Starting at {}\".format(fc.get_time()))\n",
    "\n",
    "test_days = [16736,16753,16755,16793,16796,16929,16941,16945,16951,16999,17010,17078,17087,17163,17181]\n",
    "\n",
    "depot = 'Neuherberg'\n",
    "\n",
    "for d in test_days: \n",
    "    fc.print_log(\"Starting 31- {} at {}\".format(d,fc.get_time()))\n",
    "    rt.routing(dict_tours[depot][d])\n",
    "    print(dict_tours[depot][d].distance)\n",
    "    \n",
    "fc.print_log(\"Done at{}\".format(fc.get_time()))\n",
    "    \n",
    "\"\"\""
   ]
  }
 ],
 "metadata": {
  "colab": {
   "authorship_tag": "ABX9TyODo+sMa4fqJJ42BwNSRxHa",
   "include_colab_link": true,
   "name": "Untitled11.ipynb",
   "provenance": [],
   "toc_visible": true
  },
  "kernelspec": {
   "display_name": "Python 3",
   "language": "python",
   "name": "python3"
  },
  "language_info": {
   "codemirror_mode": {
    "name": "ipython",
    "version": 3
   },
   "file_extension": ".py",
   "mimetype": "text/x-python",
   "name": "python",
   "nbconvert_exporter": "python",
   "pygments_lexer": "ipython3",
   "version": "3.8.5"
  }
 },
 "nbformat": 4,
 "nbformat_minor": 1
}
