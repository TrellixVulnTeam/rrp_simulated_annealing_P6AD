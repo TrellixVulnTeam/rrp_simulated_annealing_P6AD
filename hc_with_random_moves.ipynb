{
 "cells": [
  {
   "cell_type": "code",
   "execution_count": null,
   "outputs": [],
   "source": [
    "#import packages\n",
    "import pandas as pd\n",
    "import sys\n",
    "import matplotlib.pyplot as plt\n",
    "from datetime import datetime\n",
    "import logging\n",
    "import numpy as np\n",
    "import copy\n",
    "\n",
    "#custom classes\n",
    "from classes import classes as cl\n",
    "from functions import functions as fc\n",
    "from functions import routing as rt\n",
    "from functions import simulated_annealing as sa\n",
    "import random\n",
    "\n",
    "plt.rcParams.update({'font.size': 22})\n",
    "logging.basicConfig(filename=\"hc_with_random_moves.log\", level=logging.INFO)\n",
    "\n",
    "init_path = 'output/initial_solution'\n",
    "img_exp_path = 'output/graphs/hc_random/'"
   ],
   "metadata": {
    "collapsed": false,
    "pycharm": {
     "name": "#%%\n"
    }
   }
  },
  {
   "cell_type": "markdown",
   "source": [
    "Initiation"
   ],
   "metadata": {
    "collapsed": false,
    "pycharm": {
     "name": "#%% md\n"
    }
   }
  },
  {
   "cell_type": "code",
   "execution_count": null,
   "outputs": [],
   "source": [
    "fc.print_log(\"Starting initiation\")\n",
    "#create empty dict\n",
    "initiation_objects = {'dict_depots': '', 'dict_sites': '', 'dict_plants': '', 'dict_jobs': '', 'dict_tours': '', 'list_days': ''}\n",
    "\n",
    "\n",
    "objects = fc.initiate(initiation_objects,init_path,'final')\n",
    "\n",
    "#load objects\n",
    "list_days = objects['list_days']\n",
    "dict_depots = objects['dict_depots']\n",
    "dict_sites = objects['dict_sites']\n",
    "dict_plants = objects['dict_plants']\n",
    "dict_jobs = objects['dict_jobs']\n",
    "dict_tours = objects['dict_tours']\n",
    "\n",
    "#also create lists for convenience\n",
    "list_depots = [dict_depots[element] for element in dict_depots]\n",
    "list_sites = [dict_sites[element] for element in dict_sites]\n",
    "list_plants = [dict_plants[element] for element in dict_plants]\n",
    "list_jobs = [dict_jobs[element] for element in dict_jobs]\n",
    "list_tours  = [dict_tours[element] for element in dict_tours]\n",
    "\n",
    "\n",
    "fc.print_log(\"Done with initiation\")"
   ],
   "metadata": {
    "collapsed": false,
    "pycharm": {
     "name": "#%%\n"
    }
   }
  },
  {
   "cell_type": "markdown",
   "source": [
    "In the first stage only one depot ist handled, so moves so its all about dropoff and pickup dates"
   ],
   "metadata": {
    "collapsed": false
   }
  },
  {
   "cell_type": "code",
   "execution_count": null,
   "outputs": [],
   "source": [
    "#ov tours\n",
    "for depot in dict_depots:\n",
    "    total_tasks = 0\n",
    "    total_distance = 0\n",
    "    for day in list_days:\n",
    "        total_tasks += dict_tours[depot][day].total_tasks\n",
    "        total_distance += dict_tours[depot][day].distance\n",
    "    print(\"Depot: {}, tasks: {} - distance: {}\".format(depot,total_tasks,total_distance))\n",
    "\n",
    "print(\"done here\")"
   ],
   "metadata": {
    "collapsed": false,
    "pycharm": {
     "name": "#%%\n"
    }
   }
  },
  {
   "cell_type": "code",
   "execution_count": null,
   "outputs": [],
   "source": [
    "print(\"start here\")\n",
    "fc.print_log(\"Start Inital Solution Plot\")\n",
    "\n",
    "#only work with one depot\n",
    "temp_depot = dict_depots['Neuss']\n",
    "list_depots = [temp_depot]\n",
    "dict_depots = {'Neuss': temp_depot}\n",
    "\n",
    "\n",
    "\n",
    "solution_initial = cl.Solution(temp_depot,dict_tours,list_days)\n",
    "\n",
    "solution_initial.plot_tasks(50,exp_prefix = img_exp_path + 'solution_inital_')\n",
    "solution_initial.plot_task_proportion(exp_prefix = img_exp_path + 'solution_inital_')\n",
    "solution_initial.plot_distances(10000,1500,exp_prefix = img_exp_path + 'solution_inital_')\n",
    "\n",
    "fc.print_log(\"Done with  Inital Solution Plot\")\n"
   ],
   "metadata": {
    "collapsed": false,
    "pycharm": {
     "name": "#%%\n"
    }
   }
  },
  {
   "cell_type": "markdown",
   "source": [
    "After having a look at the inital solution, start optimizing\n",
    "\n",
    "Stage 1: Try to level out the proportions between dropoff and pickup on eatch job"
   ],
   "metadata": {
    "collapsed": false,
    "pycharm": {
     "name": "#%% md\n"
    }
   }
  },
  {
   "cell_type": "code",
   "execution_count": null,
   "outputs": [],
   "source": [
    "fc.print_log(\"Start with Stage 1a\")\n",
    "#dict_tours_temp = copy.deepcopy(dict_tours)\n",
    "dict_tours_temp = dict_tours\n",
    "moves_possible = True\n",
    "move_type = 'pickup'\n",
    "move_count = 0\n",
    "loop_count = 0\n",
    "step_count = 0\n",
    "step_count_curr = 0\n",
    "\n",
    "\n",
    "#define temperature schedule\n",
    "temperature = sa.Geometric_Schedule(1,0.95,200)\n",
    "current_temp = temperature.temp_initial\n",
    "#define acceptance function\n",
    "acceptance = sa.NormalizedExponentialAcceptance(solution_initial.total_distance)\n",
    "#define overall statistic\n",
    "dict_statistic = {0: [solution_initial.total_distance, temperature.temp_initial,0,0]}\n",
    "\n",
    "\n",
    "\n",
    "fc.print_log(\"Start Random Moves\")\n",
    "while loop_count < 10000:\n",
    "    move_made = False\n",
    "    job_found = False\n",
    "    try_count = 0\n",
    "    #step_count += 1\n",
    "    #step_count_curr += 1\n",
    "    loop_count += 1\n",
    "\n",
    "    for depot in dict_depots:\n",
    "        #read move_tour and check day_new fit\n",
    "        while job_found == False:\n",
    "            #retrieve random days\n",
    "            day_org = random.choice(list_days)\n",
    "            day_new = random.choice(list_days)\n",
    "\n",
    "            #read random tour and move_job into local variables\n",
    "            tour_org = dict_tours_temp[depot][day_org]\n",
    "\n",
    "            if move_type == 'pickup':\n",
    "\n",
    "                #check if there is a job\n",
    "                if tour_org.list_pickups:\n",
    "                    move_job = random.choice(tour_org.list_pickups)\n",
    "                    job_found = True\n",
    "                else: continue\n",
    "\n",
    "                while day_new < move_job.end:\n",
    "                    day_new = random.choice(list_days)\n",
    "                    try_count +=1\n",
    "                    #if not possible break after 1000 tries\n",
    "                    if try_count > 500: break\n",
    "\n",
    "            elif move_type == 'dropoff':\n",
    "                #check if there is a job\n",
    "                if tour_org.list_dropoffs:\n",
    "                    move_job = random.choice(tour_org.list_dropoffs)\n",
    "                    job_found = True\n",
    "                else: continue\n",
    "\n",
    "                while day_new > move_job.start:\n",
    "                    day_new = random.choice(list_days)\n",
    "                    try_count +=1\n",
    "                    #if not possible break after 1000 tries\n",
    "                    if try_count > 500: break\n",
    "\n",
    "            #retrieve new tour\n",
    "            tour_new = dict_tours_temp[depot][day_new]\n",
    "            #check if list_plants is filled otherwise repeat\n",
    "            if not tour_new.list_plants:\n",
    "                job_found = False\n",
    "\n",
    "        if try_count > 500: break\n",
    "\n",
    "        #evaluate move\n",
    "        distance_delta = sa.evaluate_move(move_type,tour_org,tour_new,move_job)\n",
    "\n",
    "        #check for acceptance - if accepted, reassign\n",
    "        if distance_delta < 0:\n",
    "            #perform move\n",
    "            distance_delta = sa.reassign_job(move_type,tour_org,tour_new,move_job)\n",
    "\n",
    "            #adjust move_bol, statistic and leave for loop\n",
    "            move_made = True\n",
    "            move_count +=1\n",
    "            current_temp = temperature.get_temp(move_count)\n",
    "\n",
    "            last_total_distance = dict_statistic[move_count-1][0]\n",
    "            dict_statistic[move_count] = [last_total_distance + distance_delta,\\\n",
    "                                                               current_temp,move_count,loop_count]\n",
    "\n",
    "        #switch move type\n",
    "        if move_type == 'pickup': move_type = 'dropoff'\n",
    "        else: move_type = 'pickup'\n",
    "\n",
    "\n",
    "\n",
    "\n",
    "    print(\"Current: Loop: {} - Moves: {}                                  \".format(loop_count,move_count),end='\\r')\n",
    "    #export statistics every n iterations\n",
    "    for i in range(20):\n",
    "        if loop_count == 10000 * i + 1:\n",
    "            fc.print_log(\"logging at %s\" % loop_count)\n",
    "            solution_stage_1atemp = cl.Solution(temp_depot,dict_tours_temp,list_days,dev_curr=dict_statistic)\n",
    "            solution_stage_1atemp.plot_tasks(50, exp_prefix = img_exp_path + 'over_time/solution_stage1a_L{}_'.format(loop_count),plot=False)\n",
    "            solution_stage_1atemp.plot_task_proportion(exp_prefix = img_exp_path + 'over_time/solution_stage1a_L{}_'.format(loop_count),plot=False)\n",
    "            solution_stage_1atemp.plot_developement(exp_prefix = img_exp_path + 'over_time/solution_stage1a_L{}_'.format(loop_count),plot=False)\n",
    "\n",
    "if loop_count > 9999:\n",
    "    fc.print_log(\"Loopcount exit\")\n",
    "\n",
    "fc.print_log(\"Final: Loop: {} - Moves: {}\".format(loop_count,move_count))\n",
    "\n",
    "fc.print_log(\"Done with Moves\")\n",
    "\n",
    "solution_stage1a = cl.Solution(temp_depot,dict_tours_temp,list_days,dev_curr=dict_statistic)\n",
    "\n",
    "solution_stage1a.plot_tasks(50,exp_prefix = img_exp_path + 'solution_stage1a')\n",
    "solution_stage1a.plot_task_proportion(exp_prefix = img_exp_path + 'solution_stage1a')\n",
    "solution_stage1a.plot_developement(exp_prefix = img_exp_path + 'solution_stage1a')\n",
    "fc.dict_to_csv(dict_statistic,img_exp_path, 'hc_random_stage_1a')\n",
    "\n",
    "fc.print_log(\"Done with Stage 1a\")\n",
    "steps_1a = step_count\n",
    "\n",
    "#worst pair heuristic"
   ],
   "metadata": {
    "collapsed": false,
    "pycharm": {
     "name": "#%%\n"
    }
   }
  },
  {
   "cell_type": "code",
   "execution_count": null,
   "outputs": [],
   "source": [
    "print(\"old distance: %s\" % solution_initial.total_distance)\n",
    "print(\"new distance: %s\" % solution_stage1a.total_distance)\n",
    "\n",
    "\n",
    "def dict_to_csv(dict_to_write: dict, path: str, name: str):\n",
    "    file = path + name + \".csv\"\n",
    "    with open(file, 'w', newline='') as f:\n",
    "        writer = csv.writer(f)\n",
    "        for i in dict_to_write:\n",
    "            writer.writerow(dict_to_write[i])\n",
    "\n",
    "dict_to_csv(dict_statistic,img_exp_path, 'hc_random_stage_1a')"
   ],
   "metadata": {
    "collapsed": false,
    "pycharm": {
     "name": "#%%\n"
    }
   }
  },
  {
   "cell_type": "code",
   "execution_count": null,
   "outputs": [],
   "source": [],
   "metadata": {
    "collapsed": false,
    "pycharm": {
     "name": "#%%\n"
    }
   }
  }
 ],
 "metadata": {
  "kernelspec": {
   "name": "pycharm-14679e6",
   "language": "python",
   "display_name": "PyCharm (GitHub)"
  },
  "language_info": {
   "codemirror_mode": {
    "name": "ipython",
    "version": 2
   },
   "file_extension": ".py",
   "mimetype": "text/x-python",
   "name": "python",
   "nbconvert_exporter": "python",
   "pygments_lexer": "ipython2",
   "version": "2.7.6"
  },
  "pycharm": {
   "stem_cell": {
    "cell_type": "raw",
    "source": [
     "\n"
    ],
    "metadata": {
     "collapsed": false
    }
   }
  }
 },
 "nbformat": 4,
 "nbformat_minor": 0
}