{
 "cells": [
  {
   "cell_type": "code",
   "execution_count": null,
   "outputs": [],
   "source": [
    "#import packages\n",
    "import pandas as pd\n",
    "import sys\n",
    "import matplotlib.pyplot as plt\n",
    "from datetime import datetime\n",
    "import logging\n",
    "import numpy as np\n",
    "import copy\n",
    "\n",
    "#custom classes\n",
    "from classes import classes as cl\n",
    "from functions import functions as fc\n",
    "from functions import routing as rt\n",
    "from functions import simulated_annealing as sa\n",
    "import random\n",
    "\n",
    "plt.rcParams.update({'font.size': 22})\n",
    "logging.basicConfig(filename=\"sa_worst_pair_opposite.log\", level=logging.INFO)\n",
    "\n",
    "init_path = 'output/initial_solution'\n",
    "img_exp_path = 'output/graphs/sa_worst_pair_opposite/'"
   ],
   "metadata": {
    "collapsed": false,
    "pycharm": {
     "name": "#%%\n",
     "is_executing": true
    }
   }
  },
  {
   "cell_type": "markdown",
   "source": [
    "Initiation"
   ],
   "metadata": {
    "collapsed": false,
    "pycharm": {
     "name": "#%% md\n"
    }
   }
  },
  {
   "cell_type": "code",
   "execution_count": null,
   "outputs": [],
   "source": [
    "fc.print_log(\"Starting initiation\")\n",
    "#create empty dict\n",
    "initiation_objects = {'dict_depots': '', 'dict_sites': '', 'dict_plants': '', 'dict_jobs': '', 'dict_tours': '', 'list_days': ''}\n",
    "\n",
    "\n",
    "objects = fc.initiate(initiation_objects,init_path,'final')\n",
    "\n",
    "#load objects\n",
    "list_days = objects['list_days']\n",
    "dict_depots = objects['dict_depots']\n",
    "dict_sites = objects['dict_sites']\n",
    "dict_plants = objects['dict_plants']\n",
    "dict_jobs = objects['dict_jobs']\n",
    "dict_tours = objects['dict_tours']\n",
    "\n",
    "#also create lists for convenience\n",
    "list_depots = [dict_depots[element] for element in dict_depots]\n",
    "list_sites = [dict_sites[element] for element in dict_sites]\n",
    "list_plants = [dict_plants[element] for element in dict_plants]\n",
    "list_jobs = [dict_jobs[element] for element in dict_jobs]\n",
    "list_tours  = [dict_tours[element] for element in dict_tours]\n",
    "\n",
    "\n",
    "fc.print_log(\"Done with initiation\")"
   ],
   "metadata": {
    "collapsed": false,
    "pycharm": {
     "name": "#%%\n",
     "is_executing": true
    }
   }
  },
  {
   "cell_type": "markdown",
   "source": [
    "In the first stage only one depot ist handled, so moves so its all about dropoff and pickup dates"
   ],
   "metadata": {
    "collapsed": false
   }
  },
  {
   "cell_type": "code",
   "execution_count": null,
   "outputs": [],
   "source": [
    "#ov tours\n",
    "for depot in dict_depots:\n",
    "    total_tasks = 0\n",
    "    total_distance = 0\n",
    "    for day in list_days:\n",
    "        total_tasks += dict_tours[depot][day].total_tasks\n",
    "        total_distance += dict_tours[depot][day].distance\n",
    "    print(\"Depot: {}, tasks: {} - distance: {}\".format(depot,total_tasks,total_distance))\n",
    "\n",
    "print(\"done here\")"
   ],
   "metadata": {
    "collapsed": false,
    "pycharm": {
     "name": "#%%\n",
     "is_executing": true
    }
   }
  },
  {
   "cell_type": "code",
   "execution_count": null,
   "outputs": [],
   "source": [
    "print(\"start here\")\n",
    "fc.print_log(\"Start Inital Solution Plot\")\n",
    "\n",
    "#only work with one depot\n",
    "temp_depot = dict_depots['Neuss']\n",
    "list_depots = [temp_depot]\n",
    "dict_depots = {'Neuss': temp_depot}\n",
    "\n",
    "\n",
    "\n",
    "solution_initial = cl.Solution(temp_depot,dict_tours,list_days)\n",
    "\n",
    "solution_initial.plot_tasks(50,exp_prefix = img_exp_path + 'solution_inital_')\n",
    "solution_initial.plot_task_proportion(exp_prefix = img_exp_path + 'solution_inital_')\n",
    "solution_initial.plot_distances(10000,1500,exp_prefix = img_exp_path + 'solution_inital_')\n",
    "\n",
    "fc.print_log(\"Done with  Inital Solution Plot\")\n"
   ],
   "metadata": {
    "collapsed": false,
    "pycharm": {
     "name": "#%%\n",
     "is_executing": true
    }
   }
  },
  {
   "cell_type": "markdown",
   "source": [
    "After having a look at the inital solution, start optimizing\n",
    "\n",
    "Stage 1: Try to level out the proportions between dropoff and pickup on eatch job"
   ],
   "metadata": {
    "collapsed": false,
    "pycharm": {
     "name": "#%% md\n"
    }
   }
  },
  {
   "cell_type": "code",
   "execution_count": null,
   "outputs": [],
   "source": [
    "fc.print_log(\"Start with Stage 1a\")\n",
    "#dict_tours_temp = copy.deepcopy(dict_tours)\n",
    "dict_tours_temp = dict_tours\n",
    "moves_possible = True\n",
    "move_type = 'pickup'\n",
    "move_count = 0\n",
    "loop_count = 0\n",
    "step_count = 0\n",
    "step_count_curr = 0\n",
    "\n",
    "\n",
    "#define temperature schedule\n",
    "temperature = sa.Geometric_Schedule(1,0.95,200)\n",
    "current_temp = temperature.temp_initial\n",
    "#define acceptance function\n",
    "acceptance = sa.ExponentialAcceptance(solution_initial.total_distance)\n",
    "#define overall statistic\n",
    "dict_statistic = {0: [solution_initial.total_distance, temperature.temp_initial, 0,0]}\n",
    "\n",
    "\n",
    "\n",
    "fc.print_log(\"Start Random Moves with heuristics\")\n",
    "while loop_count < 5000:\n",
    "    loop_count += 1\n",
    "    move_made = False\n",
    "\n",
    "    for depot in dict_depots:\n",
    "        #read move_tour and check day_new fit\n",
    "\n",
    "        tour_org, move_job_pickup, move_job_dropoff, pickup_tour_new, dropoff_tour_new = \\\n",
    "            sa.find_pair_move_opposite(depot,dict_tours_temp,list_days)\n",
    "\n",
    "\n",
    "        #evaluate move\n",
    "        distance_delta_pickup = sa.evaluate_pickup(tour_org,pickup_tour_new,move_job_pickup)\n",
    "        distance_delta_dropoff = sa.evaluate_dropoff(tour_org,dropoff_tour_new,move_job_dropoff)\n",
    "        distance_delta_total = distance_delta_pickup + distance_delta_dropoff\n",
    "\n",
    "        #check for acceptance - if accepted, reassign\n",
    "        if acceptance.get_acc(current_temp,distance_delta_total):\n",
    "\n",
    "            #perform moves\n",
    "            sa.reassign_pickup(tour_org,pickup_tour_new,move_job_pickup)\n",
    "            sa.reassign_dropoff(tour_org,dropoff_tour_new,move_job_dropoff)\n",
    "\n",
    "            #adjust move_bol, statistic and leave for loop\n",
    "            move_made = True\n",
    "            move_count +=1\n",
    "            current_temp = temperature.get_temp(move_count)\n",
    "\n",
    "            last_total_distance = dict_statistic[move_count-1][0]\n",
    "            dict_statistic[move_count] = [last_total_distance + distance_delta_total,\\\n",
    "                                                               current_temp, move_count,loop_count]\n",
    "\n",
    "\n",
    "\n",
    "    print(\"Current: Loop: {} - Moves: {}                                  \".format(loop_count,move_count),end='\\r')\n",
    "    #export statistics every n iterations\n",
    "    for i in range(20):\n",
    "        if loop_count == 1000 * i + 1:\n",
    "            fc.print_log(\"logging at %s\" % loop_count)\n",
    "            solution_stage_1atemp = cl.Solution(temp_depot,dict_tours_temp,list_days,dev_curr=dict_statistic)\n",
    "            solution_stage_1atemp.plot_tasks(50, exp_prefix = img_exp_path + 'over_time/solution_stage1a_L{}_'.format(loop_count),plot=False)\n",
    "            solution_stage_1atemp.plot_task_proportion(exp_prefix = img_exp_path + 'over_time/solution_stage1a_L{}_'.format(loop_count),plot=False)\n",
    "            solution_stage_1atemp.plot_developement(exp_prefix = img_exp_path + 'over_time/solution_stage1a_L{}_'.format(loop_count),plot=False)\n",
    "\n",
    "if loop_count > 9999:\n",
    "    fc.print_log(\"Loopcount exit\")\n",
    "\n",
    "fc.print_log(\"Final: Loop: {} - Moves: {}\".format(loop_count,move_count))\n",
    "\n",
    "fc.print_log(\"Done with Moves\")\n",
    "\n",
    "solution_stage1a = cl.Solution(temp_depot,dict_tours_temp,list_days,dev_curr=dict_statistic)\n",
    "\n",
    "solution_stage1a.plot_tasks(50,exp_prefix = img_exp_path + 'solution_stage1a')\n",
    "solution_stage1a.plot_task_proportion(exp_prefix = img_exp_path + 'solution_stage1a')\n",
    "solution_stage1a.plot_developement(exp_prefix = img_exp_path + 'solution_stage1a')\n",
    "fc.dict_to_csv(dict_statistic,img_exp_path, 'sa_random_stage_1a')\n",
    "\n",
    "\n",
    "fc.print_log(\"Done with Stage 1a\")\n",
    "steps_1a = step_count\n",
    "\n",
    "#worst pair heuristic"
   ],
   "metadata": {
    "collapsed": false,
    "pycharm": {
     "name": "#%%\n",
     "is_executing": true
    }
   }
  },
  {
   "cell_type": "code",
   "execution_count": null,
   "outputs": [],
   "source": [
    "print(\"old distance: %s\" % solution_initial.total_distance)\n",
    "print(\"new distance: %s\" % solution_stage1a.total_distance)\n",
    "\n",
    "\n",
    "\n",
    "\n"
   ],
   "metadata": {
    "collapsed": false,
    "pycharm": {
     "name": "#%%\n",
     "is_executing": true
    }
   }
  },
  {
   "cell_type": "code",
   "execution_count": null,
   "outputs": [],
   "source": [
    "fc.save_object(solution_stage1a, img_exp_path + 'solution_stage1a.pkl')\n"
   ],
   "metadata": {
    "collapsed": false,
    "pycharm": {
     "name": "#%%\n",
     "is_executing": true
    }
   }
  }
 ],
 "metadata": {
  "kernelspec": {
   "name": "pycharm-14679e6",
   "language": "python",
   "display_name": "PyCharm (GitHub)"
  },
  "language_info": {
   "codemirror_mode": {
    "name": "ipython",
    "version": 2
   },
   "file_extension": ".py",
   "mimetype": "text/x-python",
   "name": "python",
   "nbconvert_exporter": "python",
   "pygments_lexer": "ipython2",
   "version": "2.7.6"
  },
  "pycharm": {
   "stem_cell": {
    "cell_type": "raw",
    "source": [
     "\n"
    ],
    "metadata": {
     "collapsed": false
    }
   }
  }
 },
 "nbformat": 4,
 "nbformat_minor": 0
}