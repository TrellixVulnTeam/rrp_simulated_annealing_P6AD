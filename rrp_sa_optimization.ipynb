{
 "cells": [
  {
   "cell_type": "code",
   "execution_count": 1,
   "outputs": [],
   "source": [
    "#import packages\n",
    "import pandas as pd\n",
    "import sys\n",
    "import matplotlib.pyplot as plt\n",
    "from datetime import datetime\n",
    "import logging\n",
    "import numpy as np\n",
    "\n",
    "#custom classes\n",
    "from classes import classes as cl\n",
    "from functions import functions as fc\n",
    "from matplotlib.pyplot import figure\n",
    "from functions import routing as rt\n"
   ],
   "metadata": {
    "collapsed": false,
    "pycharm": {
     "name": "#%%\n"
    }
   }
  },
  {
   "cell_type": "markdown",
   "source": [
    "Initiation"
   ],
   "metadata": {
    "collapsed": false,
    "pycharm": {
     "name": "#%% md\n"
    }
   }
  },
  {
   "cell_type": "code",
   "execution_count": null,
   "outputs": [
    {
     "name": "stdout",
     "output_type": "stream",
     "text": [
      "Starting initiation at 17:12:38\n"
     ]
    }
   ],
   "source": [
    "#create empty dict\n",
    "initiation_objects = {'dict_depots': '', 'dict_sites': '', 'dict_plants': '', 'dict_jobs': '', 'dict_tours': '', 'list_days': ''}\n",
    "init_path = 'output/inital_solution'\n",
    "\n",
    "objects = fc.initiate(initiation_objects,init_path,'final')\n",
    "\n",
    "#load objects\n",
    "list_days = objects['list_days']\n",
    "dict_depots = objects['dict_depots']\n",
    "dict_sites = objects['dict_sites']\n",
    "dict_plants = objects['dict_plants']\n",
    "dict_jobs = objects['dict_jobs']\n",
    "dict_tours = objects['dict_tours']\n",
    "\n",
    "#also create lists for convenience\n",
    "list_depots = [dict_depots[element] for element in dict_depots]\n",
    "list_sites = [dict_sites[element] for element in dict_sites]\n",
    "list_plants = [dict_plants[element] for element in dict_plants]\n",
    "list_jobs = [dict_jobs[element] for element in dict_jobs]\n",
    "list_tours  = [dict_tours[element] for element in dict_tours]"
   ],
   "metadata": {
    "collapsed": false,
    "pycharm": {
     "name": "#%%\n",
     "is_executing": true
    }
   }
  },
  {
   "cell_type": "markdown",
   "source": [
    "In the first stage only one depot ist handled, so moves so its all about dropoff and pickup dates"
   ],
   "metadata": {
    "collapsed": false
   }
  },
  {
   "cell_type": "code",
   "execution_count": null,
   "outputs": [],
   "source": [
    "#find the largest tour\n",
    "for depot in dict_depots:\n",
    "    total_tasks = 0\n",
    "    total_distance = 0\n",
    "    for day in list_days:\n",
    "        total_tasks += dict_tours[depot][day].total_tasks\n",
    "        total_distance += dict_tours[depot][day].distance\n",
    "    print(\"Depot: {}, tasks: {} - distance: {}\".format(depot,total_tasks,total_distance))\n",
    "\n"
   ],
   "metadata": {
    "collapsed": false,
    "pycharm": {
     "name": "#%%\n",
     "is_executing": true
    }
   }
  },
  {
   "cell_type": "code",
   "execution_count": null,
   "outputs": [],
   "source": [
    "#only work with one depot\n",
    "temp_depot = dict_depots['Neuherberg']\n",
    "list_depots = [temp_depot]\n",
    "dict_depots = {'Neuherberg': temp_depot}\n",
    "\n",
    "dict_depots\n",
    "\n",
    "solution_initial = cl.Solution(temp_depot,dict_tours,list_days)\n",
    "\n",
    "solution_initial.plot_tasks()\n",
    "\n",
    "\n"
   ],
   "metadata": {
    "collapsed": false,
    "pycharm": {
     "name": "#%%\n",
     "is_executing": true
    }
   }
  },
  {
   "cell_type": "code",
   "execution_count": null,
   "outputs": [],
   "source": [
    "\"\"\"list tasks\n",
    "\n",
    "i = 0\n",
    "for day in list_days:\n",
    "    dos = solution_initial.dict_dropoffs_daily[day]\n",
    "    pis = solution_initial.dict_pickups_daily[day]\n",
    "    tot = dos + pis\n",
    "\n",
    "    if dos >0:\n",
    "        print(\"Day {}, Total: {}, Dropoffs: {}, Pickups: {}, real day = {}\".format(i,tot,dos,pis,day))\n",
    "\n",
    "    i+= 1\n",
    "\n",
    "\"\"\"\n",
    "\n",
    "\n"
   ],
   "metadata": {
    "collapsed": false,
    "pycharm": {
     "name": "#%% Backup\n",
     "is_executing": true
    }
   }
  }
 ],
 "metadata": {
  "kernelspec": {
   "name": "pycharm-14679e6",
   "language": "python",
   "display_name": "PyCharm (GitHub)"
  },
  "language_info": {
   "codemirror_mode": {
    "name": "ipython",
    "version": 2
   },
   "file_extension": ".py",
   "mimetype": "text/x-python",
   "name": "python",
   "nbconvert_exporter": "python",
   "pygments_lexer": "ipython2",
   "version": "2.7.6"
  },
  "pycharm": {
   "stem_cell": {
    "cell_type": "raw",
    "source": [
     "\n"
    ],
    "metadata": {
     "collapsed": false
    }
   }
  }
 },
 "nbformat": 4,
 "nbformat_minor": 0
}