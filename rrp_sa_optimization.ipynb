{
 "cells": [
  {
   "cell_type": "code",
   "execution_count": null,
   "outputs": [],
   "source": [
    "#import packages\n",
    "import pandas as pd\n",
    "import sys\n",
    "import matplotlib.pyplot as plt\n",
    "from datetime import datetime\n",
    "import logging\n",
    "import numpy as np\n",
    "import copy\n",
    "\n",
    "#custom classes\n",
    "from classes import classes as cl\n",
    "from functions import functions as fc\n",
    "from functions import routing as rt\n",
    "from functions import simulated_annealing as sa\n",
    "\n",
    "plt.rcParams.update({'font.size': 22})\n",
    "logging.basicConfig(filename=\"rrp_sa_optimization.log\", level=logging.INFO)"
   ],
   "metadata": {
    "collapsed": false,
    "pycharm": {
     "name": "#%%\n",
     "is_executing": true
    }
   }
  },
  {
   "cell_type": "markdown",
   "source": [
    "Initiation"
   ],
   "metadata": {
    "collapsed": false,
    "pycharm": {
     "name": "#%% md\n"
    }
   }
  },
  {
   "cell_type": "code",
   "execution_count": null,
   "outputs": [],
   "source": [
    "fc.print_log(\"Starting initiation\")\n",
    "#create empty dict\n",
    "initiation_objects = {'dict_depots': '', 'dict_sites': '', 'dict_plants': '', 'dict_jobs': '', 'dict_tours': '', 'list_days': ''}\n",
    "init_path = 'output/initial_solution'\n",
    "\n",
    "objects = fc.initiate(initiation_objects,init_path,'final')\n",
    "\n",
    "#load objects\n",
    "list_days = objects['list_days']\n",
    "dict_depots = objects['dict_depots']\n",
    "dict_sites = objects['dict_sites']\n",
    "dict_plants = objects['dict_plants']\n",
    "dict_jobs = objects['dict_jobs']\n",
    "dict_tours = objects['dict_tours']\n",
    "\n",
    "#also create lists for convenience\n",
    "list_depots = [dict_depots[element] for element in dict_depots]\n",
    "list_sites = [dict_sites[element] for element in dict_sites]\n",
    "list_plants = [dict_plants[element] for element in dict_plants]\n",
    "list_jobs = [dict_jobs[element] for element in dict_jobs]\n",
    "list_tours  = [dict_tours[element] for element in dict_tours]\n",
    "\n",
    "\n",
    "fc.print_log(\"Done with initiation\")"
   ],
   "metadata": {
    "collapsed": false,
    "pycharm": {
     "name": "#%%\n",
     "is_executing": true
    }
   }
  },
  {
   "cell_type": "markdown",
   "source": [
    "In the first stage only one depot ist handled, so moves so its all about dropoff and pickup dates"
   ],
   "metadata": {
    "collapsed": false
   }
  },
  {
   "cell_type": "code",
   "execution_count": null,
   "outputs": [],
   "source": [
    "#ov tours\n",
    "for depot in dict_depots:\n",
    "    total_tasks = 0\n",
    "    total_distance = 0\n",
    "    for day in list_days:\n",
    "        total_tasks += dict_tours[depot][day].total_tasks\n",
    "        total_distance += dict_tours[depot][day].distance\n",
    "    print(\"Depot: {}, tasks: {} - distance: {}\".format(depot,total_tasks,total_distance))\n",
    "\n",
    "print(\"done here\")"
   ],
   "metadata": {
    "collapsed": false,
    "pycharm": {
     "name": "#%%\n",
     "is_executing": true
    }
   }
  },
  {
   "cell_type": "code",
   "execution_count": null,
   "outputs": [],
   "source": [
    "print(\"start here\")\n",
    "fc.print_log(\"Start Inital Solution Plot\")\n",
    "\n",
    "#only work with one depot\n",
    "temp_depot = dict_depots['Neuss']\n",
    "list_depots = [temp_depot]\n",
    "dict_depots = {'Neuss': temp_depot}\n",
    "\n",
    "\n",
    "\n",
    "solution_initial = cl.Solution(temp_depot,dict_tours,list_days)\n",
    "\n",
    "solution_initial.plot_tasks(50)\n",
    "solution_initial.plot_task_proportion()\n",
    "solution_initial.plot_distances(10000,1500)\n",
    "\n",
    "fc.print_log(\"Done with  Inital Solution Plot\")\n"
   ],
   "metadata": {
    "collapsed": false,
    "pycharm": {
     "name": "#%%\n",
     "is_executing": true
    }
   }
  },
  {
   "cell_type": "markdown",
   "source": [
    "After having a look at the inital solution, start optimizing\n",
    "\n",
    "Stage 1: Try to level out the proportions between dropoff and pickup on eatch job"
   ],
   "metadata": {
    "collapsed": false,
    "pycharm": {
     "name": "#%% md\n"
    }
   }
  },
  {
   "cell_type": "code",
   "execution_count": null,
   "outputs": [],
   "source": [
    "fc.print_log(\"Start with Stage 1a\")\n",
    "#dict_tours_temp = copy.deepcopy(dict_tours)\n",
    "dict_tours_temp = dict_tours\n",
    "moves_possible = True\n",
    "move_count = 0\n",
    "loop_count = 0\n",
    "step_count = 0\n",
    "\n",
    "temperature = sa.Geometric_Schedule(1,0.9,100)\n",
    "dict_statistic = {0: [solution_initial.total_distance, temperature.temp_initial]}\n",
    "\n",
    "\n",
    "fc.print_log(\"Start Moves\")\n",
    "while moves_possible and loop_count < 1000:\n",
    "    move_made = False\n",
    "    for depot in dict_depots:\n",
    "        for day_org in list_days:\n",
    "\n",
    "            #see if there are too many pickups in one job\n",
    "            tour_org = dict_tours_temp[depot][day_org]\n",
    "\n",
    "            if tour_org.total_pickups > tour_org.total_dropoffs:\n",
    "                if tour_org.worst_edge_pickup != '':\n",
    "                    move_job = tour_org.worst_edge_pickup\n",
    "\n",
    "                    #see if there is space for a pickup, and check if it works with the earliest pickup date of the job\n",
    "                    for day_new in list_days:\n",
    "                        tour_new = dict_tours_temp[depot][day_new]\n",
    "                        if tour_new.total_pickups < tour_new.total_dropoffs\\\n",
    "                                and move_job.end > day_new:\n",
    "\n",
    "                            distance_delta = sa.reassign_pickup(tour_org,tour_new,move_job)\n",
    "\n",
    "                            #adjust move_bol, statistic and leave for loop\n",
    "                            move_made = True\n",
    "                            move_count +=1\n",
    "                            step_count += 1\n",
    "                            dict_statistic[step_count] = [dict_statistic[step_count-1][0]-distance_delta, temperature.get_temp(step_count)]\n",
    "                            break\n",
    "\n",
    "                print(\"Current: Loop: {} - Moves: {}                                  \".format(loop_count,move_count),end='\\r')\n",
    "                if loop_count > 999: break\n",
    "\n",
    "\n",
    "\n",
    "    loop_count += 1\n",
    "    moves_possible = move_made\n",
    "\n",
    "    print(\"Current: Loop: {} - Moves: {}                                  \".format(loop_count,move_count),end='\\r')\n",
    "\n",
    "if loop_count > 999:\n",
    "    fc.print_log(\"Loopcount exit\")\n",
    "\n",
    "fc.print_log(\"Final: Loop: {} - Moves: {}\".format(loop_count,move_count))\n",
    "\n",
    "fc.print_log(\"Done with Moves\")\n",
    "solution_stage1a = cl.Solution(temp_depot,dict_tours_temp,list_days,dev_curr=dict_statistic)\n",
    "\n",
    "solution_stage1a.plot_tasks(50)\n",
    "solution_stage1a.plot_task_proportion()\n",
    "solution_stage1a.plot_developement()\n",
    "\n",
    "\n",
    "fc.print_log(\"Done with Stage 1a\")\n",
    "steps_1a = step_count"
   ],
   "metadata": {
    "collapsed": false,
    "pycharm": {
     "name": "#%%\n",
     "is_executing": true
    }
   }
  },
  {
   "cell_type": "code",
   "execution_count": null,
   "outputs": [],
   "source": [
    "print(\"old distance: %s\" % solution_initial.total_distance)\n",
    "print(\"new distance: %s\" % solution_stage1a.total_distance)"
   ],
   "metadata": {
    "collapsed": false,
    "pycharm": {
     "name": "#%%\n",
     "is_executing": true
    }
   }
  },
  {
   "cell_type": "code",
   "execution_count": null,
   "outputs": [],
   "source": [
    "fc.print_log(\"Start with Stage 1b\")\n",
    "\n",
    "dict_tours_temp = dict_tours\n",
    "\n",
    "list_days_reversed = list_days.copy()\n",
    "list_days_reversed.reverse()\n"
   ],
   "metadata": {
    "collapsed": false,
    "pycharm": {
     "name": "#%%\n",
     "is_executing": true
    }
   }
  },
  {
   "cell_type": "code",
   "execution_count": null,
   "outputs": [],
   "source": [
    "moves_possible = True\n",
    "move_count = 0\n",
    "loop_count = 0\n",
    "step_count = steps_1a\n",
    "\n",
    "temperature = sa.Geometric_Schedule(1,0.9,100)\n",
    "dict_statistic = {step_count: [solution_initial.total_distance, temperature.temp_initial]}\n",
    "\n",
    "step_count_curr = 0\n",
    "dict_statistic_curr = {0: [solution_stage1a.total_distance, temperature.temp_initial]}\n",
    "\n",
    "\n",
    "\n",
    "fc.print_log(\"Start Moves\")\n",
    "while moves_possible and loop_count < 1000:\n",
    "    move_made = False\n",
    "    for depot in dict_depots:\n",
    "        for day_org in list_days_reversed:\n",
    "\n",
    "            #see if there are too many pickups in one job\n",
    "            tour_org = dict_tours_temp[depot][day_org]\n",
    "\n",
    "            if tour_org.total_dropoffs > tour_org.total_pickups:\n",
    "                if tour_org.worst_edge_dropoff != '':\n",
    "                    move_job = tour_org.worst_edge_dropoff\n",
    "\n",
    "                    #see if there is space for a dropoff, and check if it works with the latest dropoff date of the job\n",
    "                    for day_new in list_days_reversed:\n",
    "                        tour_new = dict_tours_temp[depot][day_new]\n",
    "                        if tour_new.total_dropoffs < tour_new.total_pickups\\\n",
    "                                and move_job.start < day_new:\n",
    "\n",
    "\n",
    "                            #reassign job\n",
    "                            distance_delta = sa.reassign_dropoff(tour_org,tour_new,move_job)\n",
    "\n",
    "                            #adjust move_bol, statistic and leave for loop\n",
    "                            move_made = True\n",
    "                            move_count +=1\n",
    "                            step_count += 1\n",
    "                            step_count_curr += 1\n",
    "\n",
    "                            last_total_distance = dict_statistic[step_count-1][0]\n",
    "                            dict_statistic[step_count] = [last_total_distance + distance_delta,\\\n",
    "                                                          temperature.get_temp(step_count_curr)]\n",
    "                            dict_statistic_curr[step_count_curr] = dict_statistic[step_count]\n",
    "                            break\n",
    "\n",
    "                print(\"Current: Loop: {} - Moves: {}                                  \".format(loop_count,move_count),end='\\r')\n",
    "                if loop_count > 999: break\n",
    "\n",
    "\n",
    "\n",
    "    loop_count += 1\n",
    "    moves_possible = move_made\n",
    "\n",
    "    print(\"Current: Loop: {} - Moves: {}                                  \".format(loop_count,move_count),end='\\r')\n",
    "\n",
    "if loop_count > 999:\n",
    "    fc.print_log(\"Loopcount exit\")\n",
    "\n",
    "fc.print_log(\"Final: Loop: {} - Moves: {}\".format(loop_count,move_count))\n",
    "\n",
    "fc.print_log(\"Done with Moves\")\n",
    "#create new solutions\n",
    "solution_stage1b = cl.Solution(temp_depot,dict_tours_temp,list_days,\\\n",
    "                               dev_curr=dict_statistic_curr,dev_tot_old=dict_statistic)\n",
    "\n",
    "\n",
    "solution_stage1b.plot_tasks(50)\n",
    "solution_stage1b.plot_task_proportion()\n",
    "fc.print_log(\"Done with Stage 1b\")\n",
    "\n"
   ],
   "metadata": {
    "collapsed": false,
    "pycharm": {
     "name": "#%%\n",
     "is_executing": true
    }
   }
  },
  {
   "cell_type": "code",
   "execution_count": null,
   "outputs": [],
   "source": [
    "solution_stage1b.plot_developement()\n",
    "solution_stage1b.plot_developement(total=True)"
   ],
   "metadata": {
    "collapsed": false,
    "pycharm": {
     "name": "#%%\n",
     "is_executing": true
    }
   }
  },
  {
   "cell_type": "code",
   "execution_count": null,
   "outputs": [],
   "source": [],
   "metadata": {
    "collapsed": false,
    "pycharm": {
     "name": "#%%\n",
     "is_executing": true
    }
   }
  },
  {
   "cell_type": "code",
   "execution_count": null,
   "outputs": [],
   "source": [],
   "metadata": {
    "collapsed": false,
    "pycharm": {
     "name": "#%%\n",
     "is_executing": true
    }
   }
  }
 ],
 "metadata": {
  "kernelspec": {
   "name": "pycharm-14679e6",
   "language": "python",
   "display_name": "PyCharm (GitHub)"
  },
  "language_info": {
   "codemirror_mode": {
    "name": "ipython",
    "version": 2
   },
   "file_extension": ".py",
   "mimetype": "text/x-python",
   "name": "python",
   "nbconvert_exporter": "python",
   "pygments_lexer": "ipython2",
   "version": "2.7.6"
  },
  "pycharm": {
   "stem_cell": {
    "cell_type": "raw",
    "source": [
     "\n"
    ],
    "metadata": {
     "collapsed": false
    }
   }
  }
 },
 "nbformat": 4,
 "nbformat_minor": 0
}