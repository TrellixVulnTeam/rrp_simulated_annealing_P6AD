{
 "cells": [
  {
   "cell_type": "code",
   "execution_count": 1,
   "outputs": [],
   "source": [
    "#import packages\n",
    "import pandas as pd\n",
    "import sys\n",
    "import matplotlib.pyplot as plt\n",
    "from datetime import datetime\n",
    "import logging\n",
    "import numpy as np\n",
    "import copy\n",
    "\n",
    "#custom classes\n",
    "from classes import classes as cl\n",
    "from functions import functions as fc\n",
    "\n",
    "plt.rcParams.update({'font.size': 22})\n",
    "logging.basicConfig(filename=\"rrp_sa_optimization.log\", level=logging.INFO)"
   ],
   "metadata": {
    "collapsed": false,
    "pycharm": {
     "name": "#%%\n"
    }
   }
  },
  {
   "cell_type": "markdown",
   "source": [
    "Initiation"
   ],
   "metadata": {
    "collapsed": false,
    "pycharm": {
     "name": "#%% md\n"
    }
   }
  },
  {
   "cell_type": "code",
   "execution_count": 2,
   "outputs": [
    {
     "name": "stdout",
     "output_type": "stream",
     "text": [
      "Starting initiation at 22:45:15\n"
     ]
    }
   ],
   "source": [
    "fc.print_log(\"Starting initiation\")\n",
    "#create empty dict\n",
    "initiation_objects = {'dict_depots': '', 'dict_sites': '', 'dict_plants': '', 'dict_jobs': '', 'dict_tours': '', 'list_days': ''}\n",
    "init_path = 'output/inital_solution'\n",
    "\n",
    "objects = fc.initiate(initiation_objects,init_path,'final')\n",
    "\n",
    "#load objects\n",
    "list_days = objects['list_days']\n",
    "dict_depots = objects['dict_depots']\n",
    "dict_sites = objects['dict_sites']\n",
    "dict_plants = objects['dict_plants']\n",
    "dict_jobs = objects['dict_jobs']\n",
    "dict_tours = objects['dict_tours']\n",
    "\n",
    "#also create lists for convenience\n",
    "list_depots = [dict_depots[element] for element in dict_depots]\n",
    "list_sites = [dict_sites[element] for element in dict_sites]\n",
    "list_plants = [dict_plants[element] for element in dict_plants]\n",
    "list_jobs = [dict_jobs[element] for element in dict_jobs]\n",
    "list_tours  = [dict_tours[element] for element in dict_tours]\n",
    "\n",
    "\n",
    "fc.print_log(\"Done with initiation\")"
   ],
   "metadata": {
    "collapsed": false,
    "pycharm": {
     "name": "#%%\n"
    }
   }
  },
  {
   "cell_type": "markdown",
   "source": [
    "In the first stage only one depot ist handled, so moves so its all about dropoff and pickup dates"
   ],
   "metadata": {
    "collapsed": false
   }
  },
  {
   "cell_type": "code",
   "execution_count": 3,
   "outputs": [
    {
     "name": "stdout",
     "output_type": "stream",
     "text": [
      "Depot: Neuherberg, tasks: 25454 - distance: 4547134.5148212565\n",
      "Depot: Lauterhofen, tasks: 14329 - distance: 2151298.5445965845\n",
      "Depot: Altbach, tasks: 5534 - distance: 648999.0083624776\n",
      "Depot: Deisslingen, tasks: 0 - distance: 0\n",
      "Depot: Bollschweil, tasks: 1586 - distance: 167723.71699792094\n",
      "Depot: Lampertheim, tasks: 5872 - distance: 1059256.2914196497\n",
      "Depot: Neuss, tasks: 19062 - distance: 2374315.453137417\n",
      "Depot: Embsen, tasks: 9216 - distance: 1121736.368534145\n",
      "Depot: Rottleberode, tasks: 25304 - distance: 6393335.900862844\n",
      "Depot: Fenne, tasks: 0 - distance: 0\n",
      "Depot: Castrop, tasks: 0 - distance: 0\n",
      "Depot: Perl, tasks: 0 - distance: 0\n",
      "Depot: Gnetsch, tasks: 0 - distance: 0\n",
      "Depot: Vogelsdorf, tasks: 0 - distance: 0\n",
      "Depot: Sukow, tasks: 0 - distance: 0\n"
     ]
    }
   ],
   "source": [
    "#ov tours\n",
    "for depot in dict_depots:\n",
    "    total_tasks = 0\n",
    "    total_distance = 0\n",
    "    for day in list_days:\n",
    "        total_tasks += dict_tours[depot][day].total_tasks\n",
    "        total_distance += dict_tours[depot][day].distance\n",
    "    print(\"Depot: {}, tasks: {} - distance: {}\".format(depot,total_tasks,total_distance))\n",
    "\n"
   ],
   "metadata": {
    "collapsed": false,
    "pycharm": {
     "name": "#%%\n"
    }
   }
  },
  {
   "cell_type": "code",
   "execution_count": null,
   "outputs": [],
   "source": [
    "fc.print_log(\"Start Inital Solution Plot\")\n",
    "\n",
    "#only work with one depot\n",
    "temp_depot = dict_depots['Neuss']\n",
    "list_depots = [temp_depot]\n",
    "dict_depots = {'Neuss': temp_depot}\n",
    "\n",
    "\n",
    "\n",
    "solution_initial = cl.Solution(temp_depot,dict_tours,list_days)\n",
    "\n",
    "#figure(num=None, figsize=(8, 6), dpi=80, facecolor='w', edgecolor='k')\n",
    "\n",
    "solution_initial.plot_tasks(50)\n",
    "solution_initial.plot_task_proportion()\n",
    "solution_initial.plot_distances(10000,1500)\n",
    "\n",
    "fc.print_log(\"Done with  Inital Solution Plot\")\n"
   ],
   "metadata": {
    "collapsed": false,
    "pycharm": {
     "name": "#%%\n",
     "is_executing": true
    }
   }
  },
  {
   "cell_type": "markdown",
   "source": [
    "After having a look at the inital solution, start optimizing\n",
    "\n",
    "Stage 1: Try to level out the proportions between dropoff and pickup on eatch job"
   ],
   "metadata": {
    "collapsed": false,
    "pycharm": {
     "name": "#%% md\n"
    }
   }
  },
  {
   "cell_type": "code",
   "execution_count": null,
   "outputs": [],
   "source": [
    "fc.print_log(\"Start with Stage 1\")\n",
    "\n",
    "fc.print_log(\"Start deep copy\")\n",
    "dict_tours_temp = copy.deepcopy(dict_tours)\n",
    "fc.print_log(\"Done with deep copy\")\n",
    "moves_possible = True\n",
    "move_count = 0\n",
    "iteration_count = 0\n",
    "\n",
    "\n",
    "fc.print_log(\"Start Moves\")\n",
    "while moves_possible and iteration_count < 1000:\n",
    "    move_made = False\n",
    "    for depot in dict_depots:\n",
    "        for day_org in list_days:\n",
    "\n",
    "            #see if there are too many pickups in one job\n",
    "            tour_org = dict_tours_temp[depot][day_org]\n",
    "\n",
    "            if tour_org.total_pickups > tour_org.total_dropoffs:\n",
    "                move_job = tour_org.worst_edge_pickup\n",
    "\n",
    "                #see if there is space for a pickup, and check if it works with the earliest pickup date of the job\n",
    "                for day_new in list_days:\n",
    "                    tour_new = dict_tours_temp[depot][day_new]\n",
    "                    if tour_new.total_pickups < tour_new.total_dropoffs\\\n",
    "                            and move_job.end > day_new:\n",
    "\n",
    "                        #move job to new tour\n",
    "                        tour_org.list_pickups.pop(move_job)\n",
    "                        tour_new.list_pickups.append(move_job)\n",
    "\n",
    "                        #adjust values in Tour class\n",
    "                        tour_org.update_totals()\n",
    "                        tour_new.update_totals()\n",
    "                        tour_org.distance_uptodate = False\n",
    "                        tour_new.distance_uptodate = False\n",
    "\n",
    "                        #adjust values in Job class\n",
    "                        move_job.pickup_day = day_new\n",
    "\n",
    "                        #adjust move_bol and leave for loop\n",
    "                        move_made = True\n",
    "                        move_count +=1\n",
    "                        break\n",
    "    iteration_count += 1\n",
    "    moves_possible = move_made\n",
    "\n",
    "    print(\"Current: Iterations: {} - Moves: {}\".format(move_count,iteration_count),end='\\x1b[1K\\r')\n",
    "\n",
    "if(iteration_count > 999):\n",
    "    fc.print_log(\"iteration exit\")\n",
    "\n",
    "fc.print_log(\"Final: Iterations: {} - Moves: {}\".format(move_count,iteration_count))\n",
    "\n",
    "fc.print_log(\"Done with Moves\")\n",
    "solution_stage1 = cl.Solution(temp_depot,dict_tours_temp,list_days)\n",
    "\n",
    "solution_initial.plot_tasks(50)\n",
    "solution_initial.plot_task_proportion()\n",
    "\n",
    "solution_stage1.plot_tasks(50)\n",
    "solution_stage1.plot_task_proportion()\n",
    "fc.print_log(\"Done with Stage 1\")"
   ],
   "metadata": {
    "collapsed": false,
    "pycharm": {
     "name": "#%%\n",
     "is_executing": true
    }
   }
  },
  {
   "cell_type": "code",
   "execution_count": null,
   "outputs": [],
   "source": [],
   "metadata": {
    "collapsed": false,
    "pycharm": {
     "name": "#%%\n",
     "is_executing": true
    }
   }
  },
  {
   "cell_type": "code",
   "execution_count": null,
   "outputs": [],
   "source": [],
   "metadata": {
    "collapsed": false,
    "pycharm": {
     "name": "#%%\n",
     "is_executing": true
    }
   }
  },
  {
   "cell_type": "code",
   "execution_count": null,
   "outputs": [],
   "source": [],
   "metadata": {
    "collapsed": false,
    "pycharm": {
     "name": "#%%\n",
     "is_executing": true
    }
   }
  }
 ],
 "metadata": {
  "kernelspec": {
   "name": "pycharm-14679e6",
   "language": "python",
   "display_name": "PyCharm (GitHub)"
  },
  "language_info": {
   "codemirror_mode": {
    "name": "ipython",
    "version": 2
   },
   "file_extension": ".py",
   "mimetype": "text/x-python",
   "name": "python",
   "nbconvert_exporter": "python",
   "pygments_lexer": "ipython2",
   "version": "2.7.6"
  },
  "pycharm": {
   "stem_cell": {
    "cell_type": "raw",
    "source": [
     "\n"
    ],
    "metadata": {
     "collapsed": false
    }
   }
  }
 },
 "nbformat": 4,
 "nbformat_minor": 0
}