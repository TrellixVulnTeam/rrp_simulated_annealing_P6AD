{
 "cells": [
  {
   "cell_type": "code",
   "execution_count": null,
   "outputs": [],
   "source": [
    "#import packages\n",
    "import pandas as pd\n",
    "import sys\n",
    "import matplotlib.pyplot as plt\n",
    "from datetime import datetime\n",
    "import logging\n",
    "import numpy as np\n",
    "import copy\n",
    "\n",
    "#custom classes\n",
    "from classes import classes as cl\n",
    "from functions import functions as fc\n",
    "from functions import routing as rt\n",
    "from functions import simulated_annealing as sa\n",
    "import random\n",
    "\n",
    "plt.rcParams.update({'font.size': 22})\n",
    "logging.basicConfig(filename=\"sa_lvl_worst_mixed.log\", level=logging.INFO)\n",
    "\n",
    "init_path = 'output/initial_solution'\n",
    "img_exp_path = 'output/graphs/sa_lvl_worst_mixed/'"
   ],
   "metadata": {
    "collapsed": false,
    "pycharm": {
     "name": "#%%\n"
    }
   }
  },
  {
   "cell_type": "markdown",
   "source": [
    "Initiation"
   ],
   "metadata": {
    "collapsed": false,
    "pycharm": {
     "name": "#%% md\n"
    }
   }
  },
  {
   "cell_type": "code",
   "execution_count": null,
   "outputs": [],
   "source": [
    "fc.print_log(\"Starting initiation\")\n",
    "#create empty dict\n",
    "initiation_objects = {'dict_depots': '', 'dict_sites': '', 'dict_plants': '', 'dict_jobs': '', 'dict_tours': '', 'list_days': ''}\n",
    "\n",
    "\n",
    "objects = fc.initiate(initiation_objects,init_path,'final')\n",
    "\n",
    "#load objects\n",
    "list_days = objects['list_days']\n",
    "dict_depots = objects['dict_depots']\n",
    "dict_sites = objects['dict_sites']\n",
    "dict_plants = objects['dict_plants']\n",
    "dict_jobs = objects['dict_jobs']\n",
    "dict_tours = objects['dict_tours']\n",
    "\n",
    "#also create lists for convenience\n",
    "list_depots = [dict_depots[element] for element in dict_depots]\n",
    "list_sites = [dict_sites[element] for element in dict_sites]\n",
    "list_plants = [dict_plants[element] for element in dict_plants]\n",
    "list_jobs = [dict_jobs[element] for element in dict_jobs]\n",
    "list_tours  = [dict_tours[element] for element in dict_tours]\n",
    "\n",
    "\n",
    "fc.print_log(\"Done with initiation\")"
   ],
   "metadata": {
    "collapsed": false,
    "pycharm": {
     "name": "#%%\n"
    }
   }
  },
  {
   "cell_type": "markdown",
   "source": [
    "In the first stage only one depot ist handled, so moves so its all about dropoff and pickup dates"
   ],
   "metadata": {
    "collapsed": false
   }
  },
  {
   "cell_type": "code",
   "execution_count": null,
   "outputs": [],
   "source": [
    "#ov tours\n",
    "for depot in dict_depots:\n",
    "    total_tasks = 0\n",
    "    total_distance = 0\n",
    "    for day in list_days:\n",
    "        total_tasks += dict_tours[depot][day].total_tasks\n",
    "        total_distance += dict_tours[depot][day].distance\n",
    "    print(\"Depot: {}, tasks: {} - distance: {}\".format(depot,total_tasks,total_distance))\n",
    "\n",
    "print(\"done here\")"
   ],
   "metadata": {
    "collapsed": false,
    "pycharm": {
     "name": "#%%\n"
    }
   }
  },
  {
   "cell_type": "code",
   "execution_count": null,
   "outputs": [],
   "source": [
    "print(\"start here\")\n",
    "fc.print_log(\"Start Inital Solution Plot\")\n",
    "\n",
    "#only work with one depot\n",
    "temp_depot = dict_depots['Neuss']\n",
    "list_depots = [temp_depot]\n",
    "dict_depots = {'Neuss': temp_depot}\n",
    "\n",
    "\n",
    "\n",
    "solution_initial = cl.Solution(temp_depot,dict_tours,list_days)\n",
    "\n",
    "solution_initial.plot_tasks(50,exp_prefix = img_exp_path + 'solution_inital_')\n",
    "solution_initial.plot_task_proportion(exp_prefix = img_exp_path + 'solution_inital_')\n",
    "solution_initial.plot_distances(10000,1500,exp_prefix = img_exp_path + 'solution_inital_')\n",
    "\n",
    "fc.print_log(\"Done with  Inital Solution Plot\")\n"
   ],
   "metadata": {
    "collapsed": false,
    "pycharm": {
     "name": "#%%\n"
    }
   }
  },
  {
   "cell_type": "markdown",
   "source": [
    "After having a look at the inital solution, start optimizing\n",
    "\n",
    "Stage 1: Try to level out the proportions between dropoff and pickup on eatch job"
   ],
   "metadata": {
    "collapsed": false,
    "pycharm": {
     "name": "#%% md\n"
    }
   }
  },
  {
   "cell_type": "code",
   "execution_count": null,
   "outputs": [],
   "source": [
    "fc.print_log(\"Start with Stage 1a\")\n",
    "#dict_tours_temp = copy.deepcopy(dict_tours)\n",
    "dict_tours_temp = dict_tours\n",
    "moves_possible = True\n",
    "move_count = 0\n",
    "step_count = 0\n",
    "step_count_curr = 0\n",
    "\n",
    "#define temperature schedule\n",
    "temperature = sa.Geometric_Schedule(1,0.95,200)\n",
    "current_temp = temperature.temp_initial\n",
    "#define acceptance\n",
    "avg_tour_length = solution_initial.total_distance / len(list_days)\n",
    "print(avg_tour_length)\n",
    "acceptance = sa.NormalizedExponentialAcceptance(avg_tour_length)\n",
    "#define overall statistic\n",
    "dict_statistic = {0: [solution_initial.total_distance, temperature.temp_initial,0,0]}\n",
    "\n",
    "\n",
    "\n",
    "fc.print_log(\"Start Moves\")\n",
    "while moves_possible and step_count < 10000:\n",
    "    move_made = False\n",
    "    for depot in dict_depots:\n",
    "        for day_org in list_days:\n",
    "\n",
    "            #see if there are too many pickups in one job\n",
    "            tour_org = dict_tours_temp[depot][day_org]\n",
    "\n",
    "            if tour_org.total_pickups > tour_org.total_dropoffs:\n",
    "                if tour_org.worst_edge_pickup != '':\n",
    "                    move_job = tour_org.worst_edge_pickup\n",
    "                    #see if there is space for a pickup, and check if it works with the earliest pickup date of the job\n",
    "                    for day_new in list_days:\n",
    "                        tour_new = dict_tours_temp[depot][day_new]\n",
    "                        if tour_new.total_pickups < tour_new.total_dropoffs\\\n",
    "                                and move_job.end < day_new:\n",
    "\n",
    "                            #evaluate move\n",
    "                            distance_delta = sa.evaluate_pickup(tour_org,tour_new,move_job)\n",
    "\n",
    "                            #check for acceptance - if accepted, reassign\n",
    "                            if distance_delta<0:\n",
    "\n",
    "                                #perform move\n",
    "                                distance_delta = sa.reassign_pickup(tour_org,tour_new,move_job)\n",
    "\n",
    "                                #adjust move_bol, statistic and leave for loop\n",
    "                                move_made = True\n",
    "                                move_count +=1\n",
    "                                step_count += 1\n",
    "                                step_count_curr += 1\n",
    "                                current_temp = temperature.get_temp(step_count_curr)\n",
    "\n",
    "                                last_total_distance = dict_statistic[step_count-1][0]\n",
    "                                dict_statistic[step_count] = [last_total_distance + distance_delta,\\\n",
    "                                                              current_temp, move_count, step_count]\n",
    "                                break\n",
    "                            else:\n",
    "                                step_count += 1\n",
    "                                last_total_distance = dict_statistic[step_count-1][0]\n",
    "                                dict_statistic[step_count] = [last_total_distance + distance_delta,\\\n",
    "                                                              current_temp, move_count, step_count]\n",
    "                                move_made = True\n",
    "                                break\n",
    "\n",
    "\n",
    "                print(\"Current: Loop: {} - Moves: {}                                  \".format(step_count,move_count),end='\\r')\n",
    "                if step_count > 10000: break\n",
    "\n",
    "\n",
    "\n",
    "    moves_possible = move_made\n",
    "\n",
    "    print(\"Current: Loop: {} - Moves: {}                                  \".format(step_count,move_count),end='\\r')\n",
    "\n",
    "\n",
    "\n",
    "fc.print_log(\"Final: Loop: {} - Moves: {}\".format(step_count,move_count))\n",
    "\n",
    "fc.print_log(\"Done with Moves\")\n",
    "solution_stage1a = cl.Solution(temp_depot,dict_tours_temp,list_days,dev_curr=dict_statistic, dev_tot_old =dict_statistic)\n",
    "\n",
    "solution_stage1a.plot_tasks(50,exp_prefix = img_exp_path + 'solution_stage1a')\n",
    "solution_stage1a.plot_task_proportion(exp_prefix = img_exp_path + 'solution_stage1a')\n",
    "solution_stage1a.plot_developement(exp_prefix = img_exp_path + 'solution_stage1a')\n",
    "\n",
    "\n",
    "fc.print_log(\"Done with Stage 1a\")\n",
    "steps_1a = step_count"
   ],
   "metadata": {
    "collapsed": false,
    "pycharm": {
     "name": "#%%\n"
    }
   }
  },
  {
   "cell_type": "code",
   "execution_count": null,
   "outputs": [],
   "source": [
    "print(\"old distance: %s\" % solution_initial.total_distance)\n",
    "print(\"new distance: %s\" % solution_stage1a.total_distance)"
   ],
   "metadata": {
    "collapsed": false,
    "pycharm": {
     "name": "#%%\n"
    }
   }
  },
  {
   "cell_type": "code",
   "execution_count": null,
   "outputs": [],
   "source": [
    "fc.print_log(\"Start with Stage 1b\")\n",
    "\n",
    "dict_tours_temp = dict_tours\n",
    "\n",
    "list_days_reversed = list_days.copy()\n",
    "list_days_reversed.reverse()\n"
   ],
   "metadata": {
    "collapsed": false,
    "pycharm": {
     "name": "#%%\n"
    }
   }
  },
  {
   "cell_type": "code",
   "execution_count": null,
   "outputs": [],
   "source": [
    "moves_possible = True\n",
    "step_count = steps_1a\n",
    "\n",
    "#define temperature schedule\n",
    "temperature = sa.Geometric_Schedule(1,0.95,200)\n",
    "current_temp = temperature.temp_initial\n",
    "#define acceptance function\n",
    "avg_tour_length = solution_initial.total_distance / len(list_days)\n",
    "print(avg_tour_length)\n",
    "acceptance = sa.NormalizedExponentialAcceptance(avg_tour_length)\n",
    "#define temp staistic\n",
    "step_count_curr = 0\n",
    "dict_statistic_curr = {0: [solution_stage1a.total_distance, temperature.temp_initial]}\n",
    "moves_possible = True\n",
    "\n",
    "\n",
    "fc.print_log(\"Start Moves\")\n",
    "while moves_possible and step_count < 10000:\n",
    "    moves_possible = False\n",
    "    for depot in dict_depots:\n",
    "        for day_org in list_days_reversed:\n",
    "\n",
    "            #see if there are too many pickups in one job\n",
    "            tour_org = dict_tours_temp[depot][day_org]\n",
    "\n",
    "            if tour_org.total_dropoffs > tour_org.total_pickups:\n",
    "                if tour_org.worst_edge_dropoff:\n",
    "                    move_job = tour_org.worst_edge_dropoff\n",
    "                    #see if there is space for a dropoff, and check if it works with the latest dropoff date of the job\n",
    "                    for day_new in list_days_reversed:\n",
    "                        tour_new = dict_tours_temp[depot][day_new]\n",
    "                        if tour_new.total_dropoffs < tour_new.total_pickups\\\n",
    "                                and move_job.start > day_new:\n",
    "\n",
    "                            moves_possible = True\n",
    "                            #evaluate move\n",
    "                            distance_delta = sa.evaluate_dropoff(tour_org,tour_new,move_job)\n",
    "                            #check for acceptance - if accepted, reassign\n",
    "                            if distance_delta<0:\n",
    "                                #perform move\n",
    "                                distance_delta = sa.reassign_dropoff(tour_org,tour_new,move_job)\n",
    "\n",
    "                                #adjust move_bol, statistic and leave for loop\n",
    "                                move_count +=1\n",
    "                                step_count += 1\n",
    "                                step_count_curr += 1\n",
    "                                current_temp = temperature.get_temp(step_count_curr)\n",
    "\n",
    "                                last_total_distance = dict_statistic[step_count-1][0]\n",
    "                                dict_statistic[step_count] = [last_total_distance + distance_delta,\\\n",
    "                                                              current_temp, move_count, step_count]\n",
    "\n",
    "                                break\n",
    "                            else:\n",
    "                                step_count += 1\n",
    "                                last_total_distance = dict_statistic[step_count-1][0]\n",
    "                                dict_statistic[step_count] = [last_total_distance + distance_delta,\\\n",
    "                                                              current_temp, move_count, step_count]\n",
    "                                break\n",
    "\n",
    "\n",
    "\n",
    "\n",
    "\n",
    "                print(\"Current: Loop: {} - Moves: {}                                  \".format(step_count,move_count),end='\\r')\n",
    "                if step_count > 9999: break\n",
    "\n",
    "\n",
    "\n",
    "    print(\"Current: Loop: {} - Moves: {}                                  \".format(step_count,move_count),end='\\r')\n",
    "\n",
    "if step_count > 9999:\n",
    "    fc.print_log(\"Loopcount exit\")\n",
    "\n",
    "fc.print_log(\"Final: Loop: {} - Moves: {}\".format(step_count,move_count))\n",
    "\n",
    "fc.print_log(\"Done with Moves\")\n",
    "#create new solutions\n",
    "solution_stage1b = cl.Solution(temp_depot,dict_tours_temp,list_days,dev_curr=dict_statistic)\n",
    "\n",
    "\n",
    "solution_stage1b.plot_tasks(50,exp_prefix = img_exp_path + 'solution_stage1b')\n",
    "solution_stage1b.plot_task_proportion(exp_prefix = img_exp_path + 'solution_stage1b')\n",
    "fc.print_log(\"Done with Stage 1b\")\n",
    "\n"
   ],
   "metadata": {
    "collapsed": false,
    "pycharm": {
     "name": "#%%\n"
    }
   }
  },
  {
   "cell_type": "code",
   "execution_count": null,
   "outputs": [],
   "source": [
    "print(\"test\")\n",
    "solution_stage1b = cl.Solution(temp_depot,dict_tours_temp,list_days,dev_curr=dict_statistic, dev_tot_old =dict_statistic)\n",
    "solution_stage1b.plot_developement(exp_prefix = img_exp_path + 'solution_stage1b')"
   ],
   "metadata": {
    "collapsed": false,
    "pycharm": {
     "name": "#%%\n"
    }
   }
  },
  {
   "cell_type": "code",
   "execution_count": null,
   "outputs": [],
   "source": [
    "print(\"old distance: %s\" % solution_stage1a.total_distance)\n",
    "print(\"new distance: %s\" % solution_stage1b.total_distance)"
   ],
   "metadata": {
    "collapsed": false,
    "pycharm": {
     "name": "#%%\n"
    }
   }
  },
  {
   "cell_type": "code",
   "execution_count": null,
   "outputs": [],
   "source": [
    "import math\n",
    "\n",
    "fc.print_log(\"Start with Stage 2\")\n",
    "dict_tours_temp = dict_tours\n",
    "moves_possible = True\n",
    "move_type = 'pickup'\n",
    "move_count = 0\n",
    "loop_count = 0\n",
    "step_count: int = 0\n",
    "step_count_curr = 0\n",
    "#check trycount exits for every pair\n",
    "list_movetypes = ['pair','pickup','dropoff']\n",
    "\n",
    "#retrieve avg distance\n",
    "avg_tour_length = solution_initial.total_distance / len(list_days)\n",
    "print(avg_tour_length)\n",
    "\n",
    "#define temperature schedule\n",
    "temperature = sa.Geometric_Schedule(1,0.90,500)\n",
    "current_temp = temperature.temp_initial\n",
    "#define acceptance function\n",
    "acceptance = sa.NormalizedExponentialAcceptance(avg_tour_length)\n",
    "#define overall statistic\n",
    "dict_statistic = {0: [solution_initial.total_distance, temperature.temp_initial, 0,0]}\n",
    "\n",
    "move_type = 'pickup'\n",
    "bad_move_count = 0\n",
    "good_move_count = 0\n",
    "prop_sum = 0\n",
    "\n",
    "fc.print_log(\"Start Random Moves with heuristics\")\n",
    "while loop_count < 10000:\n",
    "    loop_count += 1\n",
    "    step_count += 1\n",
    "    move_made = False\n",
    "\n",
    "    #prefill statistics to avoid key errors\n",
    "    dict_statistic[step_count] = [dict_statistic[step_count-1][0],current_temp, move_count, step_count]\n",
    "    current_temp = temperature.get_temp(step_count)\n",
    "    #stop when all move types are explored to death\n",
    "    if not list_movetypes:\n",
    "        #try to restore the list 5 times\n",
    "        fc.print_log(\"No more movetypes\")\n",
    "        break\n",
    "\n",
    "    for depot in dict_depots:\n",
    "\n",
    "        if move_type == 'pair':\n",
    "            #find moves\n",
    "            tour_org, move_job_pickup, move_job_dropoff, pickup_tour_new, dropoff_tour_new = \\\n",
    "                sa.find_pair_move_worst_random(depot,dict_tours_temp,list_days)\n",
    "        else:\n",
    "            #find move\n",
    "            tour_org, move_job, tour_new = sa.find_single_move_worst_random(move_type, depot, dict_tours_temp,list_days)\n",
    "\n",
    "        #check if trycount exit happend - if yes remove move type\n",
    "        if not tour_org:\n",
    "            fc.print_log(\"Trycount Exit for {}\".format(move_type))\n",
    "            print(list_movetypes)\n",
    "            list_movetypes.remove(move_type)\n",
    "            #check if move types are left\n",
    "            if list_movetypes:\n",
    "                move_type = random.choice(list_movetypes)\n",
    "                print(\"rechose from {}\".format(list_movetypes))\n",
    "                #fill statistics anyway\n",
    "                dict_statistic[step_count] = [dict_statistic[step_count-1][0],current_temp, move_count, step_count]\n",
    "                current_temp = temperature.get_temp(step_count)\n",
    "            break\n",
    "\n",
    "        if move_type == 'pair':\n",
    "            #evaluate move\n",
    "            distance_delta_pickup = sa.evaluate_pickup(tour_org,pickup_tour_new,move_job_pickup)\n",
    "            distance_delta_dropoff = sa.evaluate_dropoff(tour_org,dropoff_tour_new,move_job_dropoff)\n",
    "            distance_delta_total = distance_delta_pickup + distance_delta_dropoff\n",
    "        else:\n",
    "            #evaluate move\n",
    "            distance_delta_total = sa.evaluate_move(move_type,tour_org,tour_new,move_job)\n",
    "\n",
    "        if distance_delta_total < 0:\n",
    "            #print(\\\"{} is negative\\\".format(distance_delta_total))\\n\",\n",
    "            good_move_count += 1\n",
    "        else:\n",
    "            prop = math.exp(-distance_delta_total / ((avg_tour_length/10) * current_temp))\n",
    "            bad_move_count +=1\n",
    "            prop_sum += prop\n",
    "            prop_avg = prop_sum/bad_move_count\n",
    "            full_avg = (prop_sum + good_move_count) / (good_move_count + bad_move_count)\n",
    "            #print(\"Prob for {} at temp {} is {} - AVG: {} - AVG_full: {} -  Good: {} Bad: {}\".format(round(distance_delta_total,2),round(current_temp,2), round(prop,2),round(prop_avg,2),round(full_avg,2), good_move_count,bad_move_count))\n",
    "\n",
    "        #check for acceptance - if accepted, reassign\n",
    "        if acceptance.get_acc(current_temp,distance_delta_total):\n",
    "\n",
    "            if move_type == 'pair':\n",
    "                #perform moves\n",
    "                sa.reassign_pickup(tour_org,pickup_tour_new,move_job_pickup)\n",
    "                sa.reassign_dropoff(tour_org,dropoff_tour_new,move_job_dropoff)\n",
    "            else:\n",
    "                #perform move\n",
    "                sa.reassign_job(move_type,tour_org,tour_new,move_job)\n",
    "\n",
    "            #adjust move_bol, statistic and leave for loop\n",
    "            move_made = True\n",
    "            move_count +=1\n",
    "            current_temp = temperature.get_temp(step_count)\n",
    "\n",
    "            last_total_distance = dict_statistic[step_count-1][0]\n",
    "            dict_statistic[step_count] = [last_total_distance + distance_delta_total,\\\n",
    "                                                               current_temp, move_count,step_count]\n",
    "        else:\n",
    "            dict_statistic[step_count] = [dict_statistic[step_count-1][0],current_temp, move_count, step_count]\n",
    "            current_temp = temperature.get_temp(step_count)\n",
    "        #change move type\n",
    "        move_type = random.choice(list_movetypes)\n",
    "\n",
    "\n",
    "    print(\"Current: Loop: {} - Moves: {}                                  \".format(loop_count,move_count),end='\\r')\n",
    "    #export statistics every n iterations\n",
    "    for i in range(20):\n",
    "        if loop_count == 500 * i + 1:\n",
    "            fc.print_log(\"logging at %s\" % loop_count)\n",
    "            solution_stage_1atemp = cl.Solution(temp_depot,dict_tours_temp,list_days,dev_curr=dict_statistic)\n",
    "            solution_stage_1atemp.plot_tasks(50, exp_prefix = img_exp_path + 'over_time/solution_stage2_L{}_'.format(loop_count),plot=False)\n",
    "            solution_stage_1atemp.plot_task_proportion(exp_prefix = img_exp_path + 'over_time/solution_stage2_L{}_'.format(loop_count),plot=False)\n",
    "            solution_stage_1atemp.plot_developement(exp_prefix = img_exp_path + 'over_time/solution_stage2_L{}_'.format(loop_count),plot=False)\n",
    "            solution_stage_1atemp.plot_distances(10000,1500,exp_prefix = img_exp_path + 'over_time/solution_stage2_L{}_',plot=False)\n",
    "if loop_count > 9999:\n",
    "    fc.print_log(\"Loopcount exit\")\n",
    "\n",
    "fc.print_log(\"Final: Loop: {} - Moves: {}\".format(loop_count,move_count))\n",
    "\n",
    "fc.print_log(\"Done with Moves\")\n",
    "\n",
    "solution_stage2 = cl.Solution(temp_depot,dict_tours_temp,list_days,dev_curr=dict_statistic)\n",
    "\n",
    "solution_stage2.plot_tasks(50,exp_prefix = img_exp_path + 'solution_stage2',plot=False)\n",
    "solution_stage2.plot_task_proportion(exp_prefix = img_exp_path + 'solution_stage2',plot=False)\n",
    "solution_stage2.plot_developement(exp_prefix = img_exp_path + 'solution_stage2',plot=False)\n",
    "solution_stage2.plot_distances(10000,1500,exp_prefix = img_exp_path + 'solution_stage2',plot=False)\n",
    "fc.dict_to_csv(dict_statistic,img_exp_path, 'sa_random_stage_1a')\n",
    "\n",
    "\n",
    "fc.print_log(\"Done with Stage 1a\")\n",
    "steps_1a = step_count\n",
    "\n",
    "#worst pair heuristic"
   ],
   "metadata": {
    "collapsed": false,
    "pycharm": {
     "name": "#%%\n"
    }
   }
  },
  {
   "cell_type": "code",
   "execution_count": null,
   "outputs": [],
   "source": [
    "solution_stage2 = cl.Solution(temp_depot,dict_tours_temp,list_days,dev_curr=dict_statistic)\n",
    "fc.dict_to_csv(dict_statistic,img_exp_path, 'solution_stage2')\n",
    "print(\"old distance: %s\" % solution_initial.total_distance)\n",
    "print(\"new distance: %s\" % solution_stage1a.total_distance)\n",
    "\n",
    "\n",
    "\n",
    "\n"
   ],
   "metadata": {
    "collapsed": false,
    "pycharm": {
     "name": "#%%\n"
    }
   }
  },
  {
   "cell_type": "code",
   "execution_count": null,
   "outputs": [],
   "source": [
    "sys.setrecursionlimit(100000)\n",
    "fc.save_object(solution_stage2, img_exp_path + 'solution_stage1a.pkl')"
   ],
   "metadata": {
    "collapsed": false,
    "pycharm": {
     "name": "#%%\n"
    }
   }
  },
  {
   "cell_type": "code",
   "execution_count": null,
   "outputs": [],
   "source": [
    "print(\"old distance: %s\" % solution_initial.total_distance)\n",
    "print(\"new distance: %s\" % solution_stage2.total_distance)\n"
   ],
   "metadata": {
    "collapsed": false,
    "pycharm": {
     "name": "#%%\n"
    }
   }
  },
  {
   "cell_type": "code",
   "execution_count": null,
   "outputs": [],
   "source": [],
   "metadata": {
    "collapsed": false,
    "pycharm": {
     "name": "#%%\n"
    }
   }
  }
 ],
 "metadata": {
  "kernelspec": {
   "name": "pycharm-14679e6",
   "language": "python",
   "display_name": "PyCharm (GitHub)"
  },
  "language_info": {
   "codemirror_mode": {
    "name": "ipython",
    "version": 2
   },
   "file_extension": ".py",
   "mimetype": "text/x-python",
   "name": "python",
   "nbconvert_exporter": "python",
   "pygments_lexer": "ipython2",
   "version": "2.7.6"
  },
  "pycharm": {
   "stem_cell": {
    "cell_type": "raw",
    "source": [
     "\n"
    ],
    "metadata": {
     "collapsed": false
    }
   }
  }
 },
 "nbformat": 4,
 "nbformat_minor": 0
}